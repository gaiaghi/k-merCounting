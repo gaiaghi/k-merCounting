{
  "cells": [
    {
      "cell_type": "markdown",
      "metadata": {
        "id": "R6G6cNpsUFc2"
      },
      "source": [
        "# <ins>K-mer Counting</ins>\n",
        "Il seguente notebook fornisce un tutorial per l'esecuzione su Google Cloud Platform del progetto [k-merCounting](https://github.com/gaiaghi/k-merCounting), oltre a riportare gli output ottenuti dai test svolti.\n",
        "\n",
        "## 1. Configurazione del progetto Google Cloud Platform (GCP)\n",
        "\n",
        "### - Creazione di un nuovo progetto GCP\n",
        "Tramite l'interfaccia di GCP preferita (console o linea di comando) [creare un nuovo progetto](https://cloud.google.com/resource-manager/docs/creating-managing-projects?hl=it).\n",
        "*In questo notebook il progetto CGP creato è denominato `groovy-vector-406611`.*\n",
        "\n",
        "### - Abilitazioni per il progetto\n",
        "Configurare il progetto appena creato abilitando gli strumenti necessari:\n",
        "*   [abilitare la fatturazione](https://cloud.google.com/billing/docs/how-to/modify-project?hl=it);\n",
        "*   abilitare il servizio Cloud Storage;\n",
        "*   abilitare il servizio Dataproc.\n",
        "\n",
        "\n",
        "\n",
        "\n",
        "\n",
        "\n"
      ]
    },
    {
      "cell_type": "markdown",
      "metadata": {
        "id": "uL7XgZ0IVB3V"
      },
      "source": [
        "##2. Creazione delle variabili d'ambiente\n",
        "\n",
        "*Questo passaggio è opzionale ma consigliato per la completa esecuzione di questo notebook.*\n",
        "\n",
        "Installare il package di python `colab-env` che permette di gestire le variabili d'ambiente in Google Colab. L'esecuzione inizierà l'autenticazione tramite `google.colab.drive.mount` per avere accesso a Google Drive, dove verranno salvate le variabili.\n",
        "\n"
      ]
    },
    {
      "cell_type": "code",
      "execution_count": 17,
      "metadata": {
        "colab": {
          "base_uri": "https://localhost:8080/"
        },
        "id": "gTywyoFAU8j2",
        "outputId": "ee6eb251-2916-45fd-bdca-36ee10c42615"
      },
      "outputs": [
        {
          "output_type": "stream",
          "name": "stdout",
          "text": [
            "  Preparing metadata (setup.py) ... \u001b[?25l\u001b[?25hdone\n",
            "  Building wheel for colab-env (setup.py) ... \u001b[?25l\u001b[?25hdone\n",
            "Mounted at /content/gdrive\n"
          ]
        }
      ],
      "source": [
        "!pip install colab-env -qU\n",
        "import colab_env"
      ]
    },
    {
      "cell_type": "markdown",
      "metadata": {
        "id": "ttmSbRpRWtXf"
      },
      "source": [
        "Aggiungere le variabili d'ambiente tramite `colab_env`.\n",
        "\n",
        "Si specificano: il nome del progetto GCP precedentemente creato; la regione e la zona del cluster di utilizzo (maggiori informazioni alla pagina [Aree Geografiche e Zone - GCP](https://cloud.google.com/compute/docs/regions-zones?hl=it) ); il nome dei bucket per contenere dati e output di esecuzione, che devono essere univoci a livello globale ([Informazioni sui bucket Cloud Storage](https://cloud.google.com/storage/docs/buckets?hl=it#naming))."
      ]
    },
    {
      "cell_type": "code",
      "execution_count": 18,
      "metadata": {
        "id": "TtMF5Hg2Wo3s"
      },
      "outputs": [],
      "source": [
        "colab_env.envvar_handler.add_env(\"PROJECT_ID\", \"groovy-vector-406611\", overwrite=True)\n",
        "colab_env.envvar_handler.add_env(\"CLUSTER_REGION\", \"europe-west4\", overwrite=True)\n",
        "colab_env.envvar_handler.add_env(\"CLUSTER_ZONE\", \"europe-west4-a\", overwrite=True)\n",
        "colab_env.envvar_handler.add_env(\"DATA_BKT\", \"gs://k-mercounting-sec-data/\", overwrite=True)\n",
        "colab_env.envvar_handler.add_env(\"OUTPUT_BKT\", \"gs://k-mercounting-sec-output/\", overwrite=True)"
      ]
    },
    {
      "cell_type": "code",
      "execution_count": 19,
      "metadata": {
        "colab": {
          "base_uri": "https://localhost:8080/"
        },
        "id": "_RETFoouXSUX",
        "outputId": "b24b66a3-ab50-4226-b33f-4b5ea1e5b7c0"
      },
      "outputs": [
        {
          "output_type": "stream",
          "name": "stdout",
          "text": [
            "COLAB_ENV = Active\n",
            "PROJECT_ID = groovy-vector-406611\n",
            "CLUSTER_REGION = europe-west4\n",
            "CLUSTER_ZONE = europe-west4-a\n",
            "DATA_BKT = gs://k-mercounting-sec-data/\n",
            "OUTPUT_BKT = gs://k-mercounting-sec-output/\n"
          ]
        }
      ],
      "source": [
        "# per visualizzare le variabili create\n",
        "!more gdrive/My\\ Drive/vars.env"
      ]
    },
    {
      "cell_type": "markdown",
      "metadata": {
        "id": "v32q_8dUwq5A"
      },
      "source": [
        "##3. Connessione a GCP tramite il notebook e recupero del progetto\n",
        "\n",
        "Il codice del seguente blocco permette di accedere al proprio account di Google Cloud Platform, e di selezionare il progetto GCP precedentemente creato.\n",
        "\n",
        "La selezione del progetto GCP viene effettuata tramite le variabili d'ambiente impostate come sopra. Se si è scelto di non eseguire i blocchi di codice per l'impostazione delle variabili d'ambiente tramite `colab_env` è necessario sostituirele chiamate ad `os.getenv` con le necessarie informazioni.\n",
        "\n"
      ]
    },
    {
      "cell_type": "code",
      "execution_count": 20,
      "metadata": {
        "colab": {
          "base_uri": "https://localhost:8080/"
        },
        "id": "y6xJRxaTw6hi",
        "outputId": "85e353e2-fc19-4c12-8c61-b116d552f015"
      },
      "outputs": [
        {
          "output_type": "stream",
          "name": "stdout",
          "text": [
            "Updated property [core/project].\n"
          ]
        }
      ],
      "source": [
        "from google.colab import auth\n",
        "import os\n",
        "\n",
        "auth.authenticate_user()\n",
        "idProject = os.getenv(\"PROJECT_ID\")\n",
        "!gcloud config set project {idProject}"
      ]
    },
    {
      "cell_type": "markdown",
      "metadata": {
        "id": "UVhJkXgh0ZBq"
      },
      "source": [
        "Quindi, clonare il progetto K-merCounting.\n",
        "Il progetto clonato potrà essere visualizzato nei file di Google Colab (icona della cartella del menù di destra)."
      ]
    },
    {
      "cell_type": "code",
      "execution_count": null,
      "metadata": {
        "colab": {
          "base_uri": "https://localhost:8080/"
        },
        "id": "ZtMbQTi6xpF4",
        "outputId": "1a3d059a-23de-441a-ed37-d9ef73f67e2d"
      },
      "outputs": [
        {
          "output_type": "stream",
          "name": "stdout",
          "text": [
            "Cloning into 'k-merCounting'...\n",
            "remote: Enumerating objects: 467, done.\u001b[K\n",
            "remote: Counting objects: 100% (293/293), done.\u001b[K\n",
            "remote: Compressing objects: 100% (171/171), done.\u001b[K\n",
            "remote: Total 467 (delta 155), reused 197 (delta 68), pack-reused 174\u001b[K\n",
            "Receiving objects: 100% (467/467), 46.30 MiB | 26.64 MiB/s, done.\n",
            "Resolving deltas: 100% (229/229), done.\n"
          ]
        }
      ],
      "source": [
        "!git clone https://github.com/gaiaghi/k-merCounting"
      ]
    },
    {
      "cell_type": "markdown",
      "source": [
        "\n",
        "*La cartella* `data` *di k-merCounting contiene alcuni esempi di sequenze genomiche di piccole dimensioni che verranno utilizzate nelle esecuzioni. Per rendere completo il test, tuttavia, si consiglia di scaricare ulteriori sequenze genomiche, come suggerito nel seguente punto.*"
      ],
      "metadata": {
        "id": "Td7JdUtG5imq"
      }
    },
    {
      "cell_type": "markdown",
      "metadata": {
        "id": "5Qq9ilb83Co3"
      },
      "source": [
        "##4. Creazione dei bucket e caricamento dei file\n",
        "\n",
        "In questa fase verranno creati due bucket, per contenere i dati necessari all'esecuzione (il file jar del progetto e i file di input) e i dati di output.\n",
        "\n",
        "\n",
        "Per le esecuzioni sul cloud verranno usate le sequenze genomiche ottenute dal [NCBI Reference Sequence Database](https://www.ncbi.nlm.nih.gov/refseq/) degli organismi *Saccharomyces cerevisiae* e *Drosophila melanogaster*, entrambi inclusi nel progetto github, oltre agli organismi *Serinus canaria* e *Mus musculus*.\n",
        "\n",
        " I file genomici degli ultimi due organismi elencati sono scaricabili ai seguenti link:\n",
        " - [Mus musculus](https://ftp.ncbi.nlm.nih.gov/genomes/refseq/vertebrate_mammalian/Mus_musculus/reference/GCF_000001635.27_GRCm39/GCF_000001635.27_GRCm39_genomic.fna.gz);\n",
        " - [Serinus canaria](https://ftp.ncbi.nlm.nih.gov/genomes/refseq/vertebrate_other/Serinus_canaria/representative/GCF_022539315.1_serCan2020/GCF_022539315.1_serCan2020_genomic.fna.gz).\n",
        "\n",
        "\n",
        " Infine, creare il file jar del progetto k-merCounting (ad esempio, utilizzando il comando `sbt clean package`).\n",
        "\n"
      ]
    },
    {
      "cell_type": "markdown",
      "source": [
        "###- Creazione dei bucket\n",
        "Creare due bucket di Google Cloud Storage (comando `mb`), rispettivamente per memorizzare il dataset e i risultati dell'algoritmo di K-mer Counting.\n"
      ],
      "metadata": {
        "id": "6k8ykGZBB9dA"
      }
    },
    {
      "cell_type": "code",
      "execution_count": 21,
      "metadata": {
        "colab": {
          "base_uri": "https://localhost:8080/"
        },
        "id": "VcA5by-53Ssx",
        "outputId": "9659d280-c223-460d-c973-72e2dfba1e22"
      },
      "outputs": [
        {
          "output_type": "stream",
          "name": "stdout",
          "text": [
            "Creating gs://k-mercounting-sec-data/...\n",
            "Creating gs://k-mercounting-sec-output/...\n"
          ]
        }
      ],
      "source": [
        "#copia dei nomi dei bucket dalle variabili di ambiente\n",
        "data_name = os.getenv(\"DATA_BKT\")\n",
        "out_name = os.getenv(\"OUTPUT_BKT\")\n",
        "\n",
        "#creazione bucket\n",
        "!gsutil mb -l EUROPE-WEST3 -b on {data_name}\n",
        "!gsutil mb -l EUROPE-WEST3 -b on {out_name}"
      ]
    },
    {
      "cell_type": "markdown",
      "metadata": {
        "id": "KsLhczk7ODo9"
      },
      "source": [
        "###- Caricamento dei file\n",
        "Una volta creati i bucket copiare tutti i file genomici e il file jar nel bucket creato.\n",
        "\n",
        "Nota: *Nell'esecuzione di questo notebook i file presenti nel progetto github sono stati copiati nel bucket GCP tramite linea di comando sotto riportata, mentre i due file genomici più grandi sono stati caricati tramite interfaccia di GCP.\n",
        "È anche possibile caricare i file genomici di* Mus musculus *e* Serinus canaria *nei file del notebook, quindi copiare tutti i file tramite linea di comando aggiungendo le due linee lasciate commentate nel blocco di codice sottostante.*"
      ]
    },
    {
      "cell_type": "code",
      "execution_count": null,
      "metadata": {
        "colab": {
          "base_uri": "https://localhost:8080/"
        },
        "id": "ZbWGCwYrOCeL",
        "outputId": "cdc22e1e-b9a1-40eb-9c2d-f0eec4a41852"
      },
      "outputs": [
        {
          "output_type": "stream",
          "name": "stdout",
          "text": [
            "Copying file://./k-merCounting/data/GCF_000001215.4_Release_6_plus_ISO1_MT_genomic_drosophila_melanogaster.fna.gz [Content-Type=application/octet-stream]...\n",
            "- [1 files][ 42.2 MiB/ 42.2 MiB]                                                \n",
            "Operation completed over 1 objects/42.2 MiB.                                     \n",
            "Copying file://./k-merCounting/data/GCF_000146045.2_R64_genomic_Saccharomyces_cerevisiae.fna.gz [Content-Type=application/octet-stream]...\n",
            "- [1 files][  3.7 MiB/  3.7 MiB]                                                \n",
            "Operation completed over 1 objects/3.7 MiB.                                      \n",
            "Copying file://kmercounting_2.12-0.1.0-SNAPSHOT11.jar [Content-Type=application/java-archive]...\n",
            "-\n",
            "Operation completed over 1 objects/35.5 KiB.                                     \n"
          ]
        }
      ],
      "source": [
        "# copia dei file nel bucket dei dati\n",
        "!gsutil cp ./k-merCounting/data/GCF_000001215.4_Release_6_plus_ISO1_MT_genomic_drosophila_melanogaster.fna.gz {data_name}/\n",
        "!gsutil cp ./k-merCounting/data/GCF_000146045.2_R64_genomic_Saccharomyces_cerevisiae.fna.gz {data_name}/\n",
        "!gsutil cp kmercounting_2.12-0.1.0-SNAPSHOT11.jar {data_name}/\n",
        "#!gsutil cp ./k-merCounting/data/GCF_000001405.40_GRCh38.p14_genomic.fna.gz {data_name}/\n",
        "#!gsutil cp ./k-merCounting/data/GCF_022539315.1_serCan2020_genomic.fna.gz {data_name}/"
      ]
    },
    {
      "cell_type": "markdown",
      "metadata": {
        "id": "x56FikXeJTHM"
      },
      "source": [
        "## 5. Creazione e impostazione dei cluster"
      ]
    },
    {
      "cell_type": "markdown",
      "metadata": {
        "id": "JWrZjYLGpqrB"
      },
      "source": [
        "Recuperare, per comodità, le variabili d'ambiente contenenti la regione e la zona dei cluster, che verranno utilizzate nella creazione dei cluster:"
      ]
    },
    {
      "cell_type": "code",
      "execution_count": 22,
      "metadata": {
        "id": "ZRpDdHlNpf1i"
      },
      "outputs": [],
      "source": [
        "region = os.getenv(\"CLUSTER_REGION\")\n",
        "zone = os.getenv(\"CLUSTER_ZONE\")"
      ]
    },
    {
      "cell_type": "markdown",
      "source": [
        "Seguono tutti i blocchi di codice per la creazione dei cluster utilizzati nell'esecuzione su GCP.\n",
        "\n",
        "Si consiglia, tuttavia, di procedere nell'esecuzione di questo notebook nel seguente modo:\n",
        "- creare un cluster\n",
        "- eseguire i vari test progetto k-merCounting sul cluster creato;\n",
        "- eliminare il cluster;\n",
        "- passare al cluster successivo.\n",
        "\n",
        "\n",
        "Si ricorda, infine, che il progetto k-merCounting è stato sviluppato in accordo con l'immagine cluster `2.1-debian11` (dettagli alla pagina [Versioni release 2.1.x](https://cloud.google.com/dataproc/docs/concepts/versioning/dataproc-release-2.1?hl=it)). In caso di impossibilità di esecuzione del codice su GCP, una possibile causa potrebbe essere l'aggiornamento dell'immagine di default dei cluster Dataproc ad una versione differente. In tal caso è possibile specificare l'immagine che si vuole utilizzare durante la creazione del cluster stesso ([Controllo delle versioni di Dataproc](https://cloud.google.com/dataproc/docs/concepts/versioning/overview?hl=it#selecting_versions)).\n"
      ],
      "metadata": {
        "id": "0ZTbuYIgEzIf"
      }
    },
    {
      "cell_type": "markdown",
      "metadata": {
        "id": "cD2nA07hpo09"
      },
      "source": [
        "### i. Cluster a singolo nodo"
      ]
    },
    {
      "cell_type": "code",
      "execution_count": 41,
      "metadata": {
        "colab": {
          "base_uri": "https://localhost:8080/"
        },
        "id": "kowbkWbJJdhn",
        "outputId": "cf9b1c8d-34fe-4b99-f45c-c32e34a9385c"
      },
      "outputs": [
        {
          "output_type": "stream",
          "name": "stdout",
          "text": [
            "Waiting on operation [projects/groovy-vector-406611/regions/europe-west4/operations/c18e8130-972c-33e7-afc1-80b3fc385a41].\n",
            "\n",
            "\u001b[1;33mWARNING:\u001b[0m No image specified. Using the default image version. It is recommended to select a specific image version in production, as the default image version may change at any time.\n",
            "\u001b[1;33mWARNING:\u001b[0m Consider using Auto Zone rather than selecting a zone manually. See https://cloud.google.com/dataproc/docs/concepts/configuring-clusters/auto-zone\n",
            "\u001b[1;33mWARNING:\u001b[0m Permissions are missing for the default service account '804786195349-compute@developer.gserviceaccount.com', missing permissions: [storage.objects.get, storage.objects.update] on the staging_bucket 'projects/_/buckets/dataproc-staging-europe-west4-804786195349-4q3fuwar'. This usually happens when a custom resource (ex: custom staging bucket) or a user-managed VM Service account has been provided and the default/user-managed service account hasn't been granted enough permissions on the resource. See https://cloud.google.com/dataproc/docs/concepts/configuring-clusters/service-accounts#VM_service_account.\n",
            "\u001b[1;33mWARNING:\u001b[0m Permissions are missing for the default service account '804786195349-compute@developer.gserviceaccount.com', missing permissions: [storage.objects.get, storage.objects.update] on the temp_bucket 'projects/_/buckets/dataproc-temp-europe-west4-804786195349-x5nym9rl'. This usually happens when a custom resource (ex: custom staging bucket) or a user-managed VM Service account has been provided and the default/user-managed service account hasn't been granted enough permissions on the resource. See https://cloud.google.com/dataproc/docs/concepts/configuring-clusters/service-accounts#VM_service_account.\n",
            "\u001b[1;33mWARNING:\u001b[0m The firewall rules for specified network or subnetwork would allow ingress traffic from 0.0.0.0/0, which could be a security risk.\n",
            "Created [https://dataproc.googleapis.com/v1/projects/groovy-vector-406611/regions/europe-west4/clusters/single-node-cluster] Cluster placed in zone [europe-west4-a].\n"
          ]
        }
      ],
      "source": [
        "!gcloud dataproc clusters create single-node-cluster \\\n",
        "  --region {region} \\\n",
        "  --zone {zone} \\\n",
        "  --single-node"
      ]
    },
    {
      "cell_type": "markdown",
      "metadata": {
        "id": "KTEdbrhxq0eQ"
      },
      "source": [
        "### ii. Cluster di tipo `n1-standard-4` con 2 worker"
      ]
    },
    {
      "cell_type": "code",
      "execution_count": 18,
      "metadata": {
        "colab": {
          "base_uri": "https://localhost:8080/"
        },
        "id": "HjP5EB2krA1e",
        "outputId": "85bcd6fd-29f3-43bf-8684-44df66f87350"
      },
      "outputs": [
        {
          "output_type": "stream",
          "name": "stdout",
          "text": [
            "Waiting on operation [projects/groovy-vector-406611/regions/europe-west4/operations/3b09f119-4953-3228-b586-ef7d475dc461].\n",
            "\n",
            "\u001b[1;33mWARNING:\u001b[0m No image specified. Using the default image version. It is recommended to select a specific image version in production, as the default image version may change at any time.\n",
            "\u001b[1;33mWARNING:\u001b[0m Consider using Auto Zone rather than selecting a zone manually. See https://cloud.google.com/dataproc/docs/concepts/configuring-clusters/auto-zone\n",
            "\u001b[1;33mWARNING:\u001b[0m For PD-Standard without local SSDs, we strongly recommend provisioning 1TB or larger to ensure consistently high I/O performance. See https://cloud.google.com/compute/docs/disks/performance for information on disk I/O performance.\n",
            "\u001b[1;33mWARNING:\u001b[0m Permissions are missing for the default service account '804786195349-compute@developer.gserviceaccount.com', missing permissions: [storage.objects.get, storage.objects.update] on the staging_bucket 'projects/_/buckets/dataproc-staging-europe-west4-804786195349-4q3fuwar'. This usually happens when a custom resource (ex: custom staging bucket) or a user-managed VM Service account has been provided and the default/user-managed service account hasn't been granted enough permissions on the resource. See https://cloud.google.com/dataproc/docs/concepts/configuring-clusters/service-accounts#VM_service_account.\n",
            "\u001b[1;33mWARNING:\u001b[0m Permissions are missing for the default service account '804786195349-compute@developer.gserviceaccount.com', missing permissions: [storage.objects.get, storage.objects.update] on the temp_bucket 'projects/_/buckets/dataproc-temp-europe-west4-804786195349-x5nym9rl'. This usually happens when a custom resource (ex: custom staging bucket) or a user-managed VM Service account has been provided and the default/user-managed service account hasn't been granted enough permissions on the resource. See https://cloud.google.com/dataproc/docs/concepts/configuring-clusters/service-accounts#VM_service_account.\n",
            "\u001b[1;33mWARNING:\u001b[0m The firewall rules for specified network or subnetwork would allow ingress traffic from 0.0.0.0/0, which could be a security risk.\n",
            "Created [https://dataproc.googleapis.com/v1/projects/groovy-vector-406611/regions/europe-west4/clusters/two-4standard-cluster] Cluster placed in zone [europe-west4-a].\n"
          ]
        }
      ],
      "source": [
        "!gcloud dataproc clusters create two-4standard-cluster \\\n",
        "  --region {region} \\\n",
        "  --zone {zone} \\\n",
        "  --master-machine-type n1-standard-4\\\n",
        "  --master-boot-disk-size 500 \\\n",
        "  --worker-machine-type n1-standard-4 \\\n",
        "  --num-workers 2 \\\n",
        "  --worker-boot-disk-size 500"
      ]
    },
    {
      "cell_type": "markdown",
      "metadata": {
        "id": "q4FlU0cqrAFg"
      },
      "source": [
        "###iii. Cluster di tipo `n1-standard-8` con 2 worker"
      ]
    },
    {
      "cell_type": "code",
      "execution_count": 33,
      "metadata": {
        "colab": {
          "base_uri": "https://localhost:8080/"
        },
        "id": "bsvh7lpyrW0Z",
        "outputId": "3d50a869-cb8f-4eac-ae7c-4ff307902a83"
      },
      "outputs": [
        {
          "output_type": "stream",
          "name": "stdout",
          "text": [
            "Waiting on operation [projects/groovy-vector-406611/regions/europe-west4/operations/74dc5a83-5f9c-3eec-95ed-130ac472127b].\n",
            "\n",
            "\u001b[1;33mWARNING:\u001b[0m No image specified. Using the default image version. It is recommended to select a specific image version in production, as the default image version may change at any time.\n",
            "\u001b[1;33mWARNING:\u001b[0m Consider using Auto Zone rather than selecting a zone manually. See https://cloud.google.com/dataproc/docs/concepts/configuring-clusters/auto-zone\n",
            "\u001b[1;33mWARNING:\u001b[0m For PD-Standard without local SSDs, we strongly recommend provisioning 1TB or larger to ensure consistently high I/O performance. See https://cloud.google.com/compute/docs/disks/performance for information on disk I/O performance.\n",
            "\u001b[1;33mWARNING:\u001b[0m Permissions are missing for the default service account '804786195349-compute@developer.gserviceaccount.com', missing permissions: [storage.objects.get, storage.objects.update] on the staging_bucket 'projects/_/buckets/dataproc-staging-europe-west4-804786195349-4q3fuwar'. This usually happens when a custom resource (ex: custom staging bucket) or a user-managed VM Service account has been provided and the default/user-managed service account hasn't been granted enough permissions on the resource. See https://cloud.google.com/dataproc/docs/concepts/configuring-clusters/service-accounts#VM_service_account.\n",
            "\u001b[1;33mWARNING:\u001b[0m Permissions are missing for the default service account '804786195349-compute@developer.gserviceaccount.com', missing permissions: [storage.objects.get, storage.objects.update] on the temp_bucket 'projects/_/buckets/dataproc-temp-europe-west4-804786195349-x5nym9rl'. This usually happens when a custom resource (ex: custom staging bucket) or a user-managed VM Service account has been provided and the default/user-managed service account hasn't been granted enough permissions on the resource. See https://cloud.google.com/dataproc/docs/concepts/configuring-clusters/service-accounts#VM_service_account.\n",
            "\u001b[1;33mWARNING:\u001b[0m The firewall rules for specified network or subnetwork would allow ingress traffic from 0.0.0.0/0, which could be a security risk.\n",
            "Created [https://dataproc.googleapis.com/v1/projects/groovy-vector-406611/regions/europe-west4/clusters/two-8standard-cluster] Cluster placed in zone [europe-west4-a].\n"
          ]
        }
      ],
      "source": [
        "!gcloud dataproc clusters create two-8standard-cluster \\\n",
        "  --region {region} \\\n",
        "  --zone {zone} \\\n",
        "  --master-machine-type n1-standard-8\\\n",
        "  --master-boot-disk-size 500 \\\n",
        "  --worker-machine-type n1-standard-8 \\\n",
        "  --num-workers 2 \\\n",
        "  --worker-boot-disk-size 500"
      ]
    },
    {
      "cell_type": "markdown",
      "source": [
        "###iv. Cluster di tipo `n1-standard-4` con 3 worker"
      ],
      "metadata": {
        "id": "0hwVB6vDSuEh"
      }
    },
    {
      "cell_type": "code",
      "source": [
        "!gcloud dataproc clusters create three-4standard-cluster \\\n",
        "  --region {region} \\\n",
        "  --zone {zone} \\\n",
        "  --master-machine-type n1-standard-4 \\\n",
        "  --master-boot-disk-size 500 \\\n",
        "  --worker-machine-type n1-standard-4 \\\n",
        "  --num-workers 3 \\\n",
        "  --worker-boot-disk-size 500"
      ],
      "metadata": {
        "colab": {
          "base_uri": "https://localhost:8080/"
        },
        "id": "YKAQf4wOStH2",
        "outputId": "4b08c8d5-e26e-41a2-b64d-9804a1b11ce6"
      },
      "execution_count": 30,
      "outputs": [
        {
          "output_type": "stream",
          "name": "stdout",
          "text": [
            "Waiting on operation [projects/groovy-vector-406611/regions/europe-west4/operations/c969ec09-cbed-313b-8d49-113124efb253].\n",
            "\n",
            "\u001b[1;33mWARNING:\u001b[0m No image specified. Using the default image version. It is recommended to select a specific image version in production, as the default image version may change at any time.\n",
            "\u001b[1;33mWARNING:\u001b[0m Consider using Auto Zone rather than selecting a zone manually. See https://cloud.google.com/dataproc/docs/concepts/configuring-clusters/auto-zone\n",
            "\u001b[1;33mWARNING:\u001b[0m For PD-Standard without local SSDs, we strongly recommend provisioning 1TB or larger to ensure consistently high I/O performance. See https://cloud.google.com/compute/docs/disks/performance for information on disk I/O performance.\n",
            "\u001b[1;33mWARNING:\u001b[0m Permissions are missing for the default service account '804786195349-compute@developer.gserviceaccount.com', missing permissions: [storage.objects.get, storage.objects.update] on the staging_bucket 'projects/_/buckets/dataproc-staging-europe-west4-804786195349-4q3fuwar'. This usually happens when a custom resource (ex: custom staging bucket) or a user-managed VM Service account has been provided and the default/user-managed service account hasn't been granted enough permissions on the resource. See https://cloud.google.com/dataproc/docs/concepts/configuring-clusters/service-accounts#VM_service_account.\n",
            "\u001b[1;33mWARNING:\u001b[0m Permissions are missing for the default service account '804786195349-compute@developer.gserviceaccount.com', missing permissions: [storage.objects.get, storage.objects.update] on the temp_bucket 'projects/_/buckets/dataproc-temp-europe-west4-804786195349-x5nym9rl'. This usually happens when a custom resource (ex: custom staging bucket) or a user-managed VM Service account has been provided and the default/user-managed service account hasn't been granted enough permissions on the resource. See https://cloud.google.com/dataproc/docs/concepts/configuring-clusters/service-accounts#VM_service_account.\n",
            "\u001b[1;33mWARNING:\u001b[0m The firewall rules for specified network or subnetwork would allow ingress traffic from 0.0.0.0/0, which could be a security risk.\n",
            "Created [https://dataproc.googleapis.com/v1/projects/groovy-vector-406611/regions/europe-west4/clusters/three-4standard-cluster] Cluster placed in zone [europe-west4-a].\n"
          ]
        }
      ]
    },
    {
      "cell_type": "markdown",
      "metadata": {
        "id": "GZgi6-CoreHs"
      },
      "source": [
        "###v. Cluster di tipo `n1-standard-4` con 4 worker"
      ]
    },
    {
      "cell_type": "code",
      "execution_count": 26,
      "metadata": {
        "colab": {
          "base_uri": "https://localhost:8080/"
        },
        "id": "XO6LAM-Creq7",
        "outputId": "0547e9c7-f964-40e0-f735-c8906330063f"
      },
      "outputs": [
        {
          "output_type": "stream",
          "name": "stdout",
          "text": [
            "Waiting on operation [projects/groovy-vector-406611/regions/europe-west4/operations/66746607-66e6-3c6a-940e-e719c2de4e94].\n",
            "\n",
            "\u001b[1;33mWARNING:\u001b[0m No image specified. Using the default image version. It is recommended to select a specific image version in production, as the default image version may change at any time.\n",
            "\u001b[1;33mWARNING:\u001b[0m Consider using Auto Zone rather than selecting a zone manually. See https://cloud.google.com/dataproc/docs/concepts/configuring-clusters/auto-zone\n",
            "\u001b[1;33mWARNING:\u001b[0m For PD-Standard without local SSDs, we strongly recommend provisioning 1TB or larger to ensure consistently high I/O performance. See https://cloud.google.com/compute/docs/disks/performance for information on disk I/O performance.\n",
            "\u001b[1;33mWARNING:\u001b[0m Permissions are missing for the default service account '804786195349-compute@developer.gserviceaccount.com', missing permissions: [storage.objects.get, storage.objects.update] on the staging_bucket 'projects/_/buckets/dataproc-staging-europe-west4-804786195349-4q3fuwar'. This usually happens when a custom resource (ex: custom staging bucket) or a user-managed VM Service account has been provided and the default/user-managed service account hasn't been granted enough permissions on the resource. See https://cloud.google.com/dataproc/docs/concepts/configuring-clusters/service-accounts#VM_service_account.\n",
            "\u001b[1;33mWARNING:\u001b[0m Permissions are missing for the default service account '804786195349-compute@developer.gserviceaccount.com', missing permissions: [storage.objects.get, storage.objects.update] on the temp_bucket 'projects/_/buckets/dataproc-temp-europe-west4-804786195349-x5nym9rl'. This usually happens when a custom resource (ex: custom staging bucket) or a user-managed VM Service account has been provided and the default/user-managed service account hasn't been granted enough permissions on the resource. See https://cloud.google.com/dataproc/docs/concepts/configuring-clusters/service-accounts#VM_service_account.\n",
            "\u001b[1;33mWARNING:\u001b[0m The firewall rules for specified network or subnetwork would allow ingress traffic from 0.0.0.0/0, which could be a security risk.\n",
            "Created [https://dataproc.googleapis.com/v1/projects/groovy-vector-406611/regions/europe-west4/clusters/four-4standard-cluster] Cluster placed in zone [europe-west4-a].\n"
          ]
        }
      ],
      "source": [
        "!gcloud dataproc clusters create four-4standard-cluster \\\n",
        "  --region {region} \\\n",
        "  --zone {zone} \\\n",
        "  --master-machine-type n1-standard-4 \\\n",
        "  --master-boot-disk-size 500 \\\n",
        "  --worker-machine-type n1-standard-4 \\\n",
        "  --num-workers 4 \\\n",
        "  --worker-boot-disk-size 500"
      ]
    },
    {
      "cell_type": "markdown",
      "metadata": {
        "id": "zTo4v-rNrxCG"
      },
      "source": [
        "###vi. Cluster di tipo `n1-standard-4` con 5 worker"
      ]
    },
    {
      "cell_type": "code",
      "execution_count": 43,
      "metadata": {
        "colab": {
          "base_uri": "https://localhost:8080/"
        },
        "id": "WHdyVWZQr5S0",
        "outputId": "59826bc1-aec2-4b03-c99a-4914f354f832"
      },
      "outputs": [
        {
          "output_type": "stream",
          "name": "stdout",
          "text": [
            "Waiting on operation [projects/groovy-vector-406611/regions/europe-west4/operations/ceeddbee-6bf1-383a-a099-071e78c55e03].\n",
            "\n",
            "\u001b[1;33mWARNING:\u001b[0m No image specified. Using the default image version. It is recommended to select a specific image version in production, as the default image version may change at any time.\n",
            "\u001b[1;33mWARNING:\u001b[0m Consider using Auto Zone rather than selecting a zone manually. See https://cloud.google.com/dataproc/docs/concepts/configuring-clusters/auto-zone\n",
            "\u001b[1;33mWARNING:\u001b[0m For PD-Standard without local SSDs, we strongly recommend provisioning 1TB or larger to ensure consistently high I/O performance. See https://cloud.google.com/compute/docs/disks/performance for information on disk I/O performance.\n",
            "\u001b[1;33mWARNING:\u001b[0m Permissions are missing for the default service account '804786195349-compute@developer.gserviceaccount.com', missing permissions: [storage.objects.get, storage.objects.update] on the staging_bucket 'projects/_/buckets/dataproc-staging-europe-west4-804786195349-4q3fuwar'. This usually happens when a custom resource (ex: custom staging bucket) or a user-managed VM Service account has been provided and the default/user-managed service account hasn't been granted enough permissions on the resource. See https://cloud.google.com/dataproc/docs/concepts/configuring-clusters/service-accounts#VM_service_account.\n",
            "\u001b[1;33mWARNING:\u001b[0m Permissions are missing for the default service account '804786195349-compute@developer.gserviceaccount.com', missing permissions: [storage.objects.get, storage.objects.update] on the temp_bucket 'projects/_/buckets/dataproc-temp-europe-west4-804786195349-x5nym9rl'. This usually happens when a custom resource (ex: custom staging bucket) or a user-managed VM Service account has been provided and the default/user-managed service account hasn't been granted enough permissions on the resource. See https://cloud.google.com/dataproc/docs/concepts/configuring-clusters/service-accounts#VM_service_account.\n",
            "\u001b[1;33mWARNING:\u001b[0m The firewall rules for specified network or subnetwork would allow ingress traffic from 0.0.0.0/0, which could be a security risk.\n",
            "Created [https://dataproc.googleapis.com/v1/projects/groovy-vector-406611/regions/europe-west4/clusters/five-4standard-cluster] Cluster placed in zone [europe-west4-a].\n"
          ]
        }
      ],
      "source": [
        "!gcloud dataproc clusters create five-4standard-cluster \\\n",
        "  --region {region} \\\n",
        "  --zone {zone} \\\n",
        "  --master-machine-type n1-standard-4 \\\n",
        "  --master-boot-disk-size 500 \\\n",
        "  --worker-machine-type n1-standard-4 \\\n",
        "  --num-workers 5 \\\n",
        "  --worker-boot-disk-size 500"
      ]
    },
    {
      "cell_type": "markdown",
      "source": [
        "---"
      ],
      "metadata": {
        "id": "dpr8HDmp0Hfz"
      }
    },
    {
      "cell_type": "markdown",
      "metadata": {
        "id": "88ODMQF_JdvW"
      },
      "source": [
        "## 6. Esecuzione sui cluster"
      ]
    },
    {
      "cell_type": "markdown",
      "metadata": {
        "id": "F5_cIlgd6o8B"
      },
      "source": [
        "###i. Esecuzione **distribuita** sul file genomico *Saccharomyces cerevisiae*\n",
        "\n",
        "Di seguito sono presenti le esecuzioni dell'algoritmo distribuito sul cluster a **singolo nodo** e sul cluster `n1-standard-4` con **2 worker** e **4 worker**   (come riportato nei commenti delle celle di codice) ed i seguenti parametri:\n",
        "\n",
        "\n",
        "*   valore di lunghezza delle sequenze kmer `k=3`;\n",
        "*   modalità di conteggio non canonico (*`non-canonical` counting*).\n",
        "\n",
        "\n",
        "\n",
        "> La lunghezza del genoma del Saccharomyces cerevisiae è di 12.1 Mb (dove Mb significa *megabasi*, ovvero un milione di basi azotate).\n",
        "\n",
        "\n"
      ]
    },
    {
      "cell_type": "code",
      "execution_count": null,
      "metadata": {
        "colab": {
          "base_uri": "https://localhost:8080/"
        },
        "id": "2WFDxoDUUcn8",
        "outputId": "ab8a05ef-95c2-4620-98cb-8e58114c6b2f"
      },
      "outputs": [
        {
          "name": "stdout",
          "output_type": "stream",
          "text": [
            "Job [52df1baca57246f58ce6255cdeefdb4c] submitted.\n",
            "Waiting for job output...\n",
            "23/11/30 13:02:30 INFO org.apache.spark.SparkEnv: Registering MapOutputTracker\n",
            "23/11/30 13:02:30 INFO org.apache.spark.SparkEnv: Registering BlockManagerMaster\n",
            "23/11/30 13:02:30 INFO org.apache.spark.SparkEnv: Registering BlockManagerMasterHeartbeat\n",
            "23/11/30 13:02:30 INFO org.apache.spark.SparkEnv: Registering OutputCommitCoordinator\n",
            "23/11/30 13:02:31 INFO org.sparkproject.jetty.util.log: Logging initialized @6771ms to org.sparkproject.jetty.util.log.Slf4jLog\n",
            "23/11/30 13:02:31 INFO org.sparkproject.jetty.server.Server: jetty-9.4.40.v20210413; built: 2021-04-13T20:42:42.668Z; git: b881a572662e1943a14ae12e7e1207989f218b74; jvm 1.8.0_392-b08\n",
            "23/11/30 13:02:31 INFO org.sparkproject.jetty.server.Server: Started @6964ms\n",
            "23/11/30 13:02:31 INFO org.sparkproject.jetty.server.AbstractConnector: Started ServerConnector@3162743f{HTTP/1.1, (http/1.1)}{0.0.0.0:37199}\n",
            "23/11/30 13:02:32 INFO org.apache.hadoop.yarn.client.RMProxy: Connecting to ResourceManager at single-node-cluster-m/10.164.0.9:8032\n",
            "23/11/30 13:02:32 INFO org.apache.hadoop.yarn.client.AHSProxy: Connecting to Application History server at single-node-cluster-m/10.164.0.9:10200\n",
            "23/11/30 13:02:33 INFO org.apache.hadoop.conf.Configuration: resource-types.xml not found\n",
            "23/11/30 13:02:33 INFO org.apache.hadoop.yarn.util.resource.ResourceUtils: Unable to find 'resource-types.xml'.\n",
            "23/11/30 13:02:34 INFO org.apache.hadoop.yarn.client.api.impl.YarnClientImpl: Submitted application application_1701348388341_0002\n",
            "23/11/30 13:02:35 INFO org.apache.hadoop.yarn.client.RMProxy: Connecting to ResourceManager at single-node-cluster-m/10.164.0.9:8030\n",
            "23/11/30 13:02:38 INFO com.google.cloud.hadoop.fs.gcs.GhfsStorageStatistics: Detected potential high latency for operation op_get_file_status. latencyMs=662; previousMaxLatencyMs=0; operationCount=1; context=gs://dataproc-temp-europe-west4-804786195349-x5nym9rl/4848f91b-364f-418f-a620-97c6015d3188/spark-job-history\n",
            "23/11/30 13:02:38 INFO com.google.cloud.hadoop.repackaged.gcs.com.google.cloud.hadoop.gcsio.GoogleCloudStorageImpl: Ignoring exception of type GoogleJsonResponseException; verified object already exists with desired state.\n",
            "23/11/30 13:02:38 INFO com.google.cloud.hadoop.fs.gcs.GhfsStorageStatistics: Detected potential high latency for operation op_mkdirs. latencyMs=463; previousMaxLatencyMs=0; operationCount=1; context=gs://dataproc-temp-europe-west4-804786195349-x5nym9rl/4848f91b-364f-418f-a620-97c6015d3188/spark-job-history\n",
            "23/11/30 13:02:39 INFO com.google.cloud.hadoop.fs.gcs.GhfsStorageStatistics: Detected potential high latency for operation op_create. latencyMs=674; previousMaxLatencyMs=0; operationCount=1; context=gs://dataproc-temp-europe-west4-804786195349-x5nym9rl/4848f91b-364f-418f-a620-97c6015d3188/spark-job-history/application_1701348388341_0002.inprogress\n",
            "Current configuration:\n",
            "\t- master: yarn\n",
            "\t- data path: gs://k-mercounting-sec-data/GCF_000146045.2_R64_genomic_Saccharomyces_cerevisiae.fna.gz\n",
            "\t- output path: Nonesingle-node-d\n",
            "\t- counting type: non-canonical\n",
            "\t- k value: 3\n",
            "\t- execution mode: distributed\n",
            "\t- Spark Context initialized with parallelism: 4\n",
            "\n",
            "K-mer counting computed in 30.144105179 sec. \n",
            "Saving results in file...\n",
            "Results saved in Nonesingle-node-d.\n",
            "Job [52df1baca57246f58ce6255cdeefdb4c] finished successfully.\n",
            "done: true\n",
            "driverControlFilesUri: gs://dataproc-staging-europe-west4-804786195349-4q3fuwar/google-cloud-dataproc-metainfo/4848f91b-364f-418f-a620-97c6015d3188/jobs/52df1baca57246f58ce6255cdeefdb4c/\n",
            "driverOutputResourceUri: gs://dataproc-staging-europe-west4-804786195349-4q3fuwar/google-cloud-dataproc-metainfo/4848f91b-364f-418f-a620-97c6015d3188/jobs/52df1baca57246f58ce6255cdeefdb4c/driveroutput\n",
            "jobUuid: ffc9427f-2a6f-33fa-aca9-9adc4ad1c7cd\n",
            "placement:\n",
            "  clusterName: single-node-cluster\n",
            "  clusterUuid: 4848f91b-364f-418f-a620-97c6015d3188\n",
            "reference:\n",
            "  jobId: 52df1baca57246f58ce6255cdeefdb4c\n",
            "  projectId: groovy-vector-406611\n",
            "sparkJob:\n",
            "  args:\n",
            "  - yarn\n",
            "  - gs://k-mercounting-sec-data/GCF_000146045.2_R64_genomic_Saccharomyces_cerevisiae.fna.gz\n",
            "  - '3'\n",
            "  - non-canonical\n",
            "  - '4'\n",
            "  - distributed\n",
            "  - Nonesingle-node-d\n",
            "  mainJarFileUri: gs://k-mercounting-sec-data/k-merCounting_2-12j.jar\n",
            "status:\n",
            "  state: DONE\n",
            "  stateStartTime: '2023-11-30T13:03:41.088195Z'\n",
            "statusHistory:\n",
            "- state: PENDING\n",
            "  stateStartTime: '2023-11-30T13:02:19.235859Z'\n",
            "- state: SETUP_DONE\n",
            "  stateStartTime: '2023-11-30T13:02:19.286847Z'\n",
            "- details: Agent reported job success\n",
            "  state: RUNNING\n",
            "  stateStartTime: '2023-11-30T13:02:19.597076Z'\n",
            "yarnApplications:\n",
            "- name: K-mer Counting\n",
            "  progress: 1.0\n",
            "  state: FINISHED\n",
            "  trackingUrl: http://single-node-cluster-m:8088/proxy/application_1701348388341_0002/\n"
          ]
        }
      ],
      "source": [
        "# cluster a singolo nodo e parallelismo = 4\n",
        "!gcloud dataproc jobs submit spark \\\n",
        "    --cluster=single-node-cluster \\\n",
        "    --region={os.getenv(\"CLUSTER_REGION\")} \\\n",
        "    --jar={os.getenv(\"DATA_BKT\")}\"k-merCounting_2-12j.jar\" \\\n",
        "    -- \"yarn\" {os.getenv(\"DATA_BKT\")}\"GCF_000146045.2_R64_genomic_Saccharomyces_cerevisiae.fna.gz\" \"3\" \"non-canonical\" \"4\" \"distributed\" {os.getenv(\"OUTPUT_BKT\")}\"single-node-d\""
      ]
    },
    {
      "cell_type": "code",
      "source": [
        "# cluster n1-standard-4 con 2 workers e parallelismo = 4\n",
        "!gcloud dataproc jobs submit spark \\\n",
        "    --cluster=two-4standard-cluster \\\n",
        "    --region={os.getenv(\"CLUSTER_REGION\")} \\\n",
        "    --jar={os.getenv(\"DATA_BKT\")}\"kmercounting_2.12-0.1.0-SNAPSHOT11.jar\" \\\n",
        "    -- \"yarn\" {os.getenv(\"DATA_BKT\")}\"GCF_000146045.2_R64_genomic_Saccharomyces_cerevisiae.fna.gz\" \"3\" \"non-canonical\" \"4\" \"distributed\" {os.getenv(\"OUTPUT_BKT\")}\"two4std-sc-dist\""
      ],
      "metadata": {
        "colab": {
          "base_uri": "https://localhost:8080/"
        },
        "id": "mE-LUA_NI5--",
        "outputId": "24088d3f-1d49-471e-830a-264aab1ed9c9"
      },
      "execution_count": null,
      "outputs": [
        {
          "output_type": "stream",
          "name": "stdout",
          "text": [
            "Job [e818077d02f94741a634b2466e62552c] submitted.\n",
            "Waiting for job output...\n",
            "23/12/29 10:37:36 INFO org.apache.spark.SparkEnv: Registering MapOutputTracker\n",
            "23/12/29 10:37:36 INFO org.apache.spark.SparkEnv: Registering BlockManagerMaster\n",
            "23/12/29 10:37:36 INFO org.apache.spark.SparkEnv: Registering BlockManagerMasterHeartbeat\n",
            "23/12/29 10:37:36 INFO org.apache.spark.SparkEnv: Registering OutputCommitCoordinator\n",
            "23/12/29 10:37:36 INFO org.sparkproject.jetty.util.log: Logging initialized @4172ms to org.sparkproject.jetty.util.log.Slf4jLog\n",
            "23/12/29 10:37:36 INFO org.sparkproject.jetty.server.Server: jetty-9.4.40.v20210413; built: 2021-04-13T20:42:42.668Z; git: b881a572662e1943a14ae12e7e1207989f218b74; jvm 1.8.0_392-b08\n",
            "23/12/29 10:37:36 INFO org.sparkproject.jetty.server.Server: Started @4285ms\n",
            "23/12/29 10:37:36 INFO org.sparkproject.jetty.server.AbstractConnector: Started ServerConnector@25b5c5e3{HTTP/1.1, (http/1.1)}{0.0.0.0:42837}\n",
            "23/12/29 10:37:37 INFO org.apache.hadoop.yarn.client.RMProxy: Connecting to ResourceManager at two-4standard-cluster-m/10.164.0.2:8032\n",
            "23/12/29 10:37:37 INFO org.apache.hadoop.yarn.client.AHSProxy: Connecting to Application History server at two-4standard-cluster-m/10.164.0.2:10200\n",
            "23/12/29 10:37:38 INFO org.apache.hadoop.conf.Configuration: resource-types.xml not found\n",
            "23/12/29 10:37:38 INFO org.apache.hadoop.yarn.util.resource.ResourceUtils: Unable to find 'resource-types.xml'.\n",
            "23/12/29 10:37:40 INFO org.apache.hadoop.yarn.client.api.impl.YarnClientImpl: Submitted application application_1703845826154_0001\n",
            "23/12/29 10:37:41 INFO org.apache.hadoop.yarn.client.RMProxy: Connecting to ResourceManager at two-4standard-cluster-m/10.164.0.2:8030\n",
            "23/12/29 10:37:43 INFO com.google.cloud.hadoop.fs.gcs.GhfsStorageStatistics: Detected potential high latency for operation op_get_file_status. latencyMs=478; previousMaxLatencyMs=0; operationCount=1; context=gs://dataproc-temp-europe-west4-804786195349-x5nym9rl/3a0eafb5-bd18-4ae7-a5f8-67de1f13a770/spark-job-history\n",
            "23/12/29 10:37:43 INFO com.google.cloud.hadoop.repackaged.gcs.com.google.cloud.hadoop.gcsio.GoogleCloudStorageImpl: Ignoring exception of type GoogleJsonResponseException; verified object already exists with desired state.\n",
            "23/12/29 10:37:43 INFO com.google.cloud.hadoop.fs.gcs.GhfsStorageStatistics: Detected potential high latency for operation op_mkdirs. latencyMs=405; previousMaxLatencyMs=0; operationCount=1; context=gs://dataproc-temp-europe-west4-804786195349-x5nym9rl/3a0eafb5-bd18-4ae7-a5f8-67de1f13a770/spark-job-history\n",
            "23/12/29 10:37:44 INFO com.google.cloud.hadoop.fs.gcs.GhfsStorageStatistics: Detected potential high latency for operation op_create. latencyMs=614; previousMaxLatencyMs=0; operationCount=1; context=gs://dataproc-temp-europe-west4-804786195349-x5nym9rl/3a0eafb5-bd18-4ae7-a5f8-67de1f13a770/spark-job-history/application_1703845826154_0001.inprogress\n",
            "Current configuration:\n",
            "\t- master: yarn\n",
            "\t- data path: gs://k-mercounting-sec-data/GCF_000146045.2_R64_genomic_Saccharomyces_cerevisiae.fna.gz\n",
            "\t- output path: gs://k-mercounting-sec-output/two4std-sc-dist\n",
            "\t- counting type: non-canonical\n",
            "\t- k value: 3\n",
            "\t- execution mode: distributed\n",
            "\t- Spark Context initialized with parallelism: 4\n",
            "\n",
            "K-mer counting computed in 27.813925997 sec. \n",
            "Saving results in file...\n",
            "Results saved in gs://k-mercounting-sec-output/two4std-sc-dist.\n",
            "Job [e818077d02f94741a634b2466e62552c] finished successfully.\n",
            "done: true\n",
            "driverControlFilesUri: gs://dataproc-staging-europe-west4-804786195349-4q3fuwar/google-cloud-dataproc-metainfo/3a0eafb5-bd18-4ae7-a5f8-67de1f13a770/jobs/e818077d02f94741a634b2466e62552c/\n",
            "driverOutputResourceUri: gs://dataproc-staging-europe-west4-804786195349-4q3fuwar/google-cloud-dataproc-metainfo/3a0eafb5-bd18-4ae7-a5f8-67de1f13a770/jobs/e818077d02f94741a634b2466e62552c/driveroutput\n",
            "jobUuid: e41fed73-2b52-34c3-b837-b09c66ff35e2\n",
            "placement:\n",
            "  clusterName: two-4standard-cluster\n",
            "  clusterUuid: 3a0eafb5-bd18-4ae7-a5f8-67de1f13a770\n",
            "reference:\n",
            "  jobId: e818077d02f94741a634b2466e62552c\n",
            "  projectId: groovy-vector-406611\n",
            "sparkJob:\n",
            "  args:\n",
            "  - yarn\n",
            "  - gs://k-mercounting-sec-data/GCF_000146045.2_R64_genomic_Saccharomyces_cerevisiae.fna.gz\n",
            "  - '3'\n",
            "  - non-canonical\n",
            "  - '4'\n",
            "  - distributed\n",
            "  - gs://k-mercounting-sec-output/two4std-sc-dist\n",
            "  mainJarFileUri: gs://k-mercounting-sec-data/kmercounting_2.12-0.1.0-SNAPSHOT11.jar\n",
            "status:\n",
            "  state: DONE\n",
            "  stateStartTime: '2023-12-29T10:38:38.379159Z'\n",
            "statusHistory:\n",
            "- state: PENDING\n",
            "  stateStartTime: '2023-12-29T10:37:30.963043Z'\n",
            "- state: SETUP_DONE\n",
            "  stateStartTime: '2023-12-29T10:37:30.997321Z'\n",
            "- details: Agent reported job success\n",
            "  state: RUNNING\n",
            "  stateStartTime: '2023-12-29T10:37:31.205752Z'\n",
            "yarnApplications:\n",
            "- name: K-mer Counting\n",
            "  progress: 1.0\n",
            "  state: FINISHED\n",
            "  trackingUrl: http://two-4standard-cluster-m:8088/proxy/application_1703845826154_0001/\n"
          ]
        }
      ]
    },
    {
      "cell_type": "code",
      "source": [
        "# cluster n1-standard-4 con 4 workers e parallelismo = 8\n",
        "!gcloud dataproc jobs submit spark \\\n",
        "    --cluster=four-4standard-cluster \\\n",
        "    --region={os.getenv(\"CLUSTER_REGION\")} \\\n",
        "    --jar={os.getenv(\"DATA_BKT\")}\"kmercounting_2.12-0.1.0-SNAPSHOT11.jar\" \\\n",
        "    -- \"yarn\" {os.getenv(\"DATA_BKT\")}\"GCF_000146045.2_R64_genomic_Saccharomyces_cerevisiae.fna.gz\" \"3\" \"non-canonical\" \"8\" \"distributed\" {os.getenv(\"OUTPUT_BKT\")}\"four4std-sc-dist-k3-p8\""
      ],
      "metadata": {
        "colab": {
          "base_uri": "https://localhost:8080/"
        },
        "id": "rvXRR_kGyLIt",
        "outputId": "ce51bb40-d052-4d27-b859-f77f62cd55cb"
      },
      "execution_count": null,
      "outputs": [
        {
          "output_type": "stream",
          "name": "stdout",
          "text": [
            "Job [010635cc6eb0492db7fbed5ca5f82ea8] submitted.\n",
            "Waiting for job output...\n",
            "23/12/29 18:14:48 INFO org.apache.spark.SparkEnv: Registering MapOutputTracker\n",
            "23/12/29 18:14:48 INFO org.apache.spark.SparkEnv: Registering BlockManagerMaster\n",
            "23/12/29 18:14:48 INFO org.apache.spark.SparkEnv: Registering BlockManagerMasterHeartbeat\n",
            "23/12/29 18:14:48 INFO org.apache.spark.SparkEnv: Registering OutputCommitCoordinator\n",
            "23/12/29 18:14:48 INFO org.sparkproject.jetty.util.log: Logging initialized @4270ms to org.sparkproject.jetty.util.log.Slf4jLog\n",
            "23/12/29 18:14:49 INFO org.sparkproject.jetty.server.Server: jetty-9.4.40.v20210413; built: 2021-04-13T20:42:42.668Z; git: b881a572662e1943a14ae12e7e1207989f218b74; jvm 1.8.0_392-b08\n",
            "23/12/29 18:14:49 INFO org.sparkproject.jetty.server.Server: Started @4400ms\n",
            "23/12/29 18:14:49 INFO org.sparkproject.jetty.server.AbstractConnector: Started ServerConnector@25b5c5e3{HTTP/1.1, (http/1.1)}{0.0.0.0:38757}\n",
            "23/12/29 18:14:49 INFO org.apache.hadoop.yarn.client.RMProxy: Connecting to ResourceManager at four-4standard-cluster-m/10.164.0.13:8032\n",
            "23/12/29 18:14:50 INFO org.apache.hadoop.yarn.client.AHSProxy: Connecting to Application History server at four-4standard-cluster-m/10.164.0.13:10200\n",
            "23/12/29 18:14:50 INFO org.apache.hadoop.conf.Configuration: resource-types.xml not found\n",
            "23/12/29 18:14:50 INFO org.apache.hadoop.yarn.util.resource.ResourceUtils: Unable to find 'resource-types.xml'.\n",
            "23/12/29 18:14:51 INFO org.apache.hadoop.yarn.client.api.impl.YarnClientImpl: Submitted application application_1703871930447_0005\n",
            "23/12/29 18:14:52 INFO org.apache.hadoop.yarn.client.RMProxy: Connecting to ResourceManager at four-4standard-cluster-m/10.164.0.13:8030\n",
            "23/12/29 18:14:54 INFO com.google.cloud.hadoop.fs.gcs.GhfsStorageStatistics: Detected potential high latency for operation op_get_file_status. latencyMs=468; previousMaxLatencyMs=0; operationCount=1; context=gs://dataproc-temp-europe-west4-804786195349-x5nym9rl/6c982b25-0e7f-45f5-9e3c-ec74c9b027a0/spark-job-history\n",
            "23/12/29 18:14:55 INFO com.google.cloud.hadoop.repackaged.gcs.com.google.cloud.hadoop.gcsio.GoogleCloudStorageImpl: Ignoring exception of type GoogleJsonResponseException; verified object already exists with desired state.\n",
            "23/12/29 18:14:55 INFO com.google.cloud.hadoop.fs.gcs.GhfsStorageStatistics: Detected potential high latency for operation op_mkdirs. latencyMs=448; previousMaxLatencyMs=0; operationCount=1; context=gs://dataproc-temp-europe-west4-804786195349-x5nym9rl/6c982b25-0e7f-45f5-9e3c-ec74c9b027a0/spark-job-history\n",
            "23/12/29 18:14:55 INFO com.google.cloud.hadoop.fs.gcs.GhfsStorageStatistics: Detected potential high latency for operation op_create. latencyMs=584; previousMaxLatencyMs=0; operationCount=1; context=gs://dataproc-temp-europe-west4-804786195349-x5nym9rl/6c982b25-0e7f-45f5-9e3c-ec74c9b027a0/spark-job-history/application_1703871930447_0005.inprogress\n",
            "Current configuration:\n",
            "\t- master: yarn\n",
            "\t- data path: gs://k-mercounting-sec-data/GCF_000146045.2_R64_genomic_Saccharomyces_cerevisiae.fna.gz\n",
            "\t- output path: gs://k-mercounting-sec-output/four4std-sc-dist-k3-p8\n",
            "\t- counting type: non-canonical\n",
            "\t- k value: 3\n",
            "\t- execution mode: distributed\n",
            "\t- Spark Context initialized with parallelism: 8\n",
            "\n",
            "K-mer counting computed in 25.620745339 sec. \n",
            "Saving results in file...\n",
            "Results saved in gs://k-mercounting-sec-output/four4std-sc-dist-k3-p8.\n",
            "Job [010635cc6eb0492db7fbed5ca5f82ea8] finished successfully.\n",
            "done: true\n",
            "driverControlFilesUri: gs://dataproc-staging-europe-west4-804786195349-4q3fuwar/google-cloud-dataproc-metainfo/6c982b25-0e7f-45f5-9e3c-ec74c9b027a0/jobs/010635cc6eb0492db7fbed5ca5f82ea8/\n",
            "driverOutputResourceUri: gs://dataproc-staging-europe-west4-804786195349-4q3fuwar/google-cloud-dataproc-metainfo/6c982b25-0e7f-45f5-9e3c-ec74c9b027a0/jobs/010635cc6eb0492db7fbed5ca5f82ea8/driveroutput\n",
            "jobUuid: e01d759a-211b-3526-9e96-8726efd384fc\n",
            "placement:\n",
            "  clusterName: four-4standard-cluster\n",
            "  clusterUuid: 6c982b25-0e7f-45f5-9e3c-ec74c9b027a0\n",
            "reference:\n",
            "  jobId: 010635cc6eb0492db7fbed5ca5f82ea8\n",
            "  projectId: groovy-vector-406611\n",
            "sparkJob:\n",
            "  args:\n",
            "  - yarn\n",
            "  - gs://k-mercounting-sec-data/GCF_000146045.2_R64_genomic_Saccharomyces_cerevisiae.fna.gz\n",
            "  - '3'\n",
            "  - non-canonical\n",
            "  - '8'\n",
            "  - distributed\n",
            "  - gs://k-mercounting-sec-output/four4std-sc-dist-k3-p8\n",
            "  mainJarFileUri: gs://k-mercounting-sec-data/kmercounting_2.12-0.1.0-SNAPSHOT11.jar\n",
            "status:\n",
            "  state: DONE\n",
            "  stateStartTime: '2023-12-29T18:15:44.389488Z'\n",
            "statusHistory:\n",
            "- state: PENDING\n",
            "  stateStartTime: '2023-12-29T18:14:43.074782Z'\n",
            "- state: SETUP_DONE\n",
            "  stateStartTime: '2023-12-29T18:14:43.104158Z'\n",
            "- details: Agent reported job success\n",
            "  state: RUNNING\n",
            "  stateStartTime: '2023-12-29T18:14:43.296591Z'\n",
            "yarnApplications:\n",
            "- name: K-mer Counting\n",
            "  progress: 1.0\n",
            "  state: FINISHED\n",
            "  trackingUrl: http://four-4standard-cluster-m:8088/proxy/application_1703871930447_0005/\n"
          ]
        }
      ]
    },
    {
      "cell_type": "markdown",
      "source": [
        "###ii. Esecuzione **di libreria** sul file genomico *Saccharomyces Cerevisiae*\n",
        "\n",
        "Di seguito sono presenti le esecuzioni dell'**algoritmo di libreria** sul cluster a **singolo nodo** e sul cluster `n1-standard-4` con **2 worker** e **4 worker** (come riportato nei commenti delle celle di codice) ed i seguenti parametri:\n",
        "\n",
        "\n",
        "*   valore di lunghezza delle sequenze kmer `k=3`;\n",
        "*   modalità di conteggio non canonico (*`non-canonical` counting*).\n",
        "\n"
      ],
      "metadata": {
        "id": "jiiB5k1-N7YN"
      }
    },
    {
      "cell_type": "code",
      "execution_count": null,
      "metadata": {
        "colab": {
          "base_uri": "https://localhost:8080/"
        },
        "id": "ZdmGUQVAVULT",
        "outputId": "faadf143-0579-4ae4-a526-c3c7d926d27c"
      },
      "outputs": [
        {
          "name": "stdout",
          "output_type": "stream",
          "text": [
            "Job [169b1568fccb44e285d8a40481139709] submitted.\n",
            "Waiting for job output...\n",
            "23/11/30 13:10:15 INFO org.apache.spark.SparkEnv: Registering MapOutputTracker\n",
            "23/11/30 13:10:15 INFO org.apache.spark.SparkEnv: Registering BlockManagerMaster\n",
            "23/11/30 13:10:15 INFO org.apache.spark.SparkEnv: Registering BlockManagerMasterHeartbeat\n",
            "23/11/30 13:10:15 INFO org.apache.spark.SparkEnv: Registering OutputCommitCoordinator\n",
            "23/11/30 13:10:16 INFO org.sparkproject.jetty.util.log: Logging initialized @3862ms to org.sparkproject.jetty.util.log.Slf4jLog\n",
            "23/11/30 13:10:16 INFO org.sparkproject.jetty.server.Server: jetty-9.4.40.v20210413; built: 2021-04-13T20:42:42.668Z; git: b881a572662e1943a14ae12e7e1207989f218b74; jvm 1.8.0_392-b08\n",
            "23/11/30 13:10:16 INFO org.sparkproject.jetty.server.Server: Started @3974ms\n",
            "23/11/30 13:10:16 INFO org.sparkproject.jetty.server.AbstractConnector: Started ServerConnector@1bf04007{HTTP/1.1, (http/1.1)}{0.0.0.0:43533}\n",
            "23/11/30 13:10:16 INFO org.apache.hadoop.yarn.client.RMProxy: Connecting to ResourceManager at single-node-cluster-m/10.164.0.9:8032\n",
            "23/11/30 13:10:17 INFO org.apache.hadoop.yarn.client.AHSProxy: Connecting to Application History server at single-node-cluster-m/10.164.0.9:10200\n",
            "23/11/30 13:10:17 INFO org.apache.hadoop.conf.Configuration: resource-types.xml not found\n",
            "23/11/30 13:10:17 INFO org.apache.hadoop.yarn.util.resource.ResourceUtils: Unable to find 'resource-types.xml'.\n",
            "23/11/30 13:10:18 INFO org.apache.hadoop.yarn.client.api.impl.YarnClientImpl: Submitted application application_1701348388341_0003\n",
            "23/11/30 13:10:19 INFO org.apache.hadoop.yarn.client.RMProxy: Connecting to ResourceManager at single-node-cluster-m/10.164.0.9:8030\n",
            "23/11/30 13:10:22 INFO com.google.cloud.hadoop.fs.gcs.GhfsStorageStatistics: Detected potential high latency for operation op_get_file_status. latencyMs=615; previousMaxLatencyMs=0; operationCount=1; context=gs://dataproc-temp-europe-west4-804786195349-x5nym9rl/4848f91b-364f-418f-a620-97c6015d3188/spark-job-history\n",
            "23/11/30 13:10:22 INFO com.google.cloud.hadoop.repackaged.gcs.com.google.cloud.hadoop.gcsio.GoogleCloudStorageImpl: Ignoring exception of type GoogleJsonResponseException; verified object already exists with desired state.\n",
            "23/11/30 13:10:22 INFO com.google.cloud.hadoop.fs.gcs.GhfsStorageStatistics: Detected potential high latency for operation op_mkdirs. latencyMs=463; previousMaxLatencyMs=0; operationCount=1; context=gs://dataproc-temp-europe-west4-804786195349-x5nym9rl/4848f91b-364f-418f-a620-97c6015d3188/spark-job-history\n",
            "23/11/30 13:10:23 INFO com.google.cloud.hadoop.fs.gcs.GhfsStorageStatistics: Detected potential high latency for operation op_create. latencyMs=682; previousMaxLatencyMs=0; operationCount=1; context=gs://dataproc-temp-europe-west4-804786195349-x5nym9rl/4848f91b-364f-418f-a620-97c6015d3188/spark-job-history/application_1701348388341_0003.inprogress\n",
            "Current configuration:\n",
            "\t- master: yarn\n",
            "\t- data path: gs://k-mercounting-sec-data/GCF_000146045.2_R64_genomic_Saccharomyces_cerevisiae.fna.gz\n",
            "\t- output path: gs://k-mercounting-sec-output/single-node-d-lib\n",
            "\t- counting type: non-canonical\n",
            "\t- k value: 3\n",
            "\t- execution mode: library\n",
            "\t- Spark Context initialized with parallelism: 4\n",
            "\n",
            "K-mer counting computed in 101.148441601 sec. \n",
            "Saving results in file...\n",
            "Results saved in gs://k-mercounting-sec-output/single-node-d-lib.\n",
            "Job [169b1568fccb44e285d8a40481139709] finished successfully.\n",
            "done: true\n",
            "driverControlFilesUri: gs://dataproc-staging-europe-west4-804786195349-4q3fuwar/google-cloud-dataproc-metainfo/4848f91b-364f-418f-a620-97c6015d3188/jobs/169b1568fccb44e285d8a40481139709/\n",
            "driverOutputResourceUri: gs://dataproc-staging-europe-west4-804786195349-4q3fuwar/google-cloud-dataproc-metainfo/4848f91b-364f-418f-a620-97c6015d3188/jobs/169b1568fccb44e285d8a40481139709/driveroutput\n",
            "jobUuid: 4e6de773-370a-3439-828b-967374b6a109\n",
            "placement:\n",
            "  clusterName: single-node-cluster\n",
            "  clusterUuid: 4848f91b-364f-418f-a620-97c6015d3188\n",
            "reference:\n",
            "  jobId: 169b1568fccb44e285d8a40481139709\n",
            "  projectId: groovy-vector-406611\n",
            "sparkJob:\n",
            "  args:\n",
            "  - yarn\n",
            "  - gs://k-mercounting-sec-data/GCF_000146045.2_R64_genomic_Saccharomyces_cerevisiae.fna.gz\n",
            "  - '3'\n",
            "  - non-canonical\n",
            "  - '4'\n",
            "  - library\n",
            "  - gs://k-mercounting-sec-output/single-node-d-lib\n",
            "  mainJarFileUri: gs://k-mercounting-sec-data/k-merCounting_2-12j.jar\n",
            "status:\n",
            "  state: DONE\n",
            "  stateStartTime: '2023-11-30T13:12:21.339144Z'\n",
            "statusHistory:\n",
            "- state: PENDING\n",
            "  stateStartTime: '2023-11-30T13:10:07.699051Z'\n",
            "- state: SETUP_DONE\n",
            "  stateStartTime: '2023-11-30T13:10:07.743008Z'\n",
            "- details: Agent reported job success\n",
            "  state: RUNNING\n",
            "  stateStartTime: '2023-11-30T13:10:09.056030Z'\n",
            "yarnApplications:\n",
            "- name: K-mer Counting\n",
            "  progress: 1.0\n",
            "  state: FINISHED\n",
            "  trackingUrl: http://single-node-cluster-m:8088/proxy/application_1701348388341_0003/\n"
          ]
        }
      ],
      "source": [
        "# cluster a singolo nodo con parallelismo = 4\n",
        "!gcloud dataproc jobs submit spark \\\n",
        "    --cluster=single-node-cluster \\\n",
        "    --region={os.getenv(\"CLUSTER_REGION\")} \\\n",
        "    --jar={os.getenv(\"DATA_BKT\")}\"k-merCounting_2-12j.jar\" \\\n",
        "    -- \"yarn\" {os.getenv(\"DATA_BKT\")}\"GCF_000146045.2_R64_genomic_Saccharomyces_cerevisiae.fna.gz\" \"3\" \"non-canonical\" \"4\" \"library\" {os.getenv(\"OUTPUT_BKT\")}\"single-node-d-lib\""
      ]
    },
    {
      "cell_type": "code",
      "source": [
        "# cluster n1-standard-4 con 2 workers e parallelismo = 4\n",
        "!gcloud dataproc jobs submit spark \\\n",
        "    --cluster=two-4standard-cluster \\\n",
        "    --region={os.getenv(\"CLUSTER_REGION\")} \\\n",
        "    --jar={os.getenv(\"DATA_BKT\")}\"kmercounting_2.12-0.1.0-SNAPSHOT11.jar\" \\\n",
        "    -- \"yarn\" {os.getenv(\"DATA_BKT\")}\"GCF_000146045.2_R64_genomic_Saccharomyces_cerevisiae.fna.gz\" \"3\" \"non-canonical\" \"4\" \"library\" {os.getenv(\"OUTPUT_BKT\")}\"two-4standard-sc-k3-library\""
      ],
      "metadata": {
        "colab": {
          "base_uri": "https://localhost:8080/"
        },
        "id": "acJ758C0HdqV",
        "outputId": "5ba99b43-c0b8-4fe6-9985-f6d902d45305"
      },
      "execution_count": null,
      "outputs": [
        {
          "output_type": "stream",
          "name": "stdout",
          "text": [
            "Job [2e883cb0fcfe44d0890a8ca1f1a4d797] submitted.\n",
            "Waiting for job output...\n",
            "23/12/31 13:44:39 INFO org.apache.spark.SparkEnv: Registering MapOutputTracker\n",
            "23/12/31 13:44:39 INFO org.apache.spark.SparkEnv: Registering BlockManagerMaster\n",
            "23/12/31 13:44:39 INFO org.apache.spark.SparkEnv: Registering BlockManagerMasterHeartbeat\n",
            "23/12/31 13:44:39 INFO org.apache.spark.SparkEnv: Registering OutputCommitCoordinator\n",
            "23/12/31 13:44:40 INFO org.sparkproject.jetty.util.log: Logging initialized @4870ms to org.sparkproject.jetty.util.log.Slf4jLog\n",
            "23/12/31 13:44:40 INFO org.sparkproject.jetty.server.Server: jetty-9.4.40.v20210413; built: 2021-04-13T20:42:42.668Z; git: b881a572662e1943a14ae12e7e1207989f218b74; jvm 1.8.0_392-b08\n",
            "23/12/31 13:44:40 INFO org.sparkproject.jetty.server.Server: Started @4990ms\n",
            "23/12/31 13:44:40 INFO org.sparkproject.jetty.server.AbstractConnector: Started ServerConnector@25b5c5e3{HTTP/1.1, (http/1.1)}{0.0.0.0:41653}\n",
            "23/12/31 13:44:41 INFO org.apache.hadoop.yarn.client.RMProxy: Connecting to ResourceManager at two-4standard-cluster-m/10.164.0.51:8032\n",
            "23/12/31 13:44:41 INFO org.apache.hadoop.yarn.client.AHSProxy: Connecting to Application History server at two-4standard-cluster-m/10.164.0.51:10200\n",
            "23/12/31 13:44:42 INFO org.apache.hadoop.conf.Configuration: resource-types.xml not found\n",
            "23/12/31 13:44:42 INFO org.apache.hadoop.yarn.util.resource.ResourceUtils: Unable to find 'resource-types.xml'.\n",
            "23/12/31 13:44:44 INFO org.apache.hadoop.yarn.client.api.impl.YarnClientImpl: Submitted application application_1704030230754_0001\n",
            "23/12/31 13:44:45 INFO org.apache.hadoop.yarn.client.RMProxy: Connecting to ResourceManager at two-4standard-cluster-m/10.164.0.51:8030\n",
            "23/12/31 13:44:47 INFO com.google.cloud.hadoop.fs.gcs.GhfsStorageStatistics: Detected potential high latency for operation op_get_file_status. latencyMs=532; previousMaxLatencyMs=0; operationCount=1; context=gs://dataproc-temp-europe-west4-804786195349-x5nym9rl/3c9f75a2-03ad-47fa-b246-0fef579fd638/spark-job-history\n",
            "23/12/31 13:44:48 INFO com.google.cloud.hadoop.repackaged.gcs.com.google.cloud.hadoop.gcsio.GoogleCloudStorageImpl: Ignoring exception of type GoogleJsonResponseException; verified object already exists with desired state.\n",
            "23/12/31 13:44:48 INFO com.google.cloud.hadoop.fs.gcs.GhfsStorageStatistics: Detected potential high latency for operation op_mkdirs. latencyMs=482; previousMaxLatencyMs=0; operationCount=1; context=gs://dataproc-temp-europe-west4-804786195349-x5nym9rl/3c9f75a2-03ad-47fa-b246-0fef579fd638/spark-job-history\n",
            "23/12/31 13:44:48 INFO com.google.cloud.hadoop.fs.gcs.GhfsStorageStatistics: Detected potential high latency for operation op_create. latencyMs=605; previousMaxLatencyMs=0; operationCount=1; context=gs://dataproc-temp-europe-west4-804786195349-x5nym9rl/3c9f75a2-03ad-47fa-b246-0fef579fd638/spark-job-history/application_1704030230754_0001.inprogress\n",
            "Current configuration:\n",
            "\t- master: yarn\n",
            "\t- data path: gs://k-mercounting-sec-data/GCF_000146045.2_R64_genomic_Saccharomyces_cerevisiae.fna.gz\n",
            "\t- output path: gs://k-mercounting-sec-output/two-4standard-sc-k3-library\n",
            "\t- counting type: non-canonical\n",
            "\t- k value: 3\n",
            "\t- execution mode: library\n",
            "\t- Spark Context initialized with parallelism: 4\n",
            "\n",
            "K-mer counting computed in 92.544382892 sec. \n",
            "Saving results in file...\n",
            "Results saved in gs://k-mercounting-sec-output/two-4standard-sc-k3-library.\n",
            "Job [2e883cb0fcfe44d0890a8ca1f1a4d797] finished successfully.\n",
            "done: true\n",
            "driverControlFilesUri: gs://dataproc-staging-europe-west4-804786195349-4q3fuwar/google-cloud-dataproc-metainfo/3c9f75a2-03ad-47fa-b246-0fef579fd638/jobs/2e883cb0fcfe44d0890a8ca1f1a4d797/\n",
            "driverOutputResourceUri: gs://dataproc-staging-europe-west4-804786195349-4q3fuwar/google-cloud-dataproc-metainfo/3c9f75a2-03ad-47fa-b246-0fef579fd638/jobs/2e883cb0fcfe44d0890a8ca1f1a4d797/driveroutput\n",
            "jobUuid: 39f8955c-d6a5-3267-ae79-3cb87318aa28\n",
            "placement:\n",
            "  clusterName: two-4standard-cluster\n",
            "  clusterUuid: 3c9f75a2-03ad-47fa-b246-0fef579fd638\n",
            "reference:\n",
            "  jobId: 2e883cb0fcfe44d0890a8ca1f1a4d797\n",
            "  projectId: groovy-vector-406611\n",
            "sparkJob:\n",
            "  args:\n",
            "  - yarn\n",
            "  - gs://k-mercounting-sec-data/GCF_000146045.2_R64_genomic_Saccharomyces_cerevisiae.fna.gz\n",
            "  - '3'\n",
            "  - non-canonical\n",
            "  - '4'\n",
            "  - library\n",
            "  - gs://k-mercounting-sec-output/two-4standard-sc-k3-library\n",
            "  mainJarFileUri: gs://k-mercounting-sec-data/kmercounting_2.12-0.1.0-SNAPSHOT11.jar\n",
            "status:\n",
            "  state: DONE\n",
            "  stateStartTime: '2023-12-31T13:46:33.534131Z'\n",
            "statusHistory:\n",
            "- state: PENDING\n",
            "  stateStartTime: '2023-12-31T13:44:32.785478Z'\n",
            "- state: SETUP_DONE\n",
            "  stateStartTime: '2023-12-31T13:44:32.822698Z'\n",
            "- details: Agent reported job success\n",
            "  state: RUNNING\n",
            "  stateStartTime: '2023-12-31T13:44:33.171175Z'\n",
            "yarnApplications:\n",
            "- name: K-mer Counting\n",
            "  progress: 1.0\n",
            "  state: FINISHED\n",
            "  trackingUrl: http://two-4standard-cluster-m:8088/proxy/application_1704030230754_0001/\n"
          ]
        }
      ]
    },
    {
      "cell_type": "code",
      "source": [
        "# cluster n1-standard-4 con 4 workers e parallelismo = 8\n",
        "!gcloud dataproc jobs submit spark \\\n",
        "    --cluster=four-4standard-cluster \\\n",
        "    --region={os.getenv(\"CLUSTER_REGION\")} \\\n",
        "    --jar={os.getenv(\"DATA_BKT\")}\"kmercounting_2.12-0.1.0-SNAPSHOT11.jar\" \\\n",
        "    -- \"yarn\" {os.getenv(\"DATA_BKT\")}\"GCF_000146045.2_R64_genomic_Saccharomyces_cerevisiae.fna.gz\" \"3\" \"non-canonical\" \"8\" \"library\" {os.getenv(\"OUTPUT_BKT\")}\"four4std-sc-libr-k3-p8\""
      ],
      "metadata": {
        "colab": {
          "base_uri": "https://localhost:8080/"
        },
        "id": "ELZK-h2_tTa5",
        "outputId": "1b1105e0-f826-4ca4-ed98-c2068d142d27"
      },
      "execution_count": null,
      "outputs": [
        {
          "output_type": "stream",
          "name": "stdout",
          "text": [
            "Job [2b05028d259941f0849fe7118e4d1f97] submitted.\n",
            "Waiting for job output...\n",
            "23/12/29 17:53:13 INFO org.apache.spark.SparkEnv: Registering MapOutputTracker\n",
            "23/12/29 17:53:13 INFO org.apache.spark.SparkEnv: Registering BlockManagerMaster\n",
            "23/12/29 17:53:13 INFO org.apache.spark.SparkEnv: Registering BlockManagerMasterHeartbeat\n",
            "23/12/29 17:53:13 INFO org.apache.spark.SparkEnv: Registering OutputCommitCoordinator\n",
            "23/12/29 17:53:13 INFO org.sparkproject.jetty.util.log: Logging initialized @4140ms to org.sparkproject.jetty.util.log.Slf4jLog\n",
            "23/12/29 17:53:13 INFO org.sparkproject.jetty.server.Server: jetty-9.4.40.v20210413; built: 2021-04-13T20:42:42.668Z; git: b881a572662e1943a14ae12e7e1207989f218b74; jvm 1.8.0_392-b08\n",
            "23/12/29 17:53:13 INFO org.sparkproject.jetty.server.Server: Started @4288ms\n",
            "23/12/29 17:53:13 INFO org.sparkproject.jetty.server.AbstractConnector: Started ServerConnector@25b5c5e3{HTTP/1.1, (http/1.1)}{0.0.0.0:46041}\n",
            "23/12/29 17:53:14 INFO org.apache.hadoop.yarn.client.RMProxy: Connecting to ResourceManager at four-4standard-cluster-m/10.164.0.13:8032\n",
            "23/12/29 17:53:14 INFO org.apache.hadoop.yarn.client.AHSProxy: Connecting to Application History server at four-4standard-cluster-m/10.164.0.13:10200\n",
            "23/12/29 17:53:15 INFO org.apache.hadoop.conf.Configuration: resource-types.xml not found\n",
            "23/12/29 17:53:15 INFO org.apache.hadoop.yarn.util.resource.ResourceUtils: Unable to find 'resource-types.xml'.\n",
            "23/12/29 17:53:16 INFO org.apache.hadoop.yarn.client.api.impl.YarnClientImpl: Submitted application application_1703871930447_0002\n",
            "23/12/29 17:53:17 INFO org.apache.hadoop.yarn.client.RMProxy: Connecting to ResourceManager at four-4standard-cluster-m/10.164.0.13:8030\n",
            "23/12/29 17:53:19 INFO com.google.cloud.hadoop.fs.gcs.GhfsStorageStatistics: Detected potential high latency for operation op_get_file_status. latencyMs=460; previousMaxLatencyMs=0; operationCount=1; context=gs://dataproc-temp-europe-west4-804786195349-x5nym9rl/6c982b25-0e7f-45f5-9e3c-ec74c9b027a0/spark-job-history\n",
            "23/12/29 17:53:20 INFO com.google.cloud.hadoop.repackaged.gcs.com.google.cloud.hadoop.gcsio.GoogleCloudStorageImpl: Ignoring exception of type GoogleJsonResponseException; verified object already exists with desired state.\n",
            "23/12/29 17:53:20 INFO com.google.cloud.hadoop.fs.gcs.GhfsStorageStatistics: Detected potential high latency for operation op_mkdirs. latencyMs=412; previousMaxLatencyMs=0; operationCount=1; context=gs://dataproc-temp-europe-west4-804786195349-x5nym9rl/6c982b25-0e7f-45f5-9e3c-ec74c9b027a0/spark-job-history\n",
            "23/12/29 17:53:20 INFO com.google.cloud.hadoop.fs.gcs.GhfsStorageStatistics: Detected potential high latency for operation op_create. latencyMs=613; previousMaxLatencyMs=0; operationCount=1; context=gs://dataproc-temp-europe-west4-804786195349-x5nym9rl/6c982b25-0e7f-45f5-9e3c-ec74c9b027a0/spark-job-history/application_1703871930447_0002.inprogress\n",
            "Current configuration:\n",
            "\t- master: yarn\n",
            "\t- data path: gs://k-mercounting-sec-data/GCF_000146045.2_R64_genomic_Saccharomyces_cerevisiae.fna.gz\n",
            "\t- output path: gs://k-mercounting-sec-output/four4std-sc-libr-k3-p8\n",
            "\t- counting type: non-canonical\n",
            "\t- k value: 3\n",
            "\t- execution mode: library\n",
            "\t- Spark Context initialized with parallelism: 8\n",
            "\n",
            "K-mer counting computed in 91.855192287 sec. \n",
            "Saving results in file...\n",
            "Results saved in gs://k-mercounting-sec-output/four4std-sc-libr-k3-p8.\n",
            "Job [2b05028d259941f0849fe7118e4d1f97] finished successfully.\n",
            "done: true\n",
            "driverControlFilesUri: gs://dataproc-staging-europe-west4-804786195349-4q3fuwar/google-cloud-dataproc-metainfo/6c982b25-0e7f-45f5-9e3c-ec74c9b027a0/jobs/2b05028d259941f0849fe7118e4d1f97/\n",
            "driverOutputResourceUri: gs://dataproc-staging-europe-west4-804786195349-4q3fuwar/google-cloud-dataproc-metainfo/6c982b25-0e7f-45f5-9e3c-ec74c9b027a0/jobs/2b05028d259941f0849fe7118e4d1f97/driveroutput\n",
            "jobUuid: 0a1824fb-21bf-3229-8787-97eef8d4408f\n",
            "placement:\n",
            "  clusterName: four-4standard-cluster\n",
            "  clusterUuid: 6c982b25-0e7f-45f5-9e3c-ec74c9b027a0\n",
            "reference:\n",
            "  jobId: 2b05028d259941f0849fe7118e4d1f97\n",
            "  projectId: groovy-vector-406611\n",
            "sparkJob:\n",
            "  args:\n",
            "  - yarn\n",
            "  - gs://k-mercounting-sec-data/GCF_000146045.2_R64_genomic_Saccharomyces_cerevisiae.fna.gz\n",
            "  - '3'\n",
            "  - non-canonical\n",
            "  - '8'\n",
            "  - library\n",
            "  - gs://k-mercounting-sec-output/four4std-sc-libr-k3-p8\n",
            "  mainJarFileUri: gs://k-mercounting-sec-data/kmercounting_2.12-0.1.0-SNAPSHOT11.jar\n",
            "status:\n",
            "  state: DONE\n",
            "  stateStartTime: '2023-12-29T17:55:03.787271Z'\n",
            "statusHistory:\n",
            "- state: PENDING\n",
            "  stateStartTime: '2023-12-29T17:53:07.673009Z'\n",
            "- state: SETUP_DONE\n",
            "  stateStartTime: '2023-12-29T17:53:07.703573Z'\n",
            "- details: Agent reported job success\n",
            "  state: RUNNING\n",
            "  stateStartTime: '2023-12-29T17:53:07.974522Z'\n",
            "yarnApplications:\n",
            "- name: K-mer Counting\n",
            "  progress: 1.0\n",
            "  state: FINISHED\n",
            "  trackingUrl: http://four-4standard-cluster-m:8088/proxy/application_1703871930447_0002/\n"
          ]
        }
      ]
    },
    {
      "cell_type": "markdown",
      "source": [
        "###iii. Esecuzione **parallela** sul file genomico *Saccharomyces Cerevisiae*\n",
        "\n",
        "Di seguito sono presenti le esecuzioni dell'**algoritmo parallelo** sul cluster a **singolo nodo** e sul cluster `n1-standard-4` con **2 worker** e **4 workers**  (come riportato nei commenti delle celle di codice) ed i seguenti parametri:\n",
        "\n",
        "\n",
        "*   valore di lunghezza delle sequenze kmer `k=3`;\n",
        "*   modalità di conteggio non canonico (*`non-canonical` counting*).\n",
        "\n"
      ],
      "metadata": {
        "id": "XUsU-F7lQyx6"
      }
    },
    {
      "cell_type": "code",
      "source": [
        "# cluster a singolo nodo e parallelismo = 4\n",
        "!gcloud dataproc jobs submit spark \\\n",
        "    --cluster=single-node-cluster \\\n",
        "    --region={os.getenv(\"CLUSTER_REGION\")} \\\n",
        "    --jar={os.getenv(\"DATA_BKT\")}\"kmercounting_2.12-0.1.0-SNAPSHOT11.jar\" \\\n",
        "    -- \"yarn\" {os.getenv(\"DATA_BKT\")}\"GCF_000146045.2_R64_genomic_Saccharomyces_cerevisiae.fna.gz\" \"3\" \"non-canonical\" \"4\" \"parallel\" {os.getenv(\"OUTPUT_BKT\")}\"single-sc-par-k3-p4\""
      ],
      "metadata": {
        "colab": {
          "base_uri": "https://localhost:8080/"
        },
        "id": "hWo7AIJ7vhST",
        "outputId": "323fde21-a207-4524-aa18-f8b42601e6b3"
      },
      "execution_count": 22,
      "outputs": [
        {
          "output_type": "stream",
          "name": "stdout",
          "text": [
            "Job [ce1c7d947fe94e458b2408782033b596] submitted.\n",
            "Waiting for job output...\n",
            "23/12/29 18:04:41 INFO org.apache.spark.SparkEnv: Registering MapOutputTracker\n",
            "23/12/29 18:04:41 INFO org.apache.spark.SparkEnv: Registering BlockManagerMaster\n",
            "23/12/29 18:04:41 INFO org.apache.spark.SparkEnv: Registering BlockManagerMasterHeartbeat\n",
            "23/12/29 18:04:41 INFO org.apache.spark.SparkEnv: Registering OutputCommitCoordinator\n",
            "23/12/29 18:04:41 INFO org.sparkproject.jetty.util.log: Logging initialized @4342ms to org.sparkproject.jetty.util.log.Slf4jLog\n",
            "23/12/29 18:04:41 INFO org.sparkproject.jetty.server.Server: jetty-9.4.40.v20210413; built: 2021-04-13T20:42:42.668Z; git: b881a572662e1943a14ae12e7e1207989f218b74; jvm 1.8.0_392-b08\n",
            "23/12/29 18:04:41 INFO org.sparkproject.jetty.server.Server: Started @4463ms\n",
            "23/12/29 18:04:41 INFO org.sparkproject.jetty.server.AbstractConnector: Started ServerConnector@25b5c5e3{HTTP/1.1, (http/1.1)}{0.0.0.0:34871}\n",
            "23/12/29 18:04:42 INFO org.apache.hadoop.yarn.client.RMProxy: Connecting to ResourceManager at single-node-cluster-m/10.164.0.17:8032\n",
            "23/12/29 18:04:43 INFO org.apache.hadoop.yarn.client.AHSProxy: Connecting to Application History server at single-node-cluster-m/10.164.0.17:10200\n",
            "23/12/29 18:04:44 INFO org.apache.hadoop.conf.Configuration: resource-types.xml not found\n",
            "23/12/29 18:04:44 INFO org.apache.hadoop.yarn.util.resource.ResourceUtils: Unable to find 'resource-types.xml'.\n",
            "23/12/29 18:04:45 INFO org.apache.hadoop.yarn.client.api.impl.YarnClientImpl: Submitted application application_1703873001852_0001\n",
            "23/12/29 18:04:46 INFO org.apache.hadoop.yarn.client.RMProxy: Connecting to ResourceManager at single-node-cluster-m/10.164.0.17:8030\n",
            "23/12/29 18:04:49 INFO com.google.cloud.hadoop.fs.gcs.GhfsStorageStatistics: Detected potential high latency for operation op_get_file_status. latencyMs=625; previousMaxLatencyMs=0; operationCount=1; context=gs://dataproc-temp-europe-west4-804786195349-x5nym9rl/8e20f066-df1e-4fa5-bca6-7acbe054e4e5/spark-job-history\n",
            "23/12/29 18:04:50 INFO com.google.cloud.hadoop.repackaged.gcs.com.google.cloud.hadoop.gcsio.GoogleCloudStorageImpl: Ignoring exception of type GoogleJsonResponseException; verified object already exists with desired state.\n",
            "23/12/29 18:04:50 INFO com.google.cloud.hadoop.fs.gcs.GhfsStorageStatistics: Detected potential high latency for operation op_mkdirs. latencyMs=393; previousMaxLatencyMs=0; operationCount=1; context=gs://dataproc-temp-europe-west4-804786195349-x5nym9rl/8e20f066-df1e-4fa5-bca6-7acbe054e4e5/spark-job-history\n",
            "23/12/29 18:04:50 INFO com.google.cloud.hadoop.fs.gcs.GhfsStorageStatistics: Detected potential high latency for operation op_create. latencyMs=717; previousMaxLatencyMs=0; operationCount=1; context=gs://dataproc-temp-europe-west4-804786195349-x5nym9rl/8e20f066-df1e-4fa5-bca6-7acbe054e4e5/spark-job-history/application_1703873001852_0001.inprogress\n",
            "Current configuration:\n",
            "\t- master: yarn\n",
            "\t- data path: gs://k-mercounting-sec-data/GCF_000146045.2_R64_genomic_Saccharomyces_cerevisiae.fna.gz\n",
            "\t- output path: gs://k-mercounting-sec-output/single-sc-par-k3-p4\n",
            "\t- counting type: non-canonical\n",
            "\t- k value: 3\n",
            "\t- execution mode: parallel\n",
            "\t- Spark Context initialized with parallelism: 4\n",
            "\n",
            "K-mer counting computed in 9.920333852 sec. \n",
            "Saving results in file...\n",
            "Results saved in gs://k-mercounting-sec-output/single-sc-par-k3-p4.\n",
            "Job [ce1c7d947fe94e458b2408782033b596] finished successfully.\n",
            "done: true\n",
            "driverControlFilesUri: gs://dataproc-staging-europe-west4-804786195349-4q3fuwar/google-cloud-dataproc-metainfo/8e20f066-df1e-4fa5-bca6-7acbe054e4e5/jobs/ce1c7d947fe94e458b2408782033b596/\n",
            "driverOutputResourceUri: gs://dataproc-staging-europe-west4-804786195349-4q3fuwar/google-cloud-dataproc-metainfo/8e20f066-df1e-4fa5-bca6-7acbe054e4e5/jobs/ce1c7d947fe94e458b2408782033b596/driveroutput\n",
            "jobUuid: 1f6ea6e3-ddd4-368b-b486-a39a868b0324\n",
            "placement:\n",
            "  clusterName: single-node-cluster\n",
            "  clusterUuid: 8e20f066-df1e-4fa5-bca6-7acbe054e4e5\n",
            "reference:\n",
            "  jobId: ce1c7d947fe94e458b2408782033b596\n",
            "  projectId: groovy-vector-406611\n",
            "sparkJob:\n",
            "  args:\n",
            "  - yarn\n",
            "  - gs://k-mercounting-sec-data/GCF_000146045.2_R64_genomic_Saccharomyces_cerevisiae.fna.gz\n",
            "  - '3'\n",
            "  - non-canonical\n",
            "  - '4'\n",
            "  - parallel\n",
            "  - gs://k-mercounting-sec-output/single-sc-par-k3-p4\n",
            "  mainJarFileUri: gs://k-mercounting-sec-data/kmercounting_2.12-0.1.0-SNAPSHOT11.jar\n",
            "status:\n",
            "  state: DONE\n",
            "  stateStartTime: '2023-12-29T18:06:01.545493Z'\n",
            "statusHistory:\n",
            "- state: PENDING\n",
            "  stateStartTime: '2023-12-29T18:04:35.257243Z'\n",
            "- state: SETUP_DONE\n",
            "  stateStartTime: '2023-12-29T18:04:35.288447Z'\n",
            "- details: Agent reported job success\n",
            "  state: RUNNING\n",
            "  stateStartTime: '2023-12-29T18:04:35.640830Z'\n",
            "yarnApplications:\n",
            "- name: K-mer Counting\n",
            "  progress: 1.0\n",
            "  state: FINISHED\n",
            "  trackingUrl: http://single-node-cluster-m:8088/proxy/application_1703873001852_0001/\n"
          ]
        }
      ]
    },
    {
      "cell_type": "code",
      "source": [
        "# cluster n1-standard-4 con 2 worker e parallelismo = 4\n",
        "!gcloud dataproc jobs submit spark \\\n",
        "    --cluster=two-4standard-cluster \\\n",
        "    --region={os.getenv(\"CLUSTER_REGION\")} \\\n",
        "    --jar={os.getenv(\"DATA_BKT\")}\"kmercounting_2.12-0.1.0-SNAPSHOT11.jar\" \\\n",
        "    -- \"yarn\" {os.getenv(\"DATA_BKT\")}\"GCF_000146045.2_R64_genomic_Saccharomyces_cerevisiae.fna.gz\" \"3\" \"non-canonical\" \"4\" \"parallel\" {os.getenv(\"OUTPUT_BKT\")}\"two-4standard-sc-k3-parallel\""
      ],
      "metadata": {
        "colab": {
          "base_uri": "https://localhost:8080/"
        },
        "id": "G70hdChlJQuy",
        "outputId": "fd6c0809-2096-4b4c-9fdd-71b4b0bb043d"
      },
      "execution_count": null,
      "outputs": [
        {
          "output_type": "stream",
          "name": "stdout",
          "text": [
            "Job [8b1d466a44d54cd1a8bb1b201388b590] submitted.\n",
            "Waiting for job output...\n",
            "23/12/31 13:52:05 INFO org.apache.spark.SparkEnv: Registering MapOutputTracker\n",
            "23/12/31 13:52:05 INFO org.apache.spark.SparkEnv: Registering BlockManagerMaster\n",
            "23/12/31 13:52:05 INFO org.apache.spark.SparkEnv: Registering BlockManagerMasterHeartbeat\n",
            "23/12/31 13:52:05 INFO org.apache.spark.SparkEnv: Registering OutputCommitCoordinator\n",
            "23/12/31 13:52:05 INFO org.sparkproject.jetty.util.log: Logging initialized @3529ms to org.sparkproject.jetty.util.log.Slf4jLog\n",
            "23/12/31 13:52:06 INFO org.sparkproject.jetty.server.Server: jetty-9.4.40.v20210413; built: 2021-04-13T20:42:42.668Z; git: b881a572662e1943a14ae12e7e1207989f218b74; jvm 1.8.0_392-b08\n",
            "23/12/31 13:52:06 INFO org.sparkproject.jetty.server.Server: Started @3640ms\n",
            "23/12/31 13:52:06 INFO org.sparkproject.jetty.server.AbstractConnector: Started ServerConnector@25b5c5e3{HTTP/1.1, (http/1.1)}{0.0.0.0:33187}\n",
            "23/12/31 13:52:06 INFO org.apache.hadoop.yarn.client.RMProxy: Connecting to ResourceManager at two-4standard-cluster-m/10.164.0.51:8032\n",
            "23/12/31 13:52:06 INFO org.apache.hadoop.yarn.client.AHSProxy: Connecting to Application History server at two-4standard-cluster-m/10.164.0.51:10200\n",
            "23/12/31 13:52:07 INFO org.apache.hadoop.conf.Configuration: resource-types.xml not found\n",
            "23/12/31 13:52:07 INFO org.apache.hadoop.yarn.util.resource.ResourceUtils: Unable to find 'resource-types.xml'.\n",
            "23/12/31 13:52:08 INFO org.apache.hadoop.yarn.client.api.impl.YarnClientImpl: Submitted application application_1704030230754_0002\n",
            "23/12/31 13:52:09 INFO org.apache.hadoop.yarn.client.RMProxy: Connecting to ResourceManager at two-4standard-cluster-m/10.164.0.51:8030\n",
            "23/12/31 13:52:11 INFO com.google.cloud.hadoop.fs.gcs.GhfsStorageStatistics: Detected potential high latency for operation op_get_file_status. latencyMs=498; previousMaxLatencyMs=0; operationCount=1; context=gs://dataproc-temp-europe-west4-804786195349-x5nym9rl/3c9f75a2-03ad-47fa-b246-0fef579fd638/spark-job-history\n",
            "23/12/31 13:52:11 INFO com.google.cloud.hadoop.repackaged.gcs.com.google.cloud.hadoop.gcsio.GoogleCloudStorageImpl: Ignoring exception of type GoogleJsonResponseException; verified object already exists with desired state.\n",
            "23/12/31 13:52:11 INFO com.google.cloud.hadoop.fs.gcs.GhfsStorageStatistics: Detected potential high latency for operation op_mkdirs. latencyMs=408; previousMaxLatencyMs=0; operationCount=1; context=gs://dataproc-temp-europe-west4-804786195349-x5nym9rl/3c9f75a2-03ad-47fa-b246-0fef579fd638/spark-job-history\n",
            "23/12/31 13:52:12 INFO com.google.cloud.hadoop.fs.gcs.GhfsStorageStatistics: Detected potential high latency for operation op_create. latencyMs=627; previousMaxLatencyMs=0; operationCount=1; context=gs://dataproc-temp-europe-west4-804786195349-x5nym9rl/3c9f75a2-03ad-47fa-b246-0fef579fd638/spark-job-history/application_1704030230754_0002.inprogress\n",
            "Current configuration:\n",
            "\t- master: yarn\n",
            "\t- data path: gs://k-mercounting-sec-data/GCF_000146045.2_R64_genomic_Saccharomyces_cerevisiae.fna.gz\n",
            "\t- output path: gs://k-mercounting-sec-output/two-4standard-sc-k3-parallel\n",
            "\t- counting type: non-canonical\n",
            "\t- k value: 3\n",
            "\t- execution mode: parallel\n",
            "\t- Spark Context initialized with parallelism: 4\n",
            "\n",
            "K-mer counting computed in 9.233933901 sec. \n",
            "Saving results in file...\n",
            "Results saved in gs://k-mercounting-sec-output/two-4standard-sc-k3-parallel.\n",
            "Job [8b1d466a44d54cd1a8bb1b201388b590] finished successfully.\n",
            "done: true\n",
            "driverControlFilesUri: gs://dataproc-staging-europe-west4-804786195349-4q3fuwar/google-cloud-dataproc-metainfo/3c9f75a2-03ad-47fa-b246-0fef579fd638/jobs/8b1d466a44d54cd1a8bb1b201388b590/\n",
            "driverOutputResourceUri: gs://dataproc-staging-europe-west4-804786195349-4q3fuwar/google-cloud-dataproc-metainfo/3c9f75a2-03ad-47fa-b246-0fef579fd638/jobs/8b1d466a44d54cd1a8bb1b201388b590/driveroutput\n",
            "jobUuid: 54ede0fa-78fa-3aa6-8e55-e09202f0b72e\n",
            "placement:\n",
            "  clusterName: two-4standard-cluster\n",
            "  clusterUuid: 3c9f75a2-03ad-47fa-b246-0fef579fd638\n",
            "reference:\n",
            "  jobId: 8b1d466a44d54cd1a8bb1b201388b590\n",
            "  projectId: groovy-vector-406611\n",
            "sparkJob:\n",
            "  args:\n",
            "  - yarn\n",
            "  - gs://k-mercounting-sec-data/GCF_000146045.2_R64_genomic_Saccharomyces_cerevisiae.fna.gz\n",
            "  - '3'\n",
            "  - non-canonical\n",
            "  - '4'\n",
            "  - parallel\n",
            "  - gs://k-mercounting-sec-output/two-4standard-sc-k3-parallel\n",
            "  mainJarFileUri: gs://k-mercounting-sec-data/kmercounting_2.12-0.1.0-SNAPSHOT11.jar\n",
            "status:\n",
            "  state: DONE\n",
            "  stateStartTime: '2023-12-31T13:53:13.772324Z'\n",
            "statusHistory:\n",
            "- state: PENDING\n",
            "  stateStartTime: '2023-12-31T13:52:01.392910Z'\n",
            "- state: SETUP_DONE\n",
            "  stateStartTime: '2023-12-31T13:52:01.432050Z'\n",
            "- details: Agent reported job success\n",
            "  state: RUNNING\n",
            "  stateStartTime: '2023-12-31T13:52:01.654768Z'\n",
            "yarnApplications:\n",
            "- name: K-mer Counting\n",
            "  progress: 1.0\n",
            "  state: FINISHED\n",
            "  trackingUrl: http://two-4standard-cluster-m:8088/proxy/application_1704030230754_0002/\n"
          ]
        }
      ]
    },
    {
      "cell_type": "code",
      "source": [
        "# cluster n1-standard-4 con 4 worker e parallelismo 8\n",
        "!gcloud dataproc jobs submit spark \\\n",
        "    --cluster=four-4standard-cluster \\\n",
        "    --region={os.getenv(\"CLUSTER_REGION\")} \\\n",
        "    --jar={os.getenv(\"DATA_BKT\")}\"kmercounting_2.12-0.1.0-SNAPSHOT11.jar\" \\\n",
        "    -- \"yarn\" {os.getenv(\"DATA_BKT\")}\"GCF_000146045.2_R64_genomic_Saccharomyces_cerevisiae.fna.gz\" \"3\" \"non-canonical\" \"8\" \"parallel\" {os.getenv(\"OUTPUT_BKT\")}\"four4std-sc-par-k3-p8\""
      ],
      "metadata": {
        "colab": {
          "base_uri": "https://localhost:8080/"
        },
        "id": "BdAwUB17vAda",
        "outputId": "c91e1097-38d0-42ce-e4a2-cbd68b7fc422"
      },
      "execution_count": 20,
      "outputs": [
        {
          "output_type": "stream",
          "name": "stdout",
          "text": [
            "Job [1ef6be3585e34505b2338a381dd4c4d2] submitted.\n",
            "Waiting for job output...\n",
            "23/12/29 18:00:39 INFO org.apache.spark.SparkEnv: Registering MapOutputTracker\n",
            "23/12/29 18:00:39 INFO org.apache.spark.SparkEnv: Registering BlockManagerMaster\n",
            "23/12/29 18:00:39 INFO org.apache.spark.SparkEnv: Registering BlockManagerMasterHeartbeat\n",
            "23/12/29 18:00:39 INFO org.apache.spark.SparkEnv: Registering OutputCommitCoordinator\n",
            "23/12/29 18:00:40 INFO org.sparkproject.jetty.util.log: Logging initialized @4492ms to org.sparkproject.jetty.util.log.Slf4jLog\n",
            "23/12/29 18:00:40 INFO org.sparkproject.jetty.server.Server: jetty-9.4.40.v20210413; built: 2021-04-13T20:42:42.668Z; git: b881a572662e1943a14ae12e7e1207989f218b74; jvm 1.8.0_392-b08\n",
            "23/12/29 18:00:40 INFO org.sparkproject.jetty.server.Server: Started @4654ms\n",
            "23/12/29 18:00:40 INFO org.sparkproject.jetty.server.AbstractConnector: Started ServerConnector@25b5c5e3{HTTP/1.1, (http/1.1)}{0.0.0.0:33453}\n",
            "23/12/29 18:00:41 INFO org.apache.hadoop.yarn.client.RMProxy: Connecting to ResourceManager at four-4standard-cluster-m/10.164.0.13:8032\n",
            "23/12/29 18:00:41 INFO org.apache.hadoop.yarn.client.AHSProxy: Connecting to Application History server at four-4standard-cluster-m/10.164.0.13:10200\n",
            "23/12/29 18:00:42 INFO org.apache.hadoop.conf.Configuration: resource-types.xml not found\n",
            "23/12/29 18:00:42 INFO org.apache.hadoop.yarn.util.resource.ResourceUtils: Unable to find 'resource-types.xml'.\n",
            "23/12/29 18:00:42 INFO org.apache.hadoop.yarn.client.api.impl.YarnClientImpl: Submitted application application_1703871930447_0004\n",
            "23/12/29 18:00:43 INFO org.apache.hadoop.yarn.client.RMProxy: Connecting to ResourceManager at four-4standard-cluster-m/10.164.0.13:8030\n",
            "23/12/29 18:00:46 INFO com.google.cloud.hadoop.fs.gcs.GhfsStorageStatistics: Detected potential high latency for operation op_get_file_status. latencyMs=506; previousMaxLatencyMs=0; operationCount=1; context=gs://dataproc-temp-europe-west4-804786195349-x5nym9rl/6c982b25-0e7f-45f5-9e3c-ec74c9b027a0/spark-job-history\n",
            "23/12/29 18:00:46 INFO com.google.cloud.hadoop.repackaged.gcs.com.google.cloud.hadoop.gcsio.GoogleCloudStorageImpl: Ignoring exception of type GoogleJsonResponseException; verified object already exists with desired state.\n",
            "23/12/29 18:00:46 INFO com.google.cloud.hadoop.fs.gcs.GhfsStorageStatistics: Detected potential high latency for operation op_mkdirs. latencyMs=395; previousMaxLatencyMs=0; operationCount=1; context=gs://dataproc-temp-europe-west4-804786195349-x5nym9rl/6c982b25-0e7f-45f5-9e3c-ec74c9b027a0/spark-job-history\n",
            "23/12/29 18:00:47 INFO com.google.cloud.hadoop.fs.gcs.GhfsStorageStatistics: Detected potential high latency for operation op_create. latencyMs=612; previousMaxLatencyMs=0; operationCount=1; context=gs://dataproc-temp-europe-west4-804786195349-x5nym9rl/6c982b25-0e7f-45f5-9e3c-ec74c9b027a0/spark-job-history/application_1703871930447_0004.inprogress\n",
            "Current configuration:\n",
            "\t- master: yarn\n",
            "\t- data path: gs://k-mercounting-sec-data/GCF_000146045.2_R64_genomic_Saccharomyces_cerevisiae.fna.gz\n",
            "\t- output path: gs://k-mercounting-sec-output/four4std-sc-par-k3-p8\n",
            "\t- counting type: non-canonical\n",
            "\t- k value: 3\n",
            "\t- execution mode: parallel\n",
            "\t- Spark Context initialized with parallelism: 8\n",
            "\n",
            "K-mer counting computed in 10.809713207 sec. \n",
            "Saving results in file...\n",
            "Results saved in gs://k-mercounting-sec-output/four4std-sc-par-k3-p8.\n",
            "Job [1ef6be3585e34505b2338a381dd4c4d2] finished successfully.\n",
            "done: true\n",
            "driverControlFilesUri: gs://dataproc-staging-europe-west4-804786195349-4q3fuwar/google-cloud-dataproc-metainfo/6c982b25-0e7f-45f5-9e3c-ec74c9b027a0/jobs/1ef6be3585e34505b2338a381dd4c4d2/\n",
            "driverOutputResourceUri: gs://dataproc-staging-europe-west4-804786195349-4q3fuwar/google-cloud-dataproc-metainfo/6c982b25-0e7f-45f5-9e3c-ec74c9b027a0/jobs/1ef6be3585e34505b2338a381dd4c4d2/driveroutput\n",
            "jobUuid: 066eaf1f-c7b4-3861-9738-ff03a23dc331\n",
            "placement:\n",
            "  clusterName: four-4standard-cluster\n",
            "  clusterUuid: 6c982b25-0e7f-45f5-9e3c-ec74c9b027a0\n",
            "reference:\n",
            "  jobId: 1ef6be3585e34505b2338a381dd4c4d2\n",
            "  projectId: groovy-vector-406611\n",
            "sparkJob:\n",
            "  args:\n",
            "  - yarn\n",
            "  - gs://k-mercounting-sec-data/GCF_000146045.2_R64_genomic_Saccharomyces_cerevisiae.fna.gz\n",
            "  - '3'\n",
            "  - non-canonical\n",
            "  - '8'\n",
            "  - parallel\n",
            "  - gs://k-mercounting-sec-output/four4std-sc-par-k3-p8\n",
            "  mainJarFileUri: gs://k-mercounting-sec-data/kmercounting_2.12-0.1.0-SNAPSHOT11.jar\n",
            "status:\n",
            "  state: DONE\n",
            "  stateStartTime: '2023-12-29T18:02:03.997455Z'\n",
            "statusHistory:\n",
            "- state: PENDING\n",
            "  stateStartTime: '2023-12-29T18:00:34.345497Z'\n",
            "- state: SETUP_DONE\n",
            "  stateStartTime: '2023-12-29T18:00:34.382666Z'\n",
            "- details: Agent reported job success\n",
            "  state: RUNNING\n",
            "  stateStartTime: '2023-12-29T18:00:34.595096Z'\n",
            "yarnApplications:\n",
            "- name: K-mer Counting\n",
            "  progress: 1.0\n",
            "  state: FINISHED\n",
            "  trackingUrl: http://four-4standard-cluster-m:8088/proxy/application_1703871930447_0004/\n"
          ]
        }
      ]
    },
    {
      "cell_type": "markdown",
      "source": [
        "###iv. Esecuzione **distribuita** sul file genomico *Drosophila melanogaster*\n",
        "\n",
        "Di seguito sono presenti le esecuzioni dell'**algoritmo distribuito** sui seguenti cluster:\n",
        "\n",
        "*   cluster `n1-standard-4` con **2 worker**;\n",
        "*   cluster `n1-standard-4` con **3 workers**;\n",
        "*   cluster `n1-standard-4` con **4 workers**;\n",
        "*   cluster `n1-standard-4` con **5 workers**;\n",
        "*   cluster `n1-standard-8` con **2 workers**.\n",
        "\n",
        "\n",
        "Per ogni prova effettuata, il parametro che indica la modalità di conteggio sarà `both`, che permette di effettuare entrambi i conteggi (canonico e non canonico).\n",
        "\n",
        "Oltre al tipo di cluster utilizzato, le esecuzioni differiscono dai valori dei parametri di lunghezza delle sequenze kmer (`k`) e dal parametro di parallelizzazione (`p`), come verrà indicato nei commenti dei blocchi di codice che seguono.\n",
        "\n",
        "\n",
        "\n",
        "\n",
        "> La lunghezza del genoma di Drosophila melanogaster è di 143.7 Mb (*megabasi*).\n",
        "\n"
      ],
      "metadata": {
        "id": "bkYt6C-HTE6A"
      }
    },
    {
      "cell_type": "code",
      "execution_count": null,
      "metadata": {
        "colab": {
          "base_uri": "https://localhost:8080/"
        },
        "id": "zV6wWN3L267v",
        "outputId": "8921c295-85a1-459e-b624-0b5d0a92a50f"
      },
      "outputs": [
        {
          "name": "stdout",
          "output_type": "stream",
          "text": [
            "Job [89dd2b76e73f4516bf08a1fed7245c3a] submitted.\n",
            "Waiting for job output...\n",
            "23/11/30 13:29:39 INFO org.apache.spark.SparkEnv: Registering MapOutputTracker\n",
            "23/11/30 13:29:39 INFO org.apache.spark.SparkEnv: Registering BlockManagerMaster\n",
            "23/11/30 13:29:39 INFO org.apache.spark.SparkEnv: Registering BlockManagerMasterHeartbeat\n",
            "23/11/30 13:29:40 INFO org.apache.spark.SparkEnv: Registering OutputCommitCoordinator\n",
            "23/11/30 13:29:40 INFO org.sparkproject.jetty.util.log: Logging initialized @4029ms to org.sparkproject.jetty.util.log.Slf4jLog\n",
            "23/11/30 13:29:40 INFO org.sparkproject.jetty.server.Server: jetty-9.4.40.v20210413; built: 2021-04-13T20:42:42.668Z; git: b881a572662e1943a14ae12e7e1207989f218b74; jvm 1.8.0_392-b08\n",
            "23/11/30 13:29:40 INFO org.sparkproject.jetty.server.Server: Started @4152ms\n",
            "23/11/30 13:29:40 INFO org.sparkproject.jetty.server.AbstractConnector: Started ServerConnector@3162743f{HTTP/1.1, (http/1.1)}{0.0.0.0:39375}\n",
            "23/11/30 13:29:41 INFO org.apache.hadoop.yarn.client.RMProxy: Connecting to ResourceManager at two-4standard-cluster-m/10.164.0.12:8032\n",
            "23/11/30 13:29:41 INFO org.apache.hadoop.yarn.client.AHSProxy: Connecting to Application History server at two-4standard-cluster-m/10.164.0.12:10200\n",
            "23/11/30 13:29:42 INFO org.apache.hadoop.conf.Configuration: resource-types.xml not found\n",
            "23/11/30 13:29:42 INFO org.apache.hadoop.yarn.util.resource.ResourceUtils: Unable to find 'resource-types.xml'.\n",
            "23/11/30 13:29:43 INFO org.apache.hadoop.yarn.client.api.impl.YarnClientImpl: Submitted application application_1701350827007_0001\n",
            "23/11/30 13:29:44 INFO org.apache.hadoop.yarn.client.RMProxy: Connecting to ResourceManager at two-4standard-cluster-m/10.164.0.12:8030\n",
            "23/11/30 13:29:46 INFO com.google.cloud.hadoop.fs.gcs.GhfsStorageStatistics: Detected potential high latency for operation op_get_file_status. latencyMs=485; previousMaxLatencyMs=0; operationCount=1; context=gs://dataproc-temp-europe-west4-804786195349-x5nym9rl/0f9ab206-a626-46bc-bdce-4d569d147fc0/spark-job-history\n",
            "23/11/30 13:29:47 INFO com.google.cloud.hadoop.repackaged.gcs.com.google.cloud.hadoop.gcsio.GoogleCloudStorageImpl: Ignoring exception of type GoogleJsonResponseException; verified object already exists with desired state.\n",
            "23/11/30 13:29:47 INFO com.google.cloud.hadoop.fs.gcs.GhfsStorageStatistics: Detected potential high latency for operation op_mkdirs. latencyMs=434; previousMaxLatencyMs=0; operationCount=1; context=gs://dataproc-temp-europe-west4-804786195349-x5nym9rl/0f9ab206-a626-46bc-bdce-4d569d147fc0/spark-job-history\n",
            "23/11/30 13:29:48 INFO com.google.cloud.hadoop.fs.gcs.GhfsStorageStatistics: Detected potential high latency for operation op_create. latencyMs=602; previousMaxLatencyMs=0; operationCount=1; context=gs://dataproc-temp-europe-west4-804786195349-x5nym9rl/0f9ab206-a626-46bc-bdce-4d569d147fc0/spark-job-history/application_1701350827007_0001.inprogress\n",
            "Current configuration:\n",
            "\t- master: yarn\n",
            "\t- data path: gs://k-mercounting-sec-data/GCF_000001215.4_Release_6_plus_ISO1_MT_genomic_drosophila_melanogaster.fna.gz\n",
            "\t- output path: gs://k-mercounting-sec-output/two-4standard-d\n",
            "\t- counting type: both\n",
            "\t- k value: 4\n",
            "\t- execution mode: distributed\n",
            "\t- Spark Context initialized with parallelism: 16\n",
            "\n",
            "K-mer counting computed in 393.898232789 sec. \n",
            "Saving results in file...\n",
            "Results saved in gs://k-mercounting-sec-output/two-4standard-d.\n",
            "Job [89dd2b76e73f4516bf08a1fed7245c3a] finished successfully.\n",
            "done: true\n",
            "driverControlFilesUri: gs://dataproc-staging-europe-west4-804786195349-4q3fuwar/google-cloud-dataproc-metainfo/0f9ab206-a626-46bc-bdce-4d569d147fc0/jobs/89dd2b76e73f4516bf08a1fed7245c3a/\n",
            "driverOutputResourceUri: gs://dataproc-staging-europe-west4-804786195349-4q3fuwar/google-cloud-dataproc-metainfo/0f9ab206-a626-46bc-bdce-4d569d147fc0/jobs/89dd2b76e73f4516bf08a1fed7245c3a/driveroutput\n",
            "jobUuid: 4bb39025-9f71-3bce-8846-2d50f9af9098\n",
            "placement:\n",
            "  clusterName: two-4standard-cluster\n",
            "  clusterUuid: 0f9ab206-a626-46bc-bdce-4d569d147fc0\n",
            "reference:\n",
            "  jobId: 89dd2b76e73f4516bf08a1fed7245c3a\n",
            "  projectId: groovy-vector-406611\n",
            "sparkJob:\n",
            "  args:\n",
            "  - yarn\n",
            "  - gs://k-mercounting-sec-data/GCF_000001215.4_Release_6_plus_ISO1_MT_genomic_drosophila_melanogaster.fna.gz\n",
            "  - '4'\n",
            "  - both\n",
            "  - '16'\n",
            "  - distributed\n",
            "  - gs://k-mercounting-sec-output/two-4standard-d\n",
            "  mainJarFileUri: gs://k-mercounting-sec-data/k-merCounting_2-12j.jar\n",
            "status:\n",
            "  state: DONE\n",
            "  stateStartTime: '2023-11-30T13:38:39.537199Z'\n",
            "statusHistory:\n",
            "- state: PENDING\n",
            "  stateStartTime: '2023-11-30T13:29:31.997551Z'\n",
            "- state: SETUP_DONE\n",
            "  stateStartTime: '2023-11-30T13:29:32.041724Z'\n",
            "- details: Agent reported job success\n",
            "  state: RUNNING\n",
            "  stateStartTime: '2023-11-30T13:29:32.426240Z'\n",
            "yarnApplications:\n",
            "- name: K-mer Counting\n",
            "  progress: 1.0\n",
            "  state: FINISHED\n",
            "  trackingUrl: http://two-4standard-cluster-m:8088/proxy/application_1701350827007_0001/\n"
          ]
        }
      ],
      "source": [
        "# cluster n1-standard-4 con 2 worker, k=4, p=16\n",
        "!gcloud dataproc jobs submit spark \\\n",
        "    --cluster=two-4standard-cluster \\\n",
        "    --region={os.getenv(\"CLUSTER_REGION\")} \\\n",
        "    --jar={os.getenv(\"DATA_BKT\")}\"k-merCounting_2-12j.jar\" \\\n",
        "    -- \"yarn\" {os.getenv(\"DATA_BKT\")}\"GCF_000001215.4_Release_6_plus_ISO1_MT_genomic_drosophila_melanogaster.fna.gz\" \"4\" \"both\" \"16\" \"distributed\" {os.getenv(\"OUTPUT_BKT\")}\"two-4standard-d\""
      ]
    },
    {
      "cell_type": "code",
      "source": [
        "# cluster n1-standard-4 con 3 worker, k=4, p=16\n",
        "!gcloud dataproc jobs submit spark \\\n",
        "    --cluster=three-4standard-cluster \\\n",
        "    --region={os.getenv(\"CLUSTER_REGION\")} \\\n",
        "    --jar={os.getenv(\"DATA_BKT\")}\"kmercounting_2.12-0.1.0-SNAPSHOT11.jar\" \\\n",
        "    -- \"yarn\" {os.getenv(\"DATA_BKT\")}\"GCF_000001215.4_Release_6_plus_ISO1_MT_genomic_drosophila_melanogaster.fna.gz\" \"4\" \"both\" \"16\" \"distributed\" {os.getenv(\"OUTPUT_BKT\")}\"three-4standard-d\""
      ],
      "metadata": {
        "colab": {
          "base_uri": "https://localhost:8080/"
        },
        "id": "g0VYAfOAUBho",
        "outputId": "13b771cf-2804-416b-e404-75b597f5bb07"
      },
      "execution_count": null,
      "outputs": [
        {
          "output_type": "stream",
          "name": "stdout",
          "text": [
            "Job [9f3110b9f26348da870e75925a9daba0] submitted.\n",
            "Waiting for job output...\n",
            "23/12/29 20:43:13 INFO org.apache.spark.SparkEnv: Registering MapOutputTracker\n",
            "23/12/29 20:43:13 INFO org.apache.spark.SparkEnv: Registering BlockManagerMaster\n",
            "23/12/29 20:43:13 INFO org.apache.spark.SparkEnv: Registering BlockManagerMasterHeartbeat\n",
            "23/12/29 20:43:14 INFO org.apache.spark.SparkEnv: Registering OutputCommitCoordinator\n",
            "23/12/29 20:43:14 INFO org.sparkproject.jetty.util.log: Logging initialized @4004ms to org.sparkproject.jetty.util.log.Slf4jLog\n",
            "23/12/29 20:43:14 INFO org.sparkproject.jetty.server.Server: jetty-9.4.40.v20210413; built: 2021-04-13T20:42:42.668Z; git: b881a572662e1943a14ae12e7e1207989f218b74; jvm 1.8.0_392-b08\n",
            "23/12/29 20:43:14 INFO org.sparkproject.jetty.server.Server: Started @4130ms\n",
            "23/12/29 20:43:14 INFO org.sparkproject.jetty.server.AbstractConnector: Started ServerConnector@25b5c5e3{HTTP/1.1, (http/1.1)}{0.0.0.0:38251}\n",
            "23/12/29 20:43:15 INFO org.apache.hadoop.yarn.client.RMProxy: Connecting to ResourceManager at three-4standard-cluster-m/10.164.0.35:8032\n",
            "23/12/29 20:43:15 INFO org.apache.hadoop.yarn.client.AHSProxy: Connecting to Application History server at three-4standard-cluster-m/10.164.0.35:10200\n",
            "23/12/29 20:43:16 INFO org.apache.hadoop.conf.Configuration: resource-types.xml not found\n",
            "23/12/29 20:43:16 INFO org.apache.hadoop.yarn.util.resource.ResourceUtils: Unable to find 'resource-types.xml'.\n",
            "23/12/29 20:43:17 INFO org.apache.hadoop.yarn.client.api.impl.YarnClientImpl: Submitted application application_1703882466897_0001\n",
            "23/12/29 20:43:18 INFO org.apache.hadoop.yarn.client.RMProxy: Connecting to ResourceManager at three-4standard-cluster-m/10.164.0.35:8030\n",
            "23/12/29 20:43:20 INFO com.google.cloud.hadoop.fs.gcs.GhfsStorageStatistics: Detected potential high latency for operation op_get_file_status. latencyMs=199; previousMaxLatencyMs=0; operationCount=1; context=gs://dataproc-temp-europe-west4-804786195349-x5nym9rl/ff1ba2c5-c24f-4841-9424-e2d67da304dd/spark-job-history\n",
            "23/12/29 20:43:20 INFO com.google.cloud.hadoop.repackaged.gcs.com.google.cloud.hadoop.gcsio.GoogleCloudStorageImpl: Ignoring exception of type GoogleJsonResponseException; verified object already exists with desired state.\n",
            "23/12/29 20:43:20 INFO com.google.cloud.hadoop.fs.gcs.GhfsStorageStatistics: Detected potential high latency for operation op_mkdirs. latencyMs=159; previousMaxLatencyMs=0; operationCount=1; context=gs://dataproc-temp-europe-west4-804786195349-x5nym9rl/ff1ba2c5-c24f-4841-9424-e2d67da304dd/spark-job-history\n",
            "Current configuration:\n",
            "\t- master: yarn\n",
            "\t- data path: gs://k-mercounting-sec-data/GCF_000001215.4_Release_6_plus_ISO1_MT_genomic_drosophila_melanogaster.fna.gz\n",
            "\t- output path: gs://k-mercounting-sec-output/three-4standard-d\n",
            "\t- counting type: both\n",
            "\t- k value: 4\n",
            "\t- execution mode: distributed\n",
            "\t- Spark Context initialized with parallelism: 16\n",
            "\n",
            "K-mer counting computed in 365.36710132 sec. \n",
            "Saving results in file...\n",
            "Results saved in gs://k-mercounting-sec-output/three-4standard-d.\n",
            "Job [9f3110b9f26348da870e75925a9daba0] finished successfully.\n",
            "done: true\n",
            "driverControlFilesUri: gs://dataproc-staging-europe-west4-804786195349-4q3fuwar/google-cloud-dataproc-metainfo/ff1ba2c5-c24f-4841-9424-e2d67da304dd/jobs/9f3110b9f26348da870e75925a9daba0/\n",
            "driverOutputResourceUri: gs://dataproc-staging-europe-west4-804786195349-4q3fuwar/google-cloud-dataproc-metainfo/ff1ba2c5-c24f-4841-9424-e2d67da304dd/jobs/9f3110b9f26348da870e75925a9daba0/driveroutput\n",
            "jobUuid: 13bbfe23-cf62-3efd-87ee-415957623979\n",
            "placement:\n",
            "  clusterName: three-4standard-cluster\n",
            "  clusterUuid: ff1ba2c5-c24f-4841-9424-e2d67da304dd\n",
            "reference:\n",
            "  jobId: 9f3110b9f26348da870e75925a9daba0\n",
            "  projectId: groovy-vector-406611\n",
            "sparkJob:\n",
            "  args:\n",
            "  - yarn\n",
            "  - gs://k-mercounting-sec-data/GCF_000001215.4_Release_6_plus_ISO1_MT_genomic_drosophila_melanogaster.fna.gz\n",
            "  - '4'\n",
            "  - both\n",
            "  - '16'\n",
            "  - distributed\n",
            "  - gs://k-mercounting-sec-output/three-4standard-d\n",
            "  mainJarFileUri: gs://k-mercounting-sec-data/kmercounting_2.12-0.1.0-SNAPSHOT11.jar\n",
            "status:\n",
            "  state: DONE\n",
            "  stateStartTime: '2023-12-29T20:51:50.171567Z'\n",
            "statusHistory:\n",
            "- state: PENDING\n",
            "  stateStartTime: '2023-12-29T20:43:07.993863Z'\n",
            "- state: SETUP_DONE\n",
            "  stateStartTime: '2023-12-29T20:43:08.026925Z'\n",
            "- details: Agent reported job success\n",
            "  state: RUNNING\n",
            "  stateStartTime: '2023-12-29T20:43:08.343537Z'\n",
            "yarnApplications:\n",
            "- name: K-mer Counting\n",
            "  progress: 1.0\n",
            "  state: FINISHED\n",
            "  trackingUrl: http://three-4standard-cluster-m:8088/proxy/application_1703882466897_0001/\n"
          ]
        }
      ]
    },
    {
      "cell_type": "code",
      "execution_count": null,
      "metadata": {
        "colab": {
          "base_uri": "https://localhost:8080/"
        },
        "id": "fil45V4g6FX_",
        "outputId": "18e525fe-b668-41aa-866b-d4727fc3a117"
      },
      "outputs": [
        {
          "name": "stdout",
          "output_type": "stream",
          "text": [
            "Job [de06a569e30d49dea8013f824ed9bd8a] submitted.\n",
            "Waiting for job output...\n",
            "23/12/01 10:05:37 INFO org.apache.spark.SparkEnv: Registering MapOutputTracker\n",
            "23/12/01 10:05:37 INFO org.apache.spark.SparkEnv: Registering BlockManagerMaster\n",
            "23/12/01 10:05:37 INFO org.apache.spark.SparkEnv: Registering BlockManagerMasterHeartbeat\n",
            "23/12/01 10:05:37 INFO org.apache.spark.SparkEnv: Registering OutputCommitCoordinator\n",
            "23/12/01 10:05:38 INFO org.sparkproject.jetty.util.log: Logging initialized @4898ms to org.sparkproject.jetty.util.log.Slf4jLog\n",
            "23/12/01 10:05:38 INFO org.sparkproject.jetty.server.Server: jetty-9.4.40.v20210413; built: 2021-04-13T20:42:42.668Z; git: b881a572662e1943a14ae12e7e1207989f218b74; jvm 1.8.0_392-b08\n",
            "23/12/01 10:05:38 INFO org.sparkproject.jetty.server.Server: Started @5047ms\n",
            "23/12/01 10:05:38 INFO org.sparkproject.jetty.server.AbstractConnector: Started ServerConnector@1718698d{HTTP/1.1, (http/1.1)}{0.0.0.0:39213}\n",
            "23/12/01 10:05:39 INFO org.apache.hadoop.yarn.client.RMProxy: Connecting to ResourceManager at four-4standard-cluster-m/10.164.0.19:8032\n",
            "23/12/01 10:05:39 INFO org.apache.hadoop.yarn.client.AHSProxy: Connecting to Application History server at four-4standard-cluster-m/10.164.0.19:10200\n",
            "23/12/01 10:05:40 INFO org.apache.hadoop.conf.Configuration: resource-types.xml not found\n",
            "23/12/01 10:05:40 INFO org.apache.hadoop.yarn.util.resource.ResourceUtils: Unable to find 'resource-types.xml'.\n",
            "23/12/01 10:05:42 INFO org.apache.hadoop.yarn.client.api.impl.YarnClientImpl: Submitted application application_1701425078768_0001\n",
            "23/12/01 10:05:43 INFO org.apache.hadoop.yarn.client.RMProxy: Connecting to ResourceManager at four-4standard-cluster-m/10.164.0.19:8030\n",
            "23/12/01 10:05:45 INFO com.google.cloud.hadoop.fs.gcs.GhfsStorageStatistics: Detected potential high latency for operation op_get_file_status. latencyMs=487; previousMaxLatencyMs=0; operationCount=1; context=gs://dataproc-temp-europe-west4-804786195349-x5nym9rl/56848e6b-c596-4cf6-ab3f-6a97065c1daf/spark-job-history\n",
            "23/12/01 10:05:46 INFO com.google.cloud.hadoop.repackaged.gcs.com.google.cloud.hadoop.gcsio.GoogleCloudStorageImpl: Ignoring exception of type GoogleJsonResponseException; verified object already exists with desired state.\n",
            "23/12/01 10:05:46 INFO com.google.cloud.hadoop.fs.gcs.GhfsStorageStatistics: Detected potential high latency for operation op_mkdirs. latencyMs=435; previousMaxLatencyMs=0; operationCount=1; context=gs://dataproc-temp-europe-west4-804786195349-x5nym9rl/56848e6b-c596-4cf6-ab3f-6a97065c1daf/spark-job-history\n",
            "23/12/01 10:05:46 INFO com.google.cloud.hadoop.fs.gcs.GhfsStorageStatistics: Detected potential high latency for operation op_create. latencyMs=614; previousMaxLatencyMs=0; operationCount=1; context=gs://dataproc-temp-europe-west4-804786195349-x5nym9rl/56848e6b-c596-4cf6-ab3f-6a97065c1daf/spark-job-history/application_1701425078768_0001.inprogress\n",
            "Current configuration:\n",
            "\t- master: yarn\n",
            "\t- data path: gs://k-mercounting-sec-data/GCF_000001215.4_Release_6_plus_ISO1_MT_genomic_drosophila_melanogaster.fna.gz\n",
            "\t- output path: gs://k-mercounting-sec-output/four-4standard-d\n",
            "\t- counting type: both\n",
            "\t- k value: 4\n",
            "\t- execution mode: distributed\n",
            "\t- Spark Context initialized with parallelism: 16\n",
            "\n",
            "K-mer counting computed in 282.816859684 sec. \n",
            "Saving results in file...\n",
            "Results saved in gs://k-mercounting-sec-output/four-4standard-d.\n",
            "Job [de06a569e30d49dea8013f824ed9bd8a] finished successfully.\n",
            "done: true\n",
            "driverControlFilesUri: gs://dataproc-staging-europe-west4-804786195349-4q3fuwar/google-cloud-dataproc-metainfo/56848e6b-c596-4cf6-ab3f-6a97065c1daf/jobs/de06a569e30d49dea8013f824ed9bd8a/\n",
            "driverOutputResourceUri: gs://dataproc-staging-europe-west4-804786195349-4q3fuwar/google-cloud-dataproc-metainfo/56848e6b-c596-4cf6-ab3f-6a97065c1daf/jobs/de06a569e30d49dea8013f824ed9bd8a/driveroutput\n",
            "jobUuid: d6eebfbf-3980-311a-b60f-e33f443229ef\n",
            "placement:\n",
            "  clusterName: four-4standard-cluster\n",
            "  clusterUuid: 56848e6b-c596-4cf6-ab3f-6a97065c1daf\n",
            "reference:\n",
            "  jobId: de06a569e30d49dea8013f824ed9bd8a\n",
            "  projectId: groovy-vector-406611\n",
            "sparkJob:\n",
            "  args:\n",
            "  - yarn\n",
            "  - gs://k-mercounting-sec-data/GCF_000001215.4_Release_6_plus_ISO1_MT_genomic_drosophila_melanogaster.fna.gz\n",
            "  - '4'\n",
            "  - both\n",
            "  - '16'\n",
            "  - distributed\n",
            "  - gs://k-mercounting-sec-output/four-4standard-d\n",
            "  mainJarFileUri: gs://k-mercounting-sec-data/kmercounting_2.12-0.1.0-SNAPSHOT11.jar\n",
            "status:\n",
            "  state: DONE\n",
            "  stateStartTime: '2023-12-01T10:12:47.790782Z'\n",
            "statusHistory:\n",
            "- state: PENDING\n",
            "  stateStartTime: '2023-12-01T10:05:30.556811Z'\n",
            "- state: SETUP_DONE\n",
            "  stateStartTime: '2023-12-01T10:05:30.607804Z'\n",
            "- details: Agent reported job success\n",
            "  state: RUNNING\n",
            "  stateStartTime: '2023-12-01T10:05:31.039369Z'\n",
            "yarnApplications:\n",
            "- name: K-mer Counting\n",
            "  progress: 1.0\n",
            "  state: FINISHED\n",
            "  trackingUrl: http://four-4standard-cluster-m:8088/proxy/application_1701425078768_0001/\n"
          ]
        }
      ],
      "source": [
        "# cluster n1-standard-4 con 4 worker, k=4, p=16\n",
        "!gcloud dataproc jobs submit spark \\\n",
        "    --cluster=four-4standard-cluster \\\n",
        "    --region={os.getenv(\"CLUSTER_REGION\")} \\\n",
        "    --jar={os.getenv(\"DATA_BKT\")}\"kmercounting_2.12-0.1.0-SNAPSHOT11.jar\" \\\n",
        "    -- \"yarn\" {os.getenv(\"DATA_BKT\")}\"GCF_000001215.4_Release_6_plus_ISO1_MT_genomic_drosophila_melanogaster.fna.gz\" \"4\" \"both\" \"16\" \"distributed\" {os.getenv(\"OUTPUT_BKT\")}\"four-4standard-d\""
      ]
    },
    {
      "cell_type": "code",
      "execution_count": null,
      "metadata": {
        "colab": {
          "base_uri": "https://localhost:8080/"
        },
        "id": "wf3RGwQ_iEuJ",
        "outputId": "d814b6fb-b657-4eb6-ddf5-6ae2e7648536"
      },
      "outputs": [
        {
          "name": "stdout",
          "output_type": "stream",
          "text": [
            "Job [a33383e502004204b4d9670aad858537] submitted.\n",
            "Waiting for job output...\n",
            "23/12/01 17:59:13 INFO org.apache.spark.SparkEnv: Registering MapOutputTracker\n",
            "23/12/01 17:59:13 INFO org.apache.spark.SparkEnv: Registering BlockManagerMaster\n",
            "23/12/01 17:59:13 INFO org.apache.spark.SparkEnv: Registering BlockManagerMasterHeartbeat\n",
            "23/12/01 17:59:13 INFO org.apache.spark.SparkEnv: Registering OutputCommitCoordinator\n",
            "23/12/01 17:59:13 INFO org.sparkproject.jetty.util.log: Logging initialized @3940ms to org.sparkproject.jetty.util.log.Slf4jLog\n",
            "23/12/01 17:59:13 INFO org.sparkproject.jetty.server.Server: jetty-9.4.40.v20210413; built: 2021-04-13T20:42:42.668Z; git: b881a572662e1943a14ae12e7e1207989f218b74; jvm 1.8.0_392-b08\n",
            "23/12/01 17:59:13 INFO org.sparkproject.jetty.server.Server: Started @4054ms\n",
            "23/12/01 17:59:13 INFO org.sparkproject.jetty.server.AbstractConnector: Started ServerConnector@25b5c5e3{HTTP/1.1, (http/1.1)}{0.0.0.0:45965}\n",
            "23/12/01 17:59:14 INFO org.apache.hadoop.yarn.client.RMProxy: Connecting to ResourceManager at five-4standard-cluster-m/10.164.0.39:8032\n",
            "23/12/01 17:59:14 INFO org.apache.hadoop.yarn.client.AHSProxy: Connecting to Application History server at five-4standard-cluster-m/10.164.0.39:10200\n",
            "23/12/01 17:59:15 INFO org.apache.hadoop.conf.Configuration: resource-types.xml not found\n",
            "23/12/01 17:59:15 INFO org.apache.hadoop.yarn.util.resource.ResourceUtils: Unable to find 'resource-types.xml'.\n",
            "23/12/01 17:59:16 INFO org.apache.hadoop.yarn.client.api.impl.YarnClientImpl: Submitted application application_1701444374144_0004\n",
            "23/12/01 17:59:17 INFO org.apache.hadoop.yarn.client.RMProxy: Connecting to ResourceManager at five-4standard-cluster-m/10.164.0.39:8030\n",
            "23/12/01 17:59:19 INFO com.google.cloud.hadoop.fs.gcs.GhfsStorageStatistics: Detected potential high latency for operation op_get_file_status. latencyMs=286; previousMaxLatencyMs=0; operationCount=1; context=gs://dataproc-temp-europe-west4-804786195349-x5nym9rl/35d6dbe2-f682-4f2c-8ef6-a51f8f0123f1/spark-job-history\n",
            "23/12/01 17:59:19 INFO com.google.cloud.hadoop.repackaged.gcs.com.google.cloud.hadoop.gcsio.GoogleCloudStorageImpl: Ignoring exception of type GoogleJsonResponseException; verified object already exists with desired state.\n",
            "Current configuration:\n",
            "\t- master: yarn\n",
            "\t- data path: gs://k-mercounting-sec-data/GCF_000001215.4_Release_6_plus_ISO1_MT_genomic_drosophila_melanogaster.fna.gz\n",
            "\t- output path: gs://k-mercounting-sec-output/five-4standard-d-both1-1\n",
            "\t- counting type: both\n",
            "\t- k value: 4\n",
            "\t- execution mode: distributed\n",
            "\t- Spark Context initialized with parallelism: 32\n",
            "\n",
            "K-mer counting computed in 229.393232162 sec. \n",
            "Saving results in file...\n",
            "Results saved in gs://k-mercounting-sec-output/five-4standard-d-both1-1.\n",
            "Job [a33383e502004204b4d9670aad858537] finished successfully.\n",
            "done: true\n",
            "driverControlFilesUri: gs://dataproc-staging-europe-west4-804786195349-4q3fuwar/google-cloud-dataproc-metainfo/35d6dbe2-f682-4f2c-8ef6-a51f8f0123f1/jobs/a33383e502004204b4d9670aad858537/\n",
            "driverOutputResourceUri: gs://dataproc-staging-europe-west4-804786195349-4q3fuwar/google-cloud-dataproc-metainfo/35d6dbe2-f682-4f2c-8ef6-a51f8f0123f1/jobs/a33383e502004204b4d9670aad858537/driveroutput\n",
            "jobUuid: fa2a477b-6f3e-38d6-8b6c-64102cb0c7e9\n",
            "placement:\n",
            "  clusterName: five-4standard-cluster\n",
            "  clusterUuid: 35d6dbe2-f682-4f2c-8ef6-a51f8f0123f1\n",
            "reference:\n",
            "  jobId: a33383e502004204b4d9670aad858537\n",
            "  projectId: groovy-vector-406611\n",
            "sparkJob:\n",
            "  args:\n",
            "  - yarn\n",
            "  - gs://k-mercounting-sec-data/GCF_000001215.4_Release_6_plus_ISO1_MT_genomic_drosophila_melanogaster.fna.gz\n",
            "  - '4'\n",
            "  - both\n",
            "  - '32'\n",
            "  - distributed\n",
            "  - gs://k-mercounting-sec-output/five-4standard-d-both1-1\n",
            "  mainJarFileUri: gs://k-mercounting-sec-data/kmercounting_2.12-0.1.1-SNAPSHOT11.jar\n",
            "status:\n",
            "  state: DONE\n",
            "  stateStartTime: '2023-12-01T18:05:28.378798Z'\n",
            "statusHistory:\n",
            "- state: PENDING\n",
            "  stateStartTime: '2023-12-01T17:59:07.793059Z'\n",
            "- state: SETUP_DONE\n",
            "  stateStartTime: '2023-12-01T17:59:07.838321Z'\n",
            "- details: Agent reported job success\n",
            "  state: RUNNING\n",
            "  stateStartTime: '2023-12-01T17:59:08.090646Z'\n",
            "yarnApplications:\n",
            "- name: K-mer Counting\n",
            "  progress: 1.0\n",
            "  state: FINISHED\n",
            "  trackingUrl: http://five-4standard-cluster-m:8088/proxy/application_1701444374144_0004/\n"
          ]
        }
      ],
      "source": [
        "# cluster n1-standard-4 con 5 worker, k=4, p=32\n",
        "!gcloud dataproc jobs submit spark \\\n",
        "    --cluster=five-4standard-cluster \\\n",
        "    --region={os.getenv(\"CLUSTER_REGION\")} \\\n",
        "    --jar={os.getenv(\"DATA_BKT\")}\"kmercounting_2.12-0.1.1-SNAPSHOT11.jar\" \\\n",
        "    -- \"yarn\" {os.getenv(\"DATA_BKT\")}\"GCF_000001215.4_Release_6_plus_ISO1_MT_genomic_drosophila_melanogaster.fna.gz\" \"4\" \"both\" \"32\" \"distributed\" {os.getenv(\"OUTPUT_BKT\")}\"five-4standard-d-both1-1\""
      ]
    },
    {
      "cell_type": "code",
      "source": [
        "# cluster n1-standard-8 con 2 worker, k= 4, p = 32\n",
        "!gcloud dataproc jobs submit spark \\\n",
        "    --cluster=two-8standard-cluster \\\n",
        "    --region={os.getenv(\"CLUSTER_REGION\")} \\\n",
        "    --jar={os.getenv(\"DATA_BKT\")}\"kmercounting_2.12-0.1.0-SNAPSHOT11.jar\" \\\n",
        "    -- \"yarn\" {os.getenv(\"DATA_BKT\")}\"GCF_000001215.4_Release_6_plus_ISO1_MT_genomic_drosophila_melanogaster.fna.gz\" \"4\" \"both\" \"32\" \"distributed\" {os.getenv(\"OUTPUT_BKT\")}\"two-8standard32-d\""
      ],
      "metadata": {
        "colab": {
          "base_uri": "https://localhost:8080/"
        },
        "id": "onqOvJuQMDGm",
        "outputId": "1243eddb-1f67-49c0-dbf8-99f2bea13fa4"
      },
      "execution_count": null,
      "outputs": [
        {
          "output_type": "stream",
          "name": "stdout",
          "text": [
            "Job [22a84141d59240ff9b0d862a0bbdf58e] submitted.\n",
            "Waiting for job output...\n",
            "23/12/29 10:48:39 INFO org.apache.spark.SparkEnv: Registering MapOutputTracker\n",
            "23/12/29 10:48:39 INFO org.apache.spark.SparkEnv: Registering BlockManagerMaster\n",
            "23/12/29 10:48:39 INFO org.apache.spark.SparkEnv: Registering BlockManagerMasterHeartbeat\n",
            "23/12/29 10:48:39 INFO org.apache.spark.SparkEnv: Registering OutputCommitCoordinator\n",
            "23/12/29 10:48:39 INFO org.sparkproject.jetty.util.log: Logging initialized @3499ms to org.sparkproject.jetty.util.log.Slf4jLog\n",
            "23/12/29 10:48:39 INFO org.sparkproject.jetty.server.Server: jetty-9.4.40.v20210413; built: 2021-04-13T20:42:42.668Z; git: b881a572662e1943a14ae12e7e1207989f218b74; jvm 1.8.0_392-b08\n",
            "23/12/29 10:48:39 INFO org.sparkproject.jetty.server.Server: Started @3598ms\n",
            "23/12/29 10:48:39 INFO org.sparkproject.jetty.server.AbstractConnector: Started ServerConnector@6f0cb5a1{HTTP/1.1, (http/1.1)}{0.0.0.0:46641}\n",
            "23/12/29 10:48:40 INFO org.apache.hadoop.yarn.client.RMProxy: Connecting to ResourceManager at two-8standard-cluster-m/10.164.0.5:8032\n",
            "23/12/29 10:48:40 INFO org.apache.hadoop.yarn.client.AHSProxy: Connecting to Application History server at two-8standard-cluster-m/10.164.0.5:10200\n",
            "23/12/29 10:48:41 INFO org.apache.hadoop.conf.Configuration: resource-types.xml not found\n",
            "23/12/29 10:48:41 INFO org.apache.hadoop.yarn.util.resource.ResourceUtils: Unable to find 'resource-types.xml'.\n",
            "23/12/29 10:48:42 INFO org.apache.hadoop.yarn.client.api.impl.YarnClientImpl: Submitted application application_1703846808391_0001\n",
            "23/12/29 10:48:43 INFO org.apache.hadoop.yarn.client.RMProxy: Connecting to ResourceManager at two-8standard-cluster-m/10.164.0.5:8030\n",
            "23/12/29 10:48:45 INFO com.google.cloud.hadoop.fs.gcs.GhfsStorageStatistics: Detected potential high latency for operation op_get_file_status. latencyMs=419; previousMaxLatencyMs=0; operationCount=1; context=gs://dataproc-temp-europe-west4-804786195349-x5nym9rl/7bef72b3-b7b4-4411-ab2b-c31f58989dbb/spark-job-history\n",
            "23/12/29 10:48:46 INFO com.google.cloud.hadoop.repackaged.gcs.com.google.cloud.hadoop.gcsio.GoogleCloudStorageImpl: Ignoring exception of type GoogleJsonResponseException; verified object already exists with desired state.\n",
            "23/12/29 10:48:46 INFO com.google.cloud.hadoop.fs.gcs.GhfsStorageStatistics: Detected potential high latency for operation op_mkdirs. latencyMs=423; previousMaxLatencyMs=0; operationCount=1; context=gs://dataproc-temp-europe-west4-804786195349-x5nym9rl/7bef72b3-b7b4-4411-ab2b-c31f58989dbb/spark-job-history\n",
            "23/12/29 10:48:46 INFO com.google.cloud.hadoop.fs.gcs.GhfsStorageStatistics: Detected potential high latency for operation op_create. latencyMs=627; previousMaxLatencyMs=0; operationCount=1; context=gs://dataproc-temp-europe-west4-804786195349-x5nym9rl/7bef72b3-b7b4-4411-ab2b-c31f58989dbb/spark-job-history/application_1703846808391_0001.inprogress\n",
            "Current configuration:\n",
            "\t- master: yarn\n",
            "\t- data path: gs://k-mercounting-sec-data/GCF_000001215.4_Release_6_plus_ISO1_MT_genomic_drosophila_melanogaster.fna.gz\n",
            "\t- output path: gs://k-mercounting-sec-output/two-8standard32-d\n",
            "\t- counting type: both\n",
            "\t- k value: 4\n",
            "\t- execution mode: distributed\n",
            "\t- Spark Context initialized with parallelism: 32\n",
            "\n",
            "K-mer counting computed in 276.917298885 sec. \n",
            "Saving results in file...\n",
            "Results saved in gs://k-mercounting-sec-output/two-8standard32-d.\n",
            "Job [22a84141d59240ff9b0d862a0bbdf58e] finished successfully.\n",
            "done: true\n",
            "driverControlFilesUri: gs://dataproc-staging-europe-west4-804786195349-4q3fuwar/google-cloud-dataproc-metainfo/7bef72b3-b7b4-4411-ab2b-c31f58989dbb/jobs/22a84141d59240ff9b0d862a0bbdf58e/\n",
            "driverOutputResourceUri: gs://dataproc-staging-europe-west4-804786195349-4q3fuwar/google-cloud-dataproc-metainfo/7bef72b3-b7b4-4411-ab2b-c31f58989dbb/jobs/22a84141d59240ff9b0d862a0bbdf58e/driveroutput\n",
            "jobUuid: 616de962-52af-30df-8504-41bb0f02b8f7\n",
            "placement:\n",
            "  clusterName: two-8standard-cluster\n",
            "  clusterUuid: 7bef72b3-b7b4-4411-ab2b-c31f58989dbb\n",
            "reference:\n",
            "  jobId: 22a84141d59240ff9b0d862a0bbdf58e\n",
            "  projectId: groovy-vector-406611\n",
            "sparkJob:\n",
            "  args:\n",
            "  - yarn\n",
            "  - gs://k-mercounting-sec-data/GCF_000001215.4_Release_6_plus_ISO1_MT_genomic_drosophila_melanogaster.fna.gz\n",
            "  - '4'\n",
            "  - both\n",
            "  - '32'\n",
            "  - distributed\n",
            "  - gs://k-mercounting-sec-output/two-8standard32-d\n",
            "  mainJarFileUri: gs://k-mercounting-sec-data/kmercounting_2.12-0.1.0-SNAPSHOT11.jar\n",
            "status:\n",
            "  state: DONE\n",
            "  stateStartTime: '2023-12-29T10:55:36.705027Z'\n",
            "statusHistory:\n",
            "- state: PENDING\n",
            "  stateStartTime: '2023-12-29T10:48:33.381859Z'\n",
            "- state: SETUP_DONE\n",
            "  stateStartTime: '2023-12-29T10:48:33.417809Z'\n",
            "- details: Agent reported job success\n",
            "  state: RUNNING\n",
            "  stateStartTime: '2023-12-29T10:48:33.743251Z'\n",
            "yarnApplications:\n",
            "- name: K-mer Counting\n",
            "  progress: 1.0\n",
            "  state: FINISHED\n",
            "  trackingUrl: http://two-8standard-cluster-m:8088/proxy/application_1703846808391_0001/\n"
          ]
        }
      ]
    },
    {
      "cell_type": "code",
      "execution_count": null,
      "metadata": {
        "colab": {
          "base_uri": "https://localhost:8080/"
        },
        "id": "rWNJod5DJsrq",
        "outputId": "0675b2ec-5f14-4a6d-d8a9-bf5a42e2887d"
      },
      "outputs": [
        {
          "name": "stdout",
          "output_type": "stream",
          "text": [
            "Job [235ad8b751234ffdb9f5c186c5a5481a] submitted.\n",
            "Waiting for job output...\n",
            "23/12/04 23:27:31 INFO org.apache.spark.SparkEnv: Registering MapOutputTracker\n",
            "23/12/04 23:27:31 INFO org.apache.spark.SparkEnv: Registering BlockManagerMaster\n",
            "23/12/04 23:27:31 INFO org.apache.spark.SparkEnv: Registering BlockManagerMasterHeartbeat\n",
            "23/12/04 23:27:31 INFO org.apache.spark.SparkEnv: Registering OutputCommitCoordinator\n",
            "23/12/04 23:27:31 INFO org.sparkproject.jetty.util.log: Logging initialized @3127ms to org.sparkproject.jetty.util.log.Slf4jLog\n",
            "23/12/04 23:27:31 INFO org.sparkproject.jetty.server.Server: jetty-9.4.40.v20210413; built: 2021-04-13T20:42:42.668Z; git: b881a572662e1943a14ae12e7e1207989f218b74; jvm 1.8.0_392-b08\n",
            "23/12/04 23:27:31 INFO org.sparkproject.jetty.server.Server: Started @3226ms\n",
            "23/12/04 23:27:31 INFO org.sparkproject.jetty.server.AbstractConnector: Started ServerConnector@6f0cb5a1{HTTP/1.1, (http/1.1)}{0.0.0.0:36377}\n",
            "23/12/04 23:27:32 INFO org.apache.hadoop.yarn.client.RMProxy: Connecting to ResourceManager at two-8standard-cluster-m/10.164.0.54:8032\n",
            "23/12/04 23:27:32 INFO org.apache.hadoop.yarn.client.AHSProxy: Connecting to Application History server at two-8standard-cluster-m/10.164.0.54:10200\n",
            "23/12/04 23:27:33 INFO org.apache.hadoop.conf.Configuration: resource-types.xml not found\n",
            "23/12/04 23:27:33 INFO org.apache.hadoop.yarn.util.resource.ResourceUtils: Unable to find 'resource-types.xml'.\n",
            "23/12/04 23:27:33 INFO org.apache.hadoop.yarn.client.api.impl.YarnClientImpl: Submitted application application_1701722717812_0002\n",
            "23/12/04 23:27:34 INFO org.apache.hadoop.yarn.client.RMProxy: Connecting to ResourceManager at two-8standard-cluster-m/10.164.0.54:8030\n",
            "23/12/04 23:27:36 INFO com.google.cloud.hadoop.fs.gcs.GhfsStorageStatistics: Detected potential high latency for operation op_get_file_status. latencyMs=206; previousMaxLatencyMs=0; operationCount=1; context=gs://dataproc-temp-europe-west4-804786195349-x5nym9rl/2e578cd9-782f-40d7-a113-001bbbeae7f1/spark-job-history\n",
            "23/12/04 23:27:36 INFO com.google.cloud.hadoop.repackaged.gcs.com.google.cloud.hadoop.gcsio.GoogleCloudStorageImpl: Ignoring exception of type GoogleJsonResponseException; verified object already exists with desired state.\n",
            "Current configuration:\n",
            "\t- master: yarn\n",
            "\t- data path: gs://k-mercounting-sec-data/GCF_000001215.4_Release_6_plus_ISO1_MT_genomic_drosophila_melanogaster.fna.gz\n",
            "\t- output path: gs://k-mercounting-sec-output/two-8standard-d-k8\n",
            "\t- counting type: both\n",
            "\t- k value: 8\n",
            "\t- execution mode: distributed\n",
            "\t- Spark Context initialized with parallelism: 32\n",
            "\n",
            "K-mer counting computed in 304.783574921 sec. \n",
            "Saving results in file...\n",
            "23/12/04 23:35:07 WARN org.apache.spark.scheduler.TaskSetManager: Stage 13 contains a task of very large size (1732 KiB). The maximum recommended task size is 1000 KiB.\n",
            "Results saved in gs://k-mercounting-sec-output/two-8standard-d-k8.\n",
            "Job [235ad8b751234ffdb9f5c186c5a5481a] finished successfully.\n",
            "done: true\n",
            "driverControlFilesUri: gs://dataproc-staging-europe-west4-804786195349-4q3fuwar/google-cloud-dataproc-metainfo/2e578cd9-782f-40d7-a113-001bbbeae7f1/jobs/235ad8b751234ffdb9f5c186c5a5481a/\n",
            "driverOutputResourceUri: gs://dataproc-staging-europe-west4-804786195349-4q3fuwar/google-cloud-dataproc-metainfo/2e578cd9-782f-40d7-a113-001bbbeae7f1/jobs/235ad8b751234ffdb9f5c186c5a5481a/driveroutput\n",
            "jobUuid: b19e3b96-764a-3e3d-a9d4-254318146fb1\n",
            "placement:\n",
            "  clusterName: two-8standard-cluster\n",
            "  clusterUuid: 2e578cd9-782f-40d7-a113-001bbbeae7f1\n",
            "reference:\n",
            "  jobId: 235ad8b751234ffdb9f5c186c5a5481a\n",
            "  projectId: groovy-vector-406611\n",
            "sparkJob:\n",
            "  args:\n",
            "  - yarn\n",
            "  - gs://k-mercounting-sec-data/GCF_000001215.4_Release_6_plus_ISO1_MT_genomic_drosophila_melanogaster.fna.gz\n",
            "  - '8'\n",
            "  - both\n",
            "  - '32'\n",
            "  - distributed\n",
            "  - gs://k-mercounting-sec-output/two-8standard-d-k8\n",
            "  mainJarFileUri: gs://k-mercounting-sec-data/kmercounting_2.12-0.1.0-SNAPSHOT11.jar\n",
            "status:\n",
            "  state: DONE\n",
            "  stateStartTime: '2023-12-04T23:35:14.255510Z'\n",
            "statusHistory:\n",
            "- state: PENDING\n",
            "  stateStartTime: '2023-12-04T23:27:27.685689Z'\n",
            "- state: SETUP_DONE\n",
            "  stateStartTime: '2023-12-04T23:27:27.725978Z'\n",
            "- details: Agent reported job success\n",
            "  state: RUNNING\n",
            "  stateStartTime: '2023-12-04T23:27:27.994976Z'\n",
            "yarnApplications:\n",
            "- name: K-mer Counting\n",
            "  progress: 1.0\n",
            "  state: FINISHED\n",
            "  trackingUrl: http://two-8standard-cluster-m:8088/proxy/application_1701722717812_0002/\n"
          ]
        }
      ],
      "source": [
        "# custer n1-standard-8 con 2 workers, k=8, p=32\n",
        "!gcloud dataproc jobs submit spark \\\n",
        "    --cluster=two-8standard-cluster \\\n",
        "    --region={os.getenv(\"CLUSTER_REGION\")} \\\n",
        "    --jar={os.getenv(\"DATA_BKT\")}\"kmercounting_2.12-0.1.0-SNAPSHOT11.jar\" \\\n",
        "    -- \"yarn\" {os.getenv(\"DATA_BKT\")}\"GCF_000001215.4_Release_6_plus_ISO1_MT_genomic_drosophila_melanogaster.fna.gz\" \"8\" \"both\" \"32\" \"distributed\" {os.getenv(\"OUTPUT_BKT\")}\"two-8standard-d-k8\""
      ]
    },
    {
      "cell_type": "code",
      "source": [
        "# cluster n1-standard-4 con 2 workers, k=8, p=32\n",
        "!gcloud dataproc jobs submit spark \\\n",
        "    --cluster=two-4standard-cluster \\\n",
        "    --region={os.getenv(\"CLUSTER_REGION\")} \\\n",
        "    --jar={os.getenv(\"DATA_BKT\")}\"kmercounting_2.12-0.1.0-SNAPSHOT11.jar\" \\\n",
        "    -- \"yarn\" {os.getenv(\"DATA_BKT\")}\"GCF_000001215.4_Release_6_plus_ISO1_MT_genomic_drosophila_melanogaster.fna.gz\" \"8\" \"both\" \"32\" \"distributed\" {os.getenv(\"OUTPUT_BKT\")}\"two-4standard-mm-k8-p32\""
      ],
      "metadata": {
        "colab": {
          "base_uri": "https://localhost:8080/"
        },
        "id": "DI6Q-PlSATMA",
        "outputId": "d999561c-9b51-44d4-dc90-58af74f5dcdf"
      },
      "execution_count": null,
      "outputs": [
        {
          "output_type": "stream",
          "name": "stdout",
          "text": [
            "Job [d2aa476ec70549829c6426f026824683] submitted.\n",
            "Waiting for job output...\n",
            "24/01/02 21:10:19 INFO org.apache.spark.SparkEnv: Registering MapOutputTracker\n",
            "24/01/02 21:10:19 INFO org.apache.spark.SparkEnv: Registering BlockManagerMaster\n",
            "24/01/02 21:10:19 INFO org.apache.spark.SparkEnv: Registering BlockManagerMasterHeartbeat\n",
            "24/01/02 21:10:20 INFO org.apache.spark.SparkEnv: Registering OutputCommitCoordinator\n",
            "24/01/02 21:10:20 INFO org.sparkproject.jetty.util.log: Logging initialized @3825ms to org.sparkproject.jetty.util.log.Slf4jLog\n",
            "24/01/02 21:10:20 INFO org.sparkproject.jetty.server.Server: jetty-9.4.40.v20210413; built: 2021-04-13T20:42:42.668Z; git: b881a572662e1943a14ae12e7e1207989f218b74; jvm 1.8.0_392-b08\n",
            "24/01/02 21:10:20 INFO org.sparkproject.jetty.server.Server: Started @3959ms\n",
            "24/01/02 21:10:20 INFO org.sparkproject.jetty.server.AbstractConnector: Started ServerConnector@25b5c5e3{HTTP/1.1, (http/1.1)}{0.0.0.0:37105}\n",
            "24/01/02 21:10:21 INFO org.apache.hadoop.yarn.client.RMProxy: Connecting to ResourceManager at two-4standard-cluster-m/10.164.15.195:8032\n",
            "24/01/02 21:10:21 INFO org.apache.hadoop.yarn.client.AHSProxy: Connecting to Application History server at two-4standard-cluster-m/10.164.15.195:10200\n",
            "24/01/02 21:10:21 INFO org.apache.hadoop.conf.Configuration: resource-types.xml not found\n",
            "24/01/02 21:10:21 INFO org.apache.hadoop.yarn.util.resource.ResourceUtils: Unable to find 'resource-types.xml'.\n",
            "24/01/02 21:10:22 INFO org.apache.hadoop.yarn.client.api.impl.YarnClientImpl: Submitted application application_1704228590873_0002\n",
            "24/01/02 21:10:23 INFO org.apache.hadoop.yarn.client.RMProxy: Connecting to ResourceManager at two-4standard-cluster-m/10.164.15.195:8030\n",
            "24/01/02 21:10:25 INFO com.google.cloud.hadoop.fs.gcs.GhfsStorageStatistics: Detected potential high latency for operation op_get_file_status. latencyMs=435; previousMaxLatencyMs=0; operationCount=1; context=gs://dataproc-temp-europe-west4-804786195349-x5nym9rl/1bce097a-979d-45b8-93b0-cb10c997e0d6/spark-job-history\n",
            "24/01/02 21:10:26 INFO com.google.cloud.hadoop.repackaged.gcs.com.google.cloud.hadoop.gcsio.GoogleCloudStorageImpl: Ignoring exception of type GoogleJsonResponseException; verified object already exists with desired state.\n",
            "24/01/02 21:10:26 INFO com.google.cloud.hadoop.fs.gcs.GhfsStorageStatistics: Detected potential high latency for operation op_mkdirs. latencyMs=400; previousMaxLatencyMs=0; operationCount=1; context=gs://dataproc-temp-europe-west4-804786195349-x5nym9rl/1bce097a-979d-45b8-93b0-cb10c997e0d6/spark-job-history\n",
            "24/01/02 21:10:27 INFO com.google.cloud.hadoop.fs.gcs.GhfsStorageStatistics: Detected potential high latency for operation op_create. latencyMs=619; previousMaxLatencyMs=0; operationCount=1; context=gs://dataproc-temp-europe-west4-804786195349-x5nym9rl/1bce097a-979d-45b8-93b0-cb10c997e0d6/spark-job-history/application_1704228590873_0002.inprogress\n",
            "Current configuration:\n",
            "\t- master: yarn\n",
            "\t- data path: gs://k-mercounting-sec-data/GCF_000001215.4_Release_6_plus_ISO1_MT_genomic_drosophila_melanogaster.fna.gz\n",
            "\t- output path: gs://k-mercounting-sec-output/two-4standard-mm-k8-p32\n",
            "\t- counting type: both\n",
            "\t- k value: 8\n",
            "\t- execution mode: distributed\n",
            "\t- Spark Context initialized with parallelism: 32\n",
            "\n",
            "K-mer counting computed in 406.65138002 sec. \n",
            "Saving results in file...\n",
            "24/01/02 21:19:58 WARN org.apache.spark.scheduler.TaskSetManager: Stage 13 contains a task of very large size (1732 KiB). The maximum recommended task size is 1000 KiB.\n",
            "Results saved in gs://k-mercounting-sec-output/two-4standard-mm-k8-p32.\n",
            "Job [d2aa476ec70549829c6426f026824683] finished successfully.\n",
            "done: true\n",
            "driverControlFilesUri: gs://dataproc-staging-europe-west4-804786195349-4q3fuwar/google-cloud-dataproc-metainfo/1bce097a-979d-45b8-93b0-cb10c997e0d6/jobs/d2aa476ec70549829c6426f026824683/\n",
            "driverOutputResourceUri: gs://dataproc-staging-europe-west4-804786195349-4q3fuwar/google-cloud-dataproc-metainfo/1bce097a-979d-45b8-93b0-cb10c997e0d6/jobs/d2aa476ec70549829c6426f026824683/driveroutput\n",
            "jobUuid: 62505d8f-000a-31e8-8d76-420e389fc2ee\n",
            "placement:\n",
            "  clusterName: two-4standard-cluster\n",
            "  clusterUuid: 1bce097a-979d-45b8-93b0-cb10c997e0d6\n",
            "reference:\n",
            "  jobId: d2aa476ec70549829c6426f026824683\n",
            "  projectId: groovy-vector-406611\n",
            "sparkJob:\n",
            "  args:\n",
            "  - yarn\n",
            "  - gs://k-mercounting-sec-data/GCF_000001215.4_Release_6_plus_ISO1_MT_genomic_drosophila_melanogaster.fna.gz\n",
            "  - '8'\n",
            "  - both\n",
            "  - '32'\n",
            "  - distributed\n",
            "  - gs://k-mercounting-sec-output/two-4standard-mm-k8-p32\n",
            "  mainJarFileUri: gs://k-mercounting-sec-data/kmercounting_2.12-0.1.0-SNAPSHOT11.jar\n",
            "status:\n",
            "  state: DONE\n",
            "  stateStartTime: '2024-01-02T21:20:03.765120Z'\n",
            "statusHistory:\n",
            "- state: PENDING\n",
            "  stateStartTime: '2024-01-02T21:10:14.924856Z'\n",
            "- state: SETUP_DONE\n",
            "  stateStartTime: '2024-01-02T21:10:14.958203Z'\n",
            "- details: Agent reported job success\n",
            "  state: RUNNING\n",
            "  stateStartTime: '2024-01-02T21:10:15.150703Z'\n",
            "yarnApplications:\n",
            "- name: K-mer Counting\n",
            "  progress: 1.0\n",
            "  state: FINISHED\n",
            "  trackingUrl: http://two-4standard-cluster-m:8088/proxy/application_1704228590873_0002/\n"
          ]
        }
      ]
    },
    {
      "cell_type": "code",
      "source": [
        "# cluster n1-standard-4 con 3 workers, k=8, p=32\n",
        "!gcloud dataproc jobs submit spark \\\n",
        "    --cluster=three-4standard-cluster \\\n",
        "    --region={os.getenv(\"CLUSTER_REGION\")} \\\n",
        "    --jar={os.getenv(\"DATA_BKT\")}\"kmercounting_2.12-0.1.0-SNAPSHOT11.jar\" \\\n",
        "    -- \"yarn\" {os.getenv(\"DATA_BKT\")}\"GCF_000001215.4_Release_6_plus_ISO1_MT_genomic_drosophila_melanogaster.fna.gz\" \"8\" \"both\" \"32\" \"distributed\" {os.getenv(\"OUTPUT_BKT\")}\"three-4standard-mmk4p32\""
      ],
      "metadata": {
        "colab": {
          "base_uri": "https://localhost:8080/"
        },
        "id": "Qj3SzlP8HPsp",
        "outputId": "3724b15a-802e-4eea-c406-f081acc0eff2"
      },
      "execution_count": null,
      "outputs": [
        {
          "output_type": "stream",
          "name": "stdout",
          "text": [
            "Job [84a70118b9374be2b57a60529b112d02] submitted.\n",
            "Waiting for job output...\n",
            "24/01/02 21:41:33 INFO org.apache.spark.SparkEnv: Registering MapOutputTracker\n",
            "24/01/02 21:41:33 INFO org.apache.spark.SparkEnv: Registering BlockManagerMaster\n",
            "24/01/02 21:41:33 INFO org.apache.spark.SparkEnv: Registering BlockManagerMasterHeartbeat\n",
            "24/01/02 21:41:33 INFO org.apache.spark.SparkEnv: Registering OutputCommitCoordinator\n",
            "24/01/02 21:41:34 INFO org.sparkproject.jetty.util.log: Logging initialized @3683ms to org.sparkproject.jetty.util.log.Slf4jLog\n",
            "24/01/02 21:41:34 INFO org.sparkproject.jetty.server.Server: jetty-9.4.40.v20210413; built: 2021-04-13T20:42:42.668Z; git: b881a572662e1943a14ae12e7e1207989f218b74; jvm 1.8.0_392-b08\n",
            "24/01/02 21:41:34 INFO org.sparkproject.jetty.server.Server: Started @3801ms\n",
            "24/01/02 21:41:34 INFO org.sparkproject.jetty.server.AbstractConnector: Started ServerConnector@62b7fa19{HTTP/1.1, (http/1.1)}{0.0.0.0:37503}\n",
            "24/01/02 21:41:35 INFO org.apache.hadoop.yarn.client.RMProxy: Connecting to ResourceManager at three-4standard-cluster-m/10.164.15.197:8032\n",
            "24/01/02 21:41:35 INFO org.apache.hadoop.yarn.client.AHSProxy: Connecting to Application History server at three-4standard-cluster-m/10.164.15.197:10200\n",
            "24/01/02 21:41:35 INFO org.apache.hadoop.conf.Configuration: resource-types.xml not found\n",
            "24/01/02 21:41:35 INFO org.apache.hadoop.yarn.util.resource.ResourceUtils: Unable to find 'resource-types.xml'.\n",
            "24/01/02 21:41:36 INFO org.apache.hadoop.yarn.client.api.impl.YarnClientImpl: Submitted application application_1704231584376_0002\n",
            "24/01/02 21:41:37 INFO org.apache.hadoop.yarn.client.RMProxy: Connecting to ResourceManager at three-4standard-cluster-m/10.164.15.197:8030\n",
            "24/01/02 21:41:39 INFO com.google.cloud.hadoop.fs.gcs.GhfsStorageStatistics: Detected potential high latency for operation op_get_file_status. latencyMs=618; previousMaxLatencyMs=0; operationCount=1; context=gs://dataproc-temp-europe-west4-804786195349-x5nym9rl/6570ed12-2e7f-4c08-8fce-8c4bb00b5f80/spark-job-history\n",
            "24/01/02 21:41:40 INFO com.google.cloud.hadoop.repackaged.gcs.com.google.cloud.hadoop.gcsio.GoogleCloudStorageImpl: Ignoring exception of type GoogleJsonResponseException; verified object already exists with desired state.\n",
            "24/01/02 21:41:40 INFO com.google.cloud.hadoop.fs.gcs.GhfsStorageStatistics: Detected potential high latency for operation op_mkdirs. latencyMs=397; previousMaxLatencyMs=0; operationCount=1; context=gs://dataproc-temp-europe-west4-804786195349-x5nym9rl/6570ed12-2e7f-4c08-8fce-8c4bb00b5f80/spark-job-history\n",
            "24/01/02 21:41:40 INFO com.google.cloud.hadoop.fs.gcs.GhfsStorageStatistics: Detected potential high latency for operation op_create. latencyMs=610; previousMaxLatencyMs=0; operationCount=1; context=gs://dataproc-temp-europe-west4-804786195349-x5nym9rl/6570ed12-2e7f-4c08-8fce-8c4bb00b5f80/spark-job-history/application_1704231584376_0002.inprogress\n",
            "Current configuration:\n",
            "\t- master: yarn\n",
            "\t- data path: gs://k-mercounting-sec-data/GCF_000001215.4_Release_6_plus_ISO1_MT_genomic_drosophila_melanogaster.fna.gz\n",
            "\t- output path: gs://k-mercounting-sec-output/three-4standard-mmk4p32\n",
            "\t- counting type: both\n",
            "\t- k value: 8\n",
            "\t- execution mode: distributed\n",
            "\t- Spark Context initialized with parallelism: 32\n",
            "\n",
            "K-mer counting computed in 331.28538187 sec. \n",
            "Saving results in file...\n",
            "24/01/02 21:49:53 WARN org.apache.spark.scheduler.TaskSetManager: Stage 13 contains a task of very large size (1732 KiB). The maximum recommended task size is 1000 KiB.\n",
            "Results saved in gs://k-mercounting-sec-output/three-4standard-mmk4p32.\n",
            "Job [84a70118b9374be2b57a60529b112d02] finished successfully.\n",
            "done: true\n",
            "driverControlFilesUri: gs://dataproc-staging-europe-west4-804786195349-4q3fuwar/google-cloud-dataproc-metainfo/6570ed12-2e7f-4c08-8fce-8c4bb00b5f80/jobs/84a70118b9374be2b57a60529b112d02/\n",
            "driverOutputResourceUri: gs://dataproc-staging-europe-west4-804786195349-4q3fuwar/google-cloud-dataproc-metainfo/6570ed12-2e7f-4c08-8fce-8c4bb00b5f80/jobs/84a70118b9374be2b57a60529b112d02/driveroutput\n",
            "jobUuid: 2fc92a95-257b-3738-ac1b-6ac23ee9d40c\n",
            "placement:\n",
            "  clusterName: three-4standard-cluster\n",
            "  clusterUuid: 6570ed12-2e7f-4c08-8fce-8c4bb00b5f80\n",
            "reference:\n",
            "  jobId: 84a70118b9374be2b57a60529b112d02\n",
            "  projectId: groovy-vector-406611\n",
            "sparkJob:\n",
            "  args:\n",
            "  - yarn\n",
            "  - gs://k-mercounting-sec-data/GCF_000001215.4_Release_6_plus_ISO1_MT_genomic_drosophila_melanogaster.fna.gz\n",
            "  - '8'\n",
            "  - both\n",
            "  - '32'\n",
            "  - distributed\n",
            "  - gs://k-mercounting-sec-output/three-4standard-mmk4p32\n",
            "  mainJarFileUri: gs://k-mercounting-sec-data/kmercounting_2.12-0.1.0-SNAPSHOT11.jar\n",
            "status:\n",
            "  state: DONE\n",
            "  stateStartTime: '2024-01-02T21:49:58.797763Z'\n",
            "statusHistory:\n",
            "- state: PENDING\n",
            "  stateStartTime: '2024-01-02T21:41:28.762938Z'\n",
            "- state: SETUP_DONE\n",
            "  stateStartTime: '2024-01-02T21:41:28.802773Z'\n",
            "- details: Agent reported job success\n",
            "  state: RUNNING\n",
            "  stateStartTime: '2024-01-02T21:41:29.011745Z'\n",
            "yarnApplications:\n",
            "- name: K-mer Counting\n",
            "  progress: 1.0\n",
            "  state: FINISHED\n",
            "  trackingUrl: http://three-4standard-cluster-m:8088/proxy/application_1704231584376_0002/\n"
          ]
        }
      ]
    },
    {
      "cell_type": "code",
      "execution_count": null,
      "metadata": {
        "colab": {
          "base_uri": "https://localhost:8080/"
        },
        "id": "XUCzRieybfEv",
        "outputId": "c47e760d-edd5-4502-c9c0-e26d685fc0f3"
      },
      "outputs": [
        {
          "name": "stdout",
          "output_type": "stream",
          "text": [
            "Job [ebf1f78fc412406cb9a1bcc04f15fe96] submitted.\n",
            "Waiting for job output...\n",
            "23/12/05 00:44:17 INFO org.apache.spark.SparkEnv: Registering MapOutputTracker\n",
            "23/12/05 00:44:17 INFO org.apache.spark.SparkEnv: Registering BlockManagerMaster\n",
            "23/12/05 00:44:18 INFO org.apache.spark.SparkEnv: Registering BlockManagerMasterHeartbeat\n",
            "23/12/05 00:44:18 INFO org.apache.spark.SparkEnv: Registering OutputCommitCoordinator\n",
            "23/12/05 00:44:18 INFO org.sparkproject.jetty.util.log: Logging initialized @4486ms to org.sparkproject.jetty.util.log.Slf4jLog\n",
            "23/12/05 00:44:18 INFO org.sparkproject.jetty.server.Server: jetty-9.4.40.v20210413; built: 2021-04-13T20:42:42.668Z; git: b881a572662e1943a14ae12e7e1207989f218b74; jvm 1.8.0_392-b08\n",
            "23/12/05 00:44:18 INFO org.sparkproject.jetty.server.Server: Started @4609ms\n",
            "23/12/05 00:44:18 INFO org.sparkproject.jetty.server.AbstractConnector: Started ServerConnector@25b5c5e3{HTTP/1.1, (http/1.1)}{0.0.0.0:40433}\n",
            "23/12/05 00:44:19 INFO org.apache.hadoop.yarn.client.RMProxy: Connecting to ResourceManager at four-4standard-cluster-m/10.164.0.63:8032\n",
            "23/12/05 00:44:19 INFO org.apache.hadoop.yarn.client.AHSProxy: Connecting to Application History server at four-4standard-cluster-m/10.164.0.63:10200\n",
            "23/12/05 00:44:20 INFO org.apache.hadoop.conf.Configuration: resource-types.xml not found\n",
            "23/12/05 00:44:20 INFO org.apache.hadoop.yarn.util.resource.ResourceUtils: Unable to find 'resource-types.xml'.\n",
            "23/12/05 00:44:22 INFO org.apache.hadoop.yarn.client.api.impl.YarnClientImpl: Submitted application application_1701736792102_0001\n",
            "23/12/05 00:44:23 INFO org.apache.hadoop.yarn.client.RMProxy: Connecting to ResourceManager at four-4standard-cluster-m/10.164.0.63:8030\n",
            "23/12/05 00:44:25 INFO com.google.cloud.hadoop.fs.gcs.GhfsStorageStatistics: Detected potential high latency for operation op_get_file_status. latencyMs=300; previousMaxLatencyMs=0; operationCount=1; context=gs://dataproc-temp-europe-west4-804786195349-x5nym9rl/793cf4bf-3286-4ef7-b8da-31a625f078c7/spark-job-history\n",
            "23/12/05 00:44:25 INFO com.google.cloud.hadoop.repackaged.gcs.com.google.cloud.hadoop.gcsio.GoogleCloudStorageImpl: Ignoring exception of type GoogleJsonResponseException; verified object already exists with desired state.\n",
            "23/12/05 00:44:25 INFO com.google.cloud.hadoop.fs.gcs.GhfsStorageStatistics: Detected potential high latency for operation op_mkdirs. latencyMs=194; previousMaxLatencyMs=0; operationCount=1; context=gs://dataproc-temp-europe-west4-804786195349-x5nym9rl/793cf4bf-3286-4ef7-b8da-31a625f078c7/spark-job-history\n",
            "Current configuration:\n",
            "\t- master: yarn\n",
            "\t- data path: gs://k-mercounting-sec-data/GCF_000001215.4_Release_6_plus_ISO1_MT_genomic_drosophila_melanogaster.fna.gz\n",
            "\t- output path: gs://k-mercounting-sec-output/four-4standard-d-k8\n",
            "\t- counting type: both\n",
            "\t- k value: 8\n",
            "\t- execution mode: distributed\n",
            "\t- Spark Context initialized with parallelism: 16\n",
            "\n",
            "K-mer counting computed in 322.924996609 sec. \n",
            "Saving results in file...\n",
            "23/12/05 00:52:25 WARN org.apache.spark.scheduler.TaskSetManager: Stage 13 contains a task of very large size (1732 KiB). The maximum recommended task size is 1000 KiB.\n",
            "Results saved in gs://k-mercounting-sec-output/four-4standard-d-k8.\n",
            "Job [ebf1f78fc412406cb9a1bcc04f15fe96] finished successfully.\n",
            "done: true\n",
            "driverControlFilesUri: gs://dataproc-staging-europe-west4-804786195349-4q3fuwar/google-cloud-dataproc-metainfo/793cf4bf-3286-4ef7-b8da-31a625f078c7/jobs/ebf1f78fc412406cb9a1bcc04f15fe96/\n",
            "driverOutputResourceUri: gs://dataproc-staging-europe-west4-804786195349-4q3fuwar/google-cloud-dataproc-metainfo/793cf4bf-3286-4ef7-b8da-31a625f078c7/jobs/ebf1f78fc412406cb9a1bcc04f15fe96/driveroutput\n",
            "jobUuid: 68c909b1-2092-3981-ab7d-7488d4d0a1c0\n",
            "placement:\n",
            "  clusterName: four-4standard-cluster\n",
            "  clusterUuid: 793cf4bf-3286-4ef7-b8da-31a625f078c7\n",
            "reference:\n",
            "  jobId: ebf1f78fc412406cb9a1bcc04f15fe96\n",
            "  projectId: groovy-vector-406611\n",
            "sparkJob:\n",
            "  args:\n",
            "  - yarn\n",
            "  - gs://k-mercounting-sec-data/GCF_000001215.4_Release_6_plus_ISO1_MT_genomic_drosophila_melanogaster.fna.gz\n",
            "  - '8'\n",
            "  - both\n",
            "  - '16'\n",
            "  - distributed\n",
            "  - gs://k-mercounting-sec-output/four-4standard-d-k8\n",
            "  mainJarFileUri: gs://k-mercounting-sec-data/kmercounting_2.12-0.1.0-SNAPSHOT11.jar\n",
            "status:\n",
            "  state: DONE\n",
            "  stateStartTime: '2023-12-05T00:52:31.270459Z'\n",
            "statusHistory:\n",
            "- state: PENDING\n",
            "  stateStartTime: '2023-12-05T00:44:11.117653Z'\n",
            "- state: SETUP_DONE\n",
            "  stateStartTime: '2023-12-05T00:44:11.156335Z'\n",
            "- details: Agent reported job success\n",
            "  state: RUNNING\n",
            "  stateStartTime: '2023-12-05T00:44:11.475162Z'\n",
            "yarnApplications:\n",
            "- name: K-mer Counting\n",
            "  progress: 1.0\n",
            "  state: FINISHED\n",
            "  trackingUrl: http://four-4standard-cluster-m:8088/proxy/application_1701736792102_0001/\n"
          ]
        }
      ],
      "source": [
        "# cluster n1-standard-4 con 4 workers, k=8, p=16\n",
        "!gcloud dataproc jobs submit spark \\\n",
        "    --cluster=four-4standard-cluster \\\n",
        "    --region={os.getenv(\"CLUSTER_REGION\")} \\\n",
        "    --jar={os.getenv(\"DATA_BKT\")}\"kmercounting_2.12-0.1.0-SNAPSHOT11.jar\" \\\n",
        "    -- \"yarn\" {os.getenv(\"DATA_BKT\")}\"GCF_000001215.4_Release_6_plus_ISO1_MT_genomic_drosophila_melanogaster.fna.gz\" \"8\" \"both\" \"16\" \"distributed\" {os.getenv(\"OUTPUT_BKT\")}\"four-4standard-d-k8\""
      ]
    },
    {
      "cell_type": "code",
      "execution_count": null,
      "metadata": {
        "colab": {
          "base_uri": "https://localhost:8080/"
        },
        "id": "O2e20HsjeRLt",
        "outputId": "51f8af50-c646-4b19-da2d-a3e3d916acab"
      },
      "outputs": [
        {
          "name": "stdout",
          "output_type": "stream",
          "text": [
            "Job [1a673653a9da4372a527d6c4b574156c] submitted.\n",
            "Waiting for job output...\n",
            "23/12/05 00:57:43 INFO org.apache.spark.SparkEnv: Registering MapOutputTracker\n",
            "23/12/05 00:57:43 INFO org.apache.spark.SparkEnv: Registering BlockManagerMaster\n",
            "23/12/05 00:57:43 INFO org.apache.spark.SparkEnv: Registering BlockManagerMasterHeartbeat\n",
            "23/12/05 00:57:43 INFO org.apache.spark.SparkEnv: Registering OutputCommitCoordinator\n",
            "23/12/05 00:57:44 INFO org.sparkproject.jetty.util.log: Logging initialized @4767ms to org.sparkproject.jetty.util.log.Slf4jLog\n",
            "23/12/05 00:57:44 INFO org.sparkproject.jetty.server.Server: jetty-9.4.40.v20210413; built: 2021-04-13T20:42:42.668Z; git: b881a572662e1943a14ae12e7e1207989f218b74; jvm 1.8.0_392-b08\n",
            "23/12/05 00:57:44 INFO org.sparkproject.jetty.server.Server: Started @4946ms\n",
            "23/12/05 00:57:44 INFO org.sparkproject.jetty.server.AbstractConnector: Started ServerConnector@25b5c5e3{HTTP/1.1, (http/1.1)}{0.0.0.0:42633}\n",
            "23/12/05 00:57:45 INFO org.apache.hadoop.yarn.client.RMProxy: Connecting to ResourceManager at five-4standard-cluster-m/10.164.15.194:8032\n",
            "23/12/05 00:57:46 INFO org.apache.hadoop.yarn.client.AHSProxy: Connecting to Application History server at five-4standard-cluster-m/10.164.15.194:10200\n",
            "23/12/05 00:57:47 INFO org.apache.hadoop.conf.Configuration: resource-types.xml not found\n",
            "23/12/05 00:57:47 INFO org.apache.hadoop.yarn.util.resource.ResourceUtils: Unable to find 'resource-types.xml'.\n",
            "23/12/05 00:57:48 INFO org.apache.hadoop.yarn.client.api.impl.YarnClientImpl: Submitted application application_1701737812115_0001\n",
            "23/12/05 00:57:50 INFO org.apache.hadoop.yarn.client.RMProxy: Connecting to ResourceManager at five-4standard-cluster-m/10.164.15.194:8030\n",
            "23/12/05 00:57:52 INFO com.google.cloud.hadoop.fs.gcs.GhfsStorageStatistics: Detected potential high latency for operation op_get_file_status. latencyMs=250; previousMaxLatencyMs=0; operationCount=1; context=gs://dataproc-temp-europe-west4-804786195349-x5nym9rl/391f3788-dfbc-417e-9a5f-cc5a212987cd/spark-job-history\n",
            "23/12/05 00:57:52 INFO com.google.cloud.hadoop.repackaged.gcs.com.google.cloud.hadoop.gcsio.GoogleCloudStorageImpl: Ignoring exception of type GoogleJsonResponseException; verified object already exists with desired state.\n",
            "23/12/05 00:57:52 INFO com.google.cloud.hadoop.fs.gcs.GhfsStorageStatistics: Detected potential high latency for operation op_mkdirs. latencyMs=182; previousMaxLatencyMs=0; operationCount=1; context=gs://dataproc-temp-europe-west4-804786195349-x5nym9rl/391f3788-dfbc-417e-9a5f-cc5a212987cd/spark-job-history\n",
            "Current configuration:\n",
            "\t- master: yarn\n",
            "\t- data path: gs://k-mercounting-sec-data/GCF_000001215.4_Release_6_plus_ISO1_MT_genomic_drosophila_melanogaster.fna.gz\n",
            "\t- output path: gs://k-mercounting-sec-output/five-4standard-d-k8\n",
            "\t- counting type: both\n",
            "\t- k value: 8\n",
            "\t- execution mode: distributed\n",
            "\t- Spark Context initialized with parallelism: 16\n",
            "\n",
            "K-mer counting computed in 301.028914475 sec. \n",
            "Saving results in file...\n",
            "23/12/05 01:05:10 WARN org.apache.spark.scheduler.TaskSetManager: Stage 13 contains a task of very large size (1732 KiB). The maximum recommended task size is 1000 KiB.\n",
            "Results saved in gs://k-mercounting-sec-output/five-4standard-d-k8.\n",
            "Job [1a673653a9da4372a527d6c4b574156c] finished successfully.\n",
            "done: true\n",
            "driverControlFilesUri: gs://dataproc-staging-europe-west4-804786195349-4q3fuwar/google-cloud-dataproc-metainfo/391f3788-dfbc-417e-9a5f-cc5a212987cd/jobs/1a673653a9da4372a527d6c4b574156c/\n",
            "driverOutputResourceUri: gs://dataproc-staging-europe-west4-804786195349-4q3fuwar/google-cloud-dataproc-metainfo/391f3788-dfbc-417e-9a5f-cc5a212987cd/jobs/1a673653a9da4372a527d6c4b574156c/driveroutput\n",
            "jobUuid: 279f96ba-027e-319d-b83b-f3e25c7f8129\n",
            "placement:\n",
            "  clusterName: five-4standard-cluster\n",
            "  clusterUuid: 391f3788-dfbc-417e-9a5f-cc5a212987cd\n",
            "reference:\n",
            "  jobId: 1a673653a9da4372a527d6c4b574156c\n",
            "  projectId: groovy-vector-406611\n",
            "sparkJob:\n",
            "  args:\n",
            "  - yarn\n",
            "  - gs://k-mercounting-sec-data/GCF_000001215.4_Release_6_plus_ISO1_MT_genomic_drosophila_melanogaster.fna.gz\n",
            "  - '8'\n",
            "  - both\n",
            "  - '16'\n",
            "  - distributed\n",
            "  - gs://k-mercounting-sec-output/five-4standard-d-k8\n",
            "  mainJarFileUri: gs://k-mercounting-sec-data/kmercounting_2.12-0.1.0-SNAPSHOT11.jar\n",
            "status:\n",
            "  state: DONE\n",
            "  stateStartTime: '2023-12-05T01:05:15.850954Z'\n",
            "statusHistory:\n",
            "- state: PENDING\n",
            "  stateStartTime: '2023-12-05T00:57:36.892135Z'\n",
            "- state: SETUP_DONE\n",
            "  stateStartTime: '2023-12-05T00:57:36.936833Z'\n",
            "- details: Agent reported job success\n",
            "  state: RUNNING\n",
            "  stateStartTime: '2023-12-05T00:57:37.337921Z'\n",
            "yarnApplications:\n",
            "- name: K-mer Counting\n",
            "  progress: 1.0\n",
            "  state: FINISHED\n",
            "  trackingUrl: http://five-4standard-cluster-m:8088/proxy/application_1701737812115_0001/\n"
          ]
        }
      ],
      "source": [
        "# cluster n1-standard-4 con 5 workers, k=8, p=16\n",
        "!gcloud dataproc jobs submit spark \\\n",
        "    --cluster=five-4standard-cluster \\\n",
        "    --region={os.getenv(\"CLUSTER_REGION\")} \\\n",
        "    --jar={os.getenv(\"DATA_BKT\")}\"kmercounting_2.12-0.1.0-SNAPSHOT11.jar\" \\\n",
        "    -- \"yarn\" {os.getenv(\"DATA_BKT\")}\"GCF_000001215.4_Release_6_plus_ISO1_MT_genomic_drosophila_melanogaster.fna.gz\" \"8\" \"both\" \"16\" \"distributed\" {os.getenv(\"OUTPUT_BKT\")}\"five-4standard-d-k8\""
      ]
    },
    {
      "cell_type": "markdown",
      "metadata": {
        "id": "sgcPNxKM7Emu"
      },
      "source": [
        "###v. Esecuzione **distribuita** sul file genomico *Serinus canaria*\n",
        "\n",
        "Di seguito è presente l'esecuzione dell'algoritmo distribuito sul cluster `n1-standard-4` con **4 worker** per il conteggio dei kmer canonici e non canonici (parametro *counting type* = `both`) di lunghezza `k=4`.\n",
        "\n",
        "\n",
        "\n",
        "> La lunghezza del genoma del Serinus canaria è di \t1.1 Gb (*gigabasi*).\n",
        "\n"
      ]
    },
    {
      "cell_type": "code",
      "source": [
        "!gcloud dataproc jobs submit spark \\\n",
        "    --cluster=four-4standard-cluster \\\n",
        "    --region={os.getenv(\"CLUSTER_REGION\")} \\\n",
        "    --jar={os.getenv(\"DATA_BKT\")}\"kmercounting_2.12-0.1.0-SNAPSHOT11.jar\" \\\n",
        "    -- \"yarn\" {os.getenv(\"DATA_BKT\")}\"GCF_022539315.1_serCan2020_genomic.fna.gz\" \"4\" \"both\" \"32\" \"distributed\" {os.getenv(\"OUTPUT_BKT\")}\"four-4standard-sc\""
      ],
      "metadata": {
        "colab": {
          "base_uri": "https://localhost:8080/"
        },
        "id": "M3evnLllk08j",
        "outputId": "c9b0f542-f48c-46ad-f184-ee13bbf15ea6"
      },
      "execution_count": null,
      "outputs": [
        {
          "output_type": "stream",
          "name": "stdout",
          "text": [
            "Job [1c2325a7c1384780b17b7f48ea6a6ae2] submitted.\n",
            "Waiting for job output...\n",
            "23/12/31 15:53:53 INFO org.apache.spark.SparkEnv: Registering MapOutputTracker\n",
            "23/12/31 15:53:53 INFO org.apache.spark.SparkEnv: Registering BlockManagerMaster\n",
            "23/12/31 15:53:53 INFO org.apache.spark.SparkEnv: Registering BlockManagerMasterHeartbeat\n",
            "23/12/31 15:53:54 INFO org.apache.spark.SparkEnv: Registering OutputCommitCoordinator\n",
            "23/12/31 15:53:54 INFO org.sparkproject.jetty.util.log: Logging initialized @5001ms to org.sparkproject.jetty.util.log.Slf4jLog\n",
            "23/12/31 15:53:54 INFO org.sparkproject.jetty.server.Server: jetty-9.4.40.v20210413; built: 2021-04-13T20:42:42.668Z; git: b881a572662e1943a14ae12e7e1207989f218b74; jvm 1.8.0_392-b08\n",
            "23/12/31 15:53:54 INFO org.sparkproject.jetty.server.Server: Started @5152ms\n",
            "23/12/31 15:53:54 INFO org.sparkproject.jetty.server.AbstractConnector: Started ServerConnector@25b5c5e3{HTTP/1.1, (http/1.1)}{0.0.0.0:36581}\n",
            "23/12/31 15:53:55 INFO org.apache.hadoop.yarn.client.RMProxy: Connecting to ResourceManager at four-4standard-cluster-m/10.164.0.61:8032\n",
            "23/12/31 15:53:55 INFO org.apache.hadoop.yarn.client.AHSProxy: Connecting to Application History server at four-4standard-cluster-m/10.164.0.61:10200\n",
            "23/12/31 15:53:56 INFO org.apache.hadoop.conf.Configuration: resource-types.xml not found\n",
            "23/12/31 15:53:56 INFO org.apache.hadoop.yarn.util.resource.ResourceUtils: Unable to find 'resource-types.xml'.\n",
            "23/12/31 15:53:58 INFO org.apache.hadoop.yarn.client.api.impl.YarnClientImpl: Submitted application application_1704037988230_0001\n",
            "23/12/31 15:53:59 INFO org.apache.hadoop.yarn.client.RMProxy: Connecting to ResourceManager at four-4standard-cluster-m/10.164.0.61:8030\n",
            "23/12/31 15:54:02 INFO com.google.cloud.hadoop.fs.gcs.GhfsStorageStatistics: Detected potential high latency for operation op_get_file_status. latencyMs=333; previousMaxLatencyMs=0; operationCount=1; context=gs://dataproc-temp-europe-west4-804786195349-x5nym9rl/9ccdb22d-11a0-4b9c-93e9-890e5c28de30/spark-job-history\n",
            "23/12/31 15:54:02 INFO com.google.cloud.hadoop.repackaged.gcs.com.google.cloud.hadoop.gcsio.GoogleCloudStorageImpl: Ignoring exception of type GoogleJsonResponseException; verified object already exists with desired state.\n",
            "23/12/31 15:54:02 INFO com.google.cloud.hadoop.fs.gcs.GhfsStorageStatistics: Detected potential high latency for operation op_mkdirs. latencyMs=180; previousMaxLatencyMs=0; operationCount=1; context=gs://dataproc-temp-europe-west4-804786195349-x5nym9rl/9ccdb22d-11a0-4b9c-93e9-890e5c28de30/spark-job-history\n",
            "Current configuration:\n",
            "\t- master: yarn\n",
            "\t- data path: gs://k-mercounting-sec-data/GCF_022539315.1_serCan2020_genomic.fna.gz\n",
            "\t- output path: gs://k-mercounting-sec-output/five-4standard-sc\n",
            "\t- counting type: both\n",
            "\t- k value: 4\n",
            "\t- execution mode: distributed\n",
            "\t- Spark Context initialized with parallelism: 32\n",
            "\n",
            "23/12/31 15:54:04 WARN org.apache.hadoop.util.concurrent.ExecutorHelper: Thread (Thread[GetFileInfo #1,5,main]) interrupted: \n",
            "java.lang.InterruptedException\n",
            "\tat com.google.common.util.concurrent.AbstractFuture.get(AbstractFuture.java:510)\n",
            "\tat com.google.common.util.concurrent.FluentFuture$TrustedFuture.get(FluentFuture.java:88)\n",
            "\tat org.apache.hadoop.util.concurrent.ExecutorHelper.logThrowableFromAfterExecute(ExecutorHelper.java:48)\n",
            "\tat org.apache.hadoop.util.concurrent.HadoopThreadPoolExecutor.afterExecute(HadoopThreadPoolExecutor.java:90)\n",
            "\tat java.util.concurrent.ThreadPoolExecutor.runWorker(ThreadPoolExecutor.java:1157)\n",
            "\tat java.util.concurrent.ThreadPoolExecutor$Worker.run(ThreadPoolExecutor.java:624)\n",
            "\tat java.lang.Thread.run(Thread.java:750)\n",
            "K-mer counting computed in 2491.177128911 sec. \n",
            "Saving results in file...\n",
            "Results saved in gs://k-mercounting-sec-output/five-4standard-sc.\n",
            "Job [1c2325a7c1384780b17b7f48ea6a6ae2] finished successfully.\n",
            "done: true\n",
            "driverControlFilesUri: gs://dataproc-staging-europe-west4-804786195349-4q3fuwar/google-cloud-dataproc-metainfo/9ccdb22d-11a0-4b9c-93e9-890e5c28de30/jobs/1c2325a7c1384780b17b7f48ea6a6ae2/\n",
            "driverOutputResourceUri: gs://dataproc-staging-europe-west4-804786195349-4q3fuwar/google-cloud-dataproc-metainfo/9ccdb22d-11a0-4b9c-93e9-890e5c28de30/jobs/1c2325a7c1384780b17b7f48ea6a6ae2/driveroutput\n",
            "jobUuid: d3ebdf24-6061-3800-9077-44dca111136b\n",
            "placement:\n",
            "  clusterName: four-4standard-cluster\n",
            "  clusterUuid: 9ccdb22d-11a0-4b9c-93e9-890e5c28de30\n",
            "reference:\n",
            "  jobId: 1c2325a7c1384780b17b7f48ea6a6ae2\n",
            "  projectId: groovy-vector-406611\n",
            "sparkJob:\n",
            "  args:\n",
            "  - yarn\n",
            "  - gs://k-mercounting-sec-data/GCF_022539315.1_serCan2020_genomic.fna.gz\n",
            "  - '4'\n",
            "  - both\n",
            "  - '32'\n",
            "  - distributed\n",
            "  - gs://k-mercounting-sec-output/five-4standard-sc\n",
            "  mainJarFileUri: gs://k-mercounting-sec-data/kmercounting_2.12-0.1.0-SNAPSHOT11.jar\n",
            "status:\n",
            "  state: DONE\n",
            "  stateStartTime: '2023-12-31T16:49:28.318665Z'\n",
            "statusHistory:\n",
            "- state: PENDING\n",
            "  stateStartTime: '2023-12-31T15:53:46.542152Z'\n",
            "- state: SETUP_DONE\n",
            "  stateStartTime: '2023-12-31T15:53:46.573115Z'\n",
            "- details: Agent reported job success\n",
            "  state: RUNNING\n",
            "  stateStartTime: '2023-12-31T15:53:46.894806Z'\n",
            "yarnApplications:\n",
            "- name: K-mer Counting\n",
            "  progress: 1.0\n",
            "  state: FINISHED\n",
            "  trackingUrl: http://four-4standard-cluster-m:8088/proxy/application_1704037988230_0001/\n"
          ]
        }
      ]
    },
    {
      "cell_type": "markdown",
      "source": [
        "###vi. Esecuzione **distribuita** sul file genomico *Mus musculus*\n",
        "\n",
        "Di seguito sono presenti le esecuzioni dell'**algoritmo distribuito** sul cluster `n1-standard-4` con un numero variabile di worker (**da 2 a 5 worker**).\n",
        "\n",
        "Per ogni prova effettuata, il parametro che indica la modalità di conteggio sarà `both`, che permette di effettuare entrambi i conteggi (canonico e non canonico) delle sequenze kmer di lunghezza `k=4`.\n",
        "\n",
        "La lunghezza totale del genoma del Mus musculus è di 2.7Gb (*gigabasi*)."
      ],
      "metadata": {
        "id": "_KjmKPgdfaMC"
      }
    },
    {
      "cell_type": "code",
      "source": [
        "# cluster n1-standard-4 con 2 workers\n",
        "!gcloud dataproc jobs submit spark \\\n",
        "    --cluster=two-4standard-cluster \\\n",
        "    --region={os.getenv(\"CLUSTER_REGION\")} \\\n",
        "    --jar={os.getenv(\"DATA_BKT\")}\"kmercounting_2.12-0.1.0-SNAPSHOT11.jar\" \\\n",
        "    -- \"yarn\" {os.getenv(\"DATA_BKT\")}\"GCF_000001635.27_GRCm39_genomic.fna.gz\" \"4\" \"both\" \"16\" \"distributed\" {os.getenv(\"OUTPUT_BKT\")}\"two-4standard-mm\""
      ],
      "metadata": {
        "id": "9Db2RrWb3BsX"
      },
      "execution_count": null,
      "outputs": []
    },
    {
      "cell_type": "code",
      "source": [
        "# cluster n1-standard-4 con 3 workers\n",
        "!gcloud dataproc jobs submit spark \\\n",
        "    --cluster=three-4standard-cluster \\\n",
        "    --region={os.getenv(\"CLUSTER_REGION\")} \\\n",
        "    --jar={os.getenv(\"DATA_BKT\")}\"kmercounting_2.12-0.1.0-SNAPSHOT11.jar\" \\\n",
        "    -- \"yarn\" {os.getenv(\"DATA_BKT\")}\"GCF_000001635.27_GRCm39_genomic.fna.gz\" \"4\" \"both\" \"16\" \"distributed\" {os.getenv(\"OUTPUT_BKT\")}\"three-4standard-mm\""
      ],
      "metadata": {
        "colab": {
          "base_uri": "https://localhost:8080/"
        },
        "id": "m9Bd8IbFr6sB",
        "outputId": "20000c66-6cb4-4e01-bf01-d1483e693815"
      },
      "execution_count": null,
      "outputs": [
        {
          "output_type": "stream",
          "name": "stdout",
          "text": [
            "Job [fbc318a8801c4b46adea553b621707f0] submitted.\n",
            "Waiting for job output...\n",
            "23/12/30 12:25:57 INFO org.apache.spark.SparkEnv: Registering MapOutputTracker\n",
            "23/12/30 12:25:57 INFO org.apache.spark.SparkEnv: Registering BlockManagerMaster\n",
            "23/12/30 12:25:57 INFO org.apache.spark.SparkEnv: Registering BlockManagerMasterHeartbeat\n",
            "23/12/30 12:25:57 INFO org.apache.spark.SparkEnv: Registering OutputCommitCoordinator\n",
            "23/12/30 12:25:57 INFO org.sparkproject.jetty.util.log: Logging initialized @3846ms to org.sparkproject.jetty.util.log.Slf4jLog\n",
            "23/12/30 12:25:57 INFO org.sparkproject.jetty.server.Server: jetty-9.4.40.v20210413; built: 2021-04-13T20:42:42.668Z; git: b881a572662e1943a14ae12e7e1207989f218b74; jvm 1.8.0_392-b08\n",
            "23/12/30 12:25:57 INFO org.sparkproject.jetty.server.Server: Started @3955ms\n",
            "23/12/30 12:25:57 INFO org.sparkproject.jetty.server.AbstractConnector: Started ServerConnector@25b5c5e3{HTTP/1.1, (http/1.1)}{0.0.0.0:44491}\n",
            "23/12/30 12:25:58 INFO org.apache.hadoop.yarn.client.RMProxy: Connecting to ResourceManager at three-4standard-cluster-m/10.164.0.41:8032\n",
            "23/12/30 12:25:59 INFO org.apache.hadoop.yarn.client.AHSProxy: Connecting to Application History server at three-4standard-cluster-m/10.164.0.41:10200\n",
            "23/12/30 12:26:00 INFO org.apache.hadoop.conf.Configuration: resource-types.xml not found\n",
            "23/12/30 12:26:00 INFO org.apache.hadoop.yarn.util.resource.ResourceUtils: Unable to find 'resource-types.xml'.\n",
            "23/12/30 12:26:01 INFO org.apache.hadoop.yarn.client.api.impl.YarnClientImpl: Submitted application application_1703939056415_0001\n",
            "23/12/30 12:26:02 INFO org.apache.hadoop.yarn.client.RMProxy: Connecting to ResourceManager at three-4standard-cluster-m/10.164.0.41:8030\n",
            "23/12/30 12:26:04 INFO com.google.cloud.hadoop.fs.gcs.GhfsStorageStatistics: Detected potential high latency for operation op_get_file_status. latencyMs=429; previousMaxLatencyMs=0; operationCount=1; context=gs://dataproc-temp-europe-west4-804786195349-x5nym9rl/63295773-5f48-473a-81ba-5820a164819f/spark-job-history\n",
            "23/12/30 12:26:05 INFO com.google.cloud.hadoop.repackaged.gcs.com.google.cloud.hadoop.gcsio.GoogleCloudStorageImpl: Ignoring exception of type GoogleJsonResponseException; verified object already exists with desired state.\n",
            "23/12/30 12:26:05 INFO com.google.cloud.hadoop.fs.gcs.GhfsStorageStatistics: Detected potential high latency for operation op_mkdirs. latencyMs=409; previousMaxLatencyMs=0; operationCount=1; context=gs://dataproc-temp-europe-west4-804786195349-x5nym9rl/63295773-5f48-473a-81ba-5820a164819f/spark-job-history\n",
            "23/12/30 12:26:05 INFO com.google.cloud.hadoop.fs.gcs.GhfsStorageStatistics: Detected potential high latency for operation op_create. latencyMs=626; previousMaxLatencyMs=0; operationCount=1; context=gs://dataproc-temp-europe-west4-804786195349-x5nym9rl/63295773-5f48-473a-81ba-5820a164819f/spark-job-history/application_1703939056415_0001.inprogress\n",
            "Current configuration:\n",
            "\t- master: yarn\n",
            "\t- data path: gs://k-mercounting-sec-data/GCF_000001635.27_GRCm39_genomic.fna.gz\n",
            "\t- output path: gs://k-mercounting-sec-output/three-4standard-mm\n",
            "\t- counting type: both\n",
            "\t- k value: 4\n",
            "\t- execution mode: distributed\n",
            "\t- Spark Context initialized with parallelism: 16\n",
            "\n",
            "K-mer counting computed in 6219.457188986 sec. \n",
            "Saving results in file...\n",
            "Results saved in gs://k-mercounting-sec-output/three-4standard-mm.\n",
            "Job [fbc318a8801c4b46adea553b621707f0] finished successfully.\n",
            "done: true\n",
            "driverControlFilesUri: gs://dataproc-staging-europe-west4-804786195349-4q3fuwar/google-cloud-dataproc-metainfo/63295773-5f48-473a-81ba-5820a164819f/jobs/fbc318a8801c4b46adea553b621707f0/\n",
            "driverOutputResourceUri: gs://dataproc-staging-europe-west4-804786195349-4q3fuwar/google-cloud-dataproc-metainfo/63295773-5f48-473a-81ba-5820a164819f/jobs/fbc318a8801c4b46adea553b621707f0/driveroutput\n",
            "jobUuid: 257be46e-41e0-3eb5-8a08-e727ca8dd876\n",
            "placement:\n",
            "  clusterName: three-4standard-cluster\n",
            "  clusterUuid: 63295773-5f48-473a-81ba-5820a164819f\n",
            "reference:\n",
            "  jobId: fbc318a8801c4b46adea553b621707f0\n",
            "  projectId: groovy-vector-406611\n",
            "sparkJob:\n",
            "  args:\n",
            "  - yarn\n",
            "  - gs://k-mercounting-sec-data/GCF_000001635.27_GRCm39_genomic.fna.gz\n",
            "  - '4'\n",
            "  - both\n",
            "  - '16'\n",
            "  - distributed\n",
            "  - gs://k-mercounting-sec-output/three-4standard-mm\n",
            "  mainJarFileUri: gs://k-mercounting-sec-data/kmercounting_2.12-0.1.0-SNAPSHOT11.jar\n",
            "status:\n",
            "  state: DONE\n",
            "  stateStartTime: '2023-12-30T14:55:41.506446Z'\n",
            "statusHistory:\n",
            "- state: PENDING\n",
            "  stateStartTime: '2023-12-30T12:25:51.711758Z'\n",
            "- state: SETUP_DONE\n",
            "  stateStartTime: '2023-12-30T12:25:51.746168Z'\n",
            "- details: Agent reported job success\n",
            "  state: RUNNING\n",
            "  stateStartTime: '2023-12-30T12:25:52.079238Z'\n",
            "yarnApplications:\n",
            "- name: K-mer Counting\n",
            "  progress: 1.0\n",
            "  state: FINISHED\n",
            "  trackingUrl: http://three-4standard-cluster-m:8088/proxy/application_1703939056415_0001/\n"
          ]
        }
      ]
    },
    {
      "cell_type": "code",
      "execution_count": null,
      "metadata": {
        "colab": {
          "base_uri": "https://localhost:8080/"
        },
        "id": "b3vIp0dVC1y5",
        "outputId": "ca039253-f8f1-4f03-973b-2dbb278c28cf"
      },
      "outputs": [
        {
          "name": "stdout",
          "output_type": "stream",
          "text": [
            "Job [988846c4e4924cd3a2f2d4bdaf9f5bf4] submitted.\n",
            "Waiting for job output...\n",
            "23/12/06 08:23:36 INFO org.apache.spark.SparkEnv: Registering MapOutputTracker\n",
            "23/12/06 08:23:36 INFO org.apache.spark.SparkEnv: Registering BlockManagerMaster\n",
            "23/12/06 08:23:36 INFO org.apache.spark.SparkEnv: Registering BlockManagerMasterHeartbeat\n",
            "23/12/06 08:23:36 INFO org.apache.spark.SparkEnv: Registering OutputCommitCoordinator\n",
            "23/12/06 08:23:37 INFO org.sparkproject.jetty.util.log: Logging initialized @4204ms to org.sparkproject.jetty.util.log.Slf4jLog\n",
            "23/12/06 08:23:37 INFO org.sparkproject.jetty.server.Server: jetty-9.4.40.v20210413; built: 2021-04-13T20:42:42.668Z; git: b881a572662e1943a14ae12e7e1207989f218b74; jvm 1.8.0_392-b08\n",
            "23/12/06 08:23:37 INFO org.sparkproject.jetty.server.Server: Started @4320ms\n",
            "23/12/06 08:23:37 INFO org.sparkproject.jetty.server.AbstractConnector: Started ServerConnector@25b5c5e3{HTTP/1.1, (http/1.1)}{0.0.0.0:37967}\n",
            "23/12/06 08:23:38 INFO org.apache.hadoop.yarn.client.RMProxy: Connecting to ResourceManager at four-4standard-cluster-m/10.164.15.217:8032\n",
            "23/12/06 08:23:38 INFO org.apache.hadoop.yarn.client.AHSProxy: Connecting to Application History server at four-4standard-cluster-m/10.164.15.217:10200\n",
            "23/12/06 08:23:39 INFO org.apache.hadoop.conf.Configuration: resource-types.xml not found\n",
            "23/12/06 08:23:39 INFO org.apache.hadoop.yarn.util.resource.ResourceUtils: Unable to find 'resource-types.xml'.\n",
            "23/12/06 08:23:41 INFO org.apache.hadoop.yarn.client.api.impl.YarnClientImpl: Submitted application application_1701850772506_0001\n",
            "23/12/06 08:23:42 INFO org.apache.hadoop.yarn.client.RMProxy: Connecting to ResourceManager at four-4standard-cluster-m/10.164.15.217:8030\n",
            "23/12/06 08:23:44 INFO com.google.cloud.hadoop.fs.gcs.GhfsStorageStatistics: Detected potential high latency for operation op_get_file_status. latencyMs=432; previousMaxLatencyMs=0; operationCount=1; context=gs://dataproc-temp-europe-west4-804786195349-x5nym9rl/550a17c8-bd54-48bb-b0b3-a2f7d3ccdb87/spark-job-history\n",
            "23/12/06 08:23:44 INFO com.google.cloud.hadoop.repackaged.gcs.com.google.cloud.hadoop.gcsio.GoogleCloudStorageImpl: Ignoring exception of type GoogleJsonResponseException; verified object already exists with desired state.\n",
            "23/12/06 08:23:44 INFO com.google.cloud.hadoop.fs.gcs.GhfsStorageStatistics: Detected potential high latency for operation op_mkdirs. latencyMs=398; previousMaxLatencyMs=0; operationCount=1; context=gs://dataproc-temp-europe-west4-804786195349-x5nym9rl/550a17c8-bd54-48bb-b0b3-a2f7d3ccdb87/spark-job-history\n",
            "23/12/06 08:23:45 INFO com.google.cloud.hadoop.fs.gcs.GhfsStorageStatistics: Detected potential high latency for operation op_create. latencyMs=617; previousMaxLatencyMs=0; operationCount=1; context=gs://dataproc-temp-europe-west4-804786195349-x5nym9rl/550a17c8-bd54-48bb-b0b3-a2f7d3ccdb87/spark-job-history/application_1701850772506_0001.inprogress\n",
            "Current configuration:\n",
            "\t- master: yarn\n",
            "\t- data path: gs://k-mercounting-sec-data/GCF_000001635.27_GRCm39_genomic.fna.gz\n",
            "\t- output path: gs://k-mercounting-sec-output/four-4standard-mm\n",
            "\t- counting type: both\n",
            "\t- k value: 4\n",
            "\t- execution mode: distributed\n",
            "\t- Spark Context initialized with parallelism: 16\n",
            "\n",
            "K-mer counting computed in 5596.690072581 sec. \n",
            "Saving results in file...\n",
            "Results saved in gs://k-mercounting-sec-output/four-4standard-mm.\n",
            "Job [988846c4e4924cd3a2f2d4bdaf9f5bf4] finished successfully.\n",
            "done: true\n",
            "driverControlFilesUri: gs://dataproc-staging-europe-west4-804786195349-4q3fuwar/google-cloud-dataproc-metainfo/550a17c8-bd54-48bb-b0b3-a2f7d3ccdb87/jobs/988846c4e4924cd3a2f2d4bdaf9f5bf4/\n",
            "driverOutputResourceUri: gs://dataproc-staging-europe-west4-804786195349-4q3fuwar/google-cloud-dataproc-metainfo/550a17c8-bd54-48bb-b0b3-a2f7d3ccdb87/jobs/988846c4e4924cd3a2f2d4bdaf9f5bf4/driveroutput\n",
            "jobUuid: a2677aa3-f450-3582-a653-ba4c046aa263\n",
            "placement:\n",
            "  clusterName: four-4standard-cluster\n",
            "  clusterUuid: 550a17c8-bd54-48bb-b0b3-a2f7d3ccdb87\n",
            "reference:\n",
            "  jobId: 988846c4e4924cd3a2f2d4bdaf9f5bf4\n",
            "  projectId: groovy-vector-406611\n",
            "sparkJob:\n",
            "  args:\n",
            "  - yarn\n",
            "  - gs://k-mercounting-sec-data/GCF_000001635.27_GRCm39_genomic.fna.gz\n",
            "  - '4'\n",
            "  - both\n",
            "  - '16'\n",
            "  - distributed\n",
            "  - gs://k-mercounting-sec-output/four-4standard-mm\n",
            "  mainJarFileUri: gs://k-mercounting-sec-data/kmercounting_2.12-0.1.0-SNAPSHOT11.jar\n",
            "status:\n",
            "  state: DONE\n",
            "  stateStartTime: '2023-12-06T10:42:58.838167Z'\n",
            "statusHistory:\n",
            "- state: PENDING\n",
            "  stateStartTime: '2023-12-06T08:23:30.616894Z'\n",
            "- state: SETUP_DONE\n",
            "  stateStartTime: '2023-12-06T08:23:30.659685Z'\n",
            "- details: Agent reported job success\n",
            "  state: RUNNING\n",
            "  stateStartTime: '2023-12-06T08:23:31.093556Z'\n",
            "yarnApplications:\n",
            "- name: K-mer Counting\n",
            "  progress: 1.0\n",
            "  state: FINISHED\n",
            "  trackingUrl: http://four-4standard-cluster-m:8088/proxy/application_1701850772506_0001/\n"
          ]
        }
      ],
      "source": [
        "# cluster n1-standard-4 con 4 workers\n",
        "!gcloud dataproc jobs submit spark \\\n",
        "    --cluster=four-4standard-cluster \\\n",
        "    --region={os.getenv(\"CLUSTER_REGION\")} \\\n",
        "    --jar={os.getenv(\"DATA_BKT\")}\"kmercounting_2.12-0.1.0-SNAPSHOT11.jar\" \\\n",
        "    -- \"yarn\" {os.getenv(\"DATA_BKT\")}\"GCF_000001635.27_GRCm39_genomic.fna.gz\" \"4\" \"both\" \"16\" \"distributed\" {os.getenv(\"OUTPUT_BKT\")}\"four-4standard-mm\""
      ]
    },
    {
      "cell_type": "code",
      "execution_count": null,
      "metadata": {
        "colab": {
          "base_uri": "https://localhost:8080/"
        },
        "id": "aoMGGNct2P5A",
        "outputId": "9e0e5557-58c1-4af5-f32d-3e7d13cc5153"
      },
      "outputs": [
        {
          "name": "stdout",
          "output_type": "stream",
          "text": [
            "Job [fba266b0cd1143c997d1877b26069c13] submitted.\n",
            "Waiting for job output...\n",
            "23/12/05 19:42:22 INFO org.apache.spark.SparkEnv: Registering MapOutputTracker\n",
            "23/12/05 19:42:22 INFO org.apache.spark.SparkEnv: Registering BlockManagerMaster\n",
            "23/12/05 19:42:22 INFO org.apache.spark.SparkEnv: Registering BlockManagerMasterHeartbeat\n",
            "23/12/05 19:42:22 INFO org.apache.spark.SparkEnv: Registering OutputCommitCoordinator\n",
            "23/12/05 19:42:22 INFO org.sparkproject.jetty.util.log: Logging initialized @4354ms to org.sparkproject.jetty.util.log.Slf4jLog\n",
            "23/12/05 19:42:22 INFO org.sparkproject.jetty.server.Server: jetty-9.4.40.v20210413; built: 2021-04-13T20:42:42.668Z; git: b881a572662e1943a14ae12e7e1207989f218b74; jvm 1.8.0_392-b08\n",
            "23/12/05 19:42:22 INFO org.sparkproject.jetty.server.Server: Started @4473ms\n",
            "23/12/05 19:42:22 INFO org.sparkproject.jetty.server.AbstractConnector: Started ServerConnector@25b5c5e3{HTTP/1.1, (http/1.1)}{0.0.0.0:35529}\n",
            "23/12/05 19:42:23 INFO org.apache.hadoop.yarn.client.RMProxy: Connecting to ResourceManager at five-4standard-cluster-m/10.164.15.204:8032\n",
            "23/12/05 19:42:24 INFO org.apache.hadoop.yarn.client.AHSProxy: Connecting to Application History server at five-4standard-cluster-m/10.164.15.204:10200\n",
            "23/12/05 19:42:25 INFO org.apache.hadoop.conf.Configuration: resource-types.xml not found\n",
            "23/12/05 19:42:25 INFO org.apache.hadoop.yarn.util.resource.ResourceUtils: Unable to find 'resource-types.xml'.\n",
            "23/12/05 19:42:26 INFO org.apache.hadoop.yarn.client.api.impl.YarnClientImpl: Submitted application application_1701805217762_0001\n",
            "23/12/05 19:42:27 INFO org.apache.hadoop.yarn.client.RMProxy: Connecting to ResourceManager at five-4standard-cluster-m/10.164.15.204:8030\n",
            "23/12/05 19:42:29 INFO com.google.cloud.hadoop.fs.gcs.GhfsStorageStatistics: Detected potential high latency for operation op_get_file_status. latencyMs=445; previousMaxLatencyMs=0; operationCount=1; context=gs://dataproc-temp-europe-west4-804786195349-x5nym9rl/ea928703-8233-44b6-9e10-961ac61ac4ab/spark-job-history\n",
            "23/12/05 19:42:30 INFO com.google.cloud.hadoop.repackaged.gcs.com.google.cloud.hadoop.gcsio.GoogleCloudStorageImpl: Ignoring exception of type GoogleJsonResponseException; verified object already exists with desired state.\n",
            "23/12/05 19:42:30 INFO com.google.cloud.hadoop.fs.gcs.GhfsStorageStatistics: Detected potential high latency for operation op_mkdirs. latencyMs=439; previousMaxLatencyMs=0; operationCount=1; context=gs://dataproc-temp-europe-west4-804786195349-x5nym9rl/ea928703-8233-44b6-9e10-961ac61ac4ab/spark-job-history\n",
            "23/12/05 19:42:30 INFO com.google.cloud.hadoop.fs.gcs.GhfsStorageStatistics: Detected potential high latency for operation op_create. latencyMs=579; previousMaxLatencyMs=0; operationCount=1; context=gs://dataproc-temp-europe-west4-804786195349-x5nym9rl/ea928703-8233-44b6-9e10-961ac61ac4ab/spark-job-history/application_1701805217762_0001.inprogress\n",
            "Current configuration:\n",
            "\t- master: yarn\n",
            "\t- data path: gs://k-mercounting-sec-data/GCF_000001635.27_GRCm39_genomic.fna.gz\n",
            "\t- output path: gs://k-mercounting-sec-output/five-4standard-mm\n",
            "\t- counting type: both\n",
            "\t- k value: 4\n",
            "\t- execution mode: distributed\n",
            "\t- Spark Context initialized with parallelism: 16\n",
            "\n",
            "K-mer counting computed in 5526.928718093 sec. \n",
            "Saving results in file...\n",
            "Results saved in gs://k-mercounting-sec-output/five-4standard-mm.\n",
            "Job [fba266b0cd1143c997d1877b26069c13] finished successfully.\n",
            "done: true\n",
            "driverControlFilesUri: gs://dataproc-staging-europe-west4-804786195349-4q3fuwar/google-cloud-dataproc-metainfo/ea928703-8233-44b6-9e10-961ac61ac4ab/jobs/fba266b0cd1143c997d1877b26069c13/\n",
            "driverOutputResourceUri: gs://dataproc-staging-europe-west4-804786195349-4q3fuwar/google-cloud-dataproc-metainfo/ea928703-8233-44b6-9e10-961ac61ac4ab/jobs/fba266b0cd1143c997d1877b26069c13/driveroutput\n",
            "jobUuid: ae079bfb-481b-3591-aa48-4c5cc0022cea\n",
            "placement:\n",
            "  clusterName: five-4standard-cluster\n",
            "  clusterUuid: ea928703-8233-44b6-9e10-961ac61ac4ab\n",
            "reference:\n",
            "  jobId: fba266b0cd1143c997d1877b26069c13\n",
            "  projectId: groovy-vector-406611\n",
            "sparkJob:\n",
            "  args:\n",
            "  - yarn\n",
            "  - gs://k-mercounting-sec-data/GCF_000001635.27_GRCm39_genomic.fna.gz\n",
            "  - '4'\n",
            "  - both\n",
            "  - '16'\n",
            "  - distributed\n",
            "  - gs://k-mercounting-sec-output/five-4standard-mm\n",
            "  mainJarFileUri: gs://k-mercounting-sec-data/kmercounting_2.12-0.1.0-SNAPSHOT11.jar\n",
            "status:\n",
            "  state: DONE\n",
            "  stateStartTime: '2023-12-05T22:03:22.034968Z'\n",
            "statusHistory:\n",
            "- state: PENDING\n",
            "  stateStartTime: '2023-12-05T19:42:16.103184Z'\n",
            "- state: SETUP_DONE\n",
            "  stateStartTime: '2023-12-05T19:42:16.139255Z'\n",
            "- details: Agent reported job success\n",
            "  state: RUNNING\n",
            "  stateStartTime: '2023-12-05T19:42:16.528772Z'\n",
            "yarnApplications:\n",
            "- name: K-mer Counting\n",
            "  progress: 1.0\n",
            "  state: FINISHED\n",
            "  trackingUrl: http://five-4standard-cluster-m:8088/proxy/application_1701805217762_0001/\n"
          ]
        }
      ],
      "source": [
        "# cluster n1-standard-4 con 5 workers\n",
        "!gcloud dataproc jobs submit spark \\\n",
        "    --cluster=five-4standard-cluster \\\n",
        "    --region={os.getenv(\"CLUSTER_REGION\")} \\\n",
        "    --jar={os.getenv(\"DATA_BKT\")}\"kmercounting_2.12-0.1.0-SNAPSHOT11.jar\" \\\n",
        "    -- \"yarn\" {os.getenv(\"DATA_BKT\")}\"GCF_000001635.27_GRCm39_genomic.fna.gz\" \"4\" \"both\" \"16\" \"distributed\" {os.getenv(\"OUTPUT_BKT\")}\"five-4standard-mm\""
      ]
    },
    {
      "cell_type": "markdown",
      "source": [
        "---"
      ],
      "metadata": {
        "id": "SdMx-BvZMhfs"
      }
    },
    {
      "cell_type": "markdown",
      "metadata": {
        "id": "MHZcaQZGJlOL"
      },
      "source": [
        "## 7. Eliminazione dei cluster\n",
        "\n",
        "Conclusa l'esecuzione degli algoritmi procedere con l'eliminazione dei cluster creati."
      ]
    },
    {
      "cell_type": "code",
      "execution_count": 42,
      "metadata": {
        "colab": {
          "base_uri": "https://localhost:8080/"
        },
        "id": "NH-4x6xBJwCP",
        "outputId": "9e6a2a72-7647-4dee-9f4f-8b686377ce71"
      },
      "outputs": [
        {
          "output_type": "stream",
          "name": "stdout",
          "text": [
            "The cluster 'single-node-cluster' and all attached disks will be deleted.\n",
            "\n",
            "Do you want to continue (Y/n)?  Y\n",
            "\n",
            "Waiting on operation [projects/groovy-vector-406611/regions/europe-west4/operations/ca3f9247-4ee9-3691-acb8-9b953c9c73e2].\n",
            "Deleted [https://dataproc.googleapis.com/v1/projects/groovy-vector-406611/regions/europe-west4/clusters/single-node-cluster].\n"
          ]
        }
      ],
      "source": [
        "!gcloud dataproc clusters delete single-node-cluster \\\n",
        "    --region={os.getenv(\"CLUSTER_REGION\")}"
      ]
    },
    {
      "cell_type": "code",
      "execution_count": 21,
      "metadata": {
        "colab": {
          "base_uri": "https://localhost:8080/"
        },
        "id": "SLF9dUBR9kJp",
        "outputId": "55485400-5323-4588-9d28-caa9783545d8"
      },
      "outputs": [
        {
          "output_type": "stream",
          "name": "stdout",
          "text": [
            "The cluster 'two-4standard-cluster' and all attached disks will be deleted.\n",
            "\n",
            "Do you want to continue (Y/n)?  Y\n",
            "\n",
            "Waiting on operation [projects/groovy-vector-406611/regions/europe-west4/operations/3aaacb6b-b5fe-35e5-9920-4458a761f8b6].\n",
            "Deleted [https://dataproc.googleapis.com/v1/projects/groovy-vector-406611/regions/europe-west4/clusters/two-4standard-cluster].\n"
          ]
        }
      ],
      "source": [
        "!gcloud dataproc clusters delete two-4standard-cluster \\\n",
        "    --region={os.getenv(\"CLUSTER_REGION\")}"
      ]
    },
    {
      "cell_type": "code",
      "execution_count": 35,
      "metadata": {
        "colab": {
          "base_uri": "https://localhost:8080/"
        },
        "id": "crzvpnqX9rfk",
        "outputId": "2d1643d0-9b84-46ea-829c-c7e8eaac9f9c"
      },
      "outputs": [
        {
          "output_type": "stream",
          "name": "stdout",
          "text": [
            "The cluster 'two-8standard-cluster' and all attached disks will be deleted.\n",
            "\n",
            "Do you want to continue (Y/n)?  Y\n",
            "\n",
            "Waiting on operation [projects/groovy-vector-406611/regions/europe-west4/operations/e68985ab-014f-37c8-9066-d1c324a67d4a].\n",
            "Deleted [https://dataproc.googleapis.com/v1/projects/groovy-vector-406611/regions/europe-west4/clusters/two-8standard-cluster].\n"
          ]
        }
      ],
      "source": [
        "!gcloud dataproc clusters delete two-8standard-cluster \\\n",
        "    --region={os.getenv(\"CLUSTER_REGION\")}"
      ]
    },
    {
      "cell_type": "code",
      "source": [
        "!gcloud dataproc clusters delete three-4standard-cluster \\\n",
        "    --region={os.getenv(\"CLUSTER_REGION\")}"
      ],
      "metadata": {
        "colab": {
          "base_uri": "https://localhost:8080/"
        },
        "id": "yB0Up0pQwomy",
        "outputId": "3290b0c2-42bb-4dbe-f3d2-4893a4ec4303"
      },
      "execution_count": 31,
      "outputs": [
        {
          "output_type": "stream",
          "name": "stdout",
          "text": [
            "The cluster 'three-4standard-cluster' and all attached disks will be deleted.\n",
            "\n",
            "Do you want to continue (Y/n)?  Y\n",
            "\n",
            "Waiting on operation [projects/groovy-vector-406611/regions/europe-west4/operations/ffa762ca-6ff6-391f-bb1e-8f783fbaa41f].\n",
            "Deleted [https://dataproc.googleapis.com/v1/projects/groovy-vector-406611/regions/europe-west4/clusters/three-4standard-cluster].\n"
          ]
        }
      ]
    },
    {
      "cell_type": "code",
      "execution_count": 29,
      "metadata": {
        "colab": {
          "base_uri": "https://localhost:8080/"
        },
        "id": "-kzttLUX9wU7",
        "outputId": "3bf84796-057d-4cdc-c4da-d7f5675e1597"
      },
      "outputs": [
        {
          "output_type": "stream",
          "name": "stdout",
          "text": [
            "The cluster 'four-4standard-cluster' and all attached disks will be deleted.\n",
            "\n",
            "Do you want to continue (Y/n)?  Y\n",
            "\n",
            "Waiting on operation [projects/groovy-vector-406611/regions/europe-west4/operations/625b14a9-5415-3f97-b863-29c969255469].\n",
            "Deleted [https://dataproc.googleapis.com/v1/projects/groovy-vector-406611/regions/europe-west4/clusters/four-4standard-cluster].\n"
          ]
        }
      ],
      "source": [
        "!gcloud dataproc clusters delete four-4standard-cluster \\\n",
        "    --region={os.getenv(\"CLUSTER_REGION\")}"
      ]
    },
    {
      "cell_type": "code",
      "execution_count": 53,
      "metadata": {
        "colab": {
          "base_uri": "https://localhost:8080/"
        },
        "id": "jnibfPmn9zzQ",
        "outputId": "626dd257-3f82-46e5-a1b1-ff6dfbb72cec"
      },
      "outputs": [
        {
          "output_type": "stream",
          "name": "stdout",
          "text": [
            "The cluster 'five-4standard-cluster' and all attached disks will be deleted.\n",
            "\n",
            "Do you want to continue (Y/n)?  Y\n",
            "\n",
            "Waiting on operation [projects/groovy-vector-406611/regions/europe-west4/operations/a0a39101-1daa-3c64-982f-b96341db0d1e].\n",
            "Deleted [https://dataproc.googleapis.com/v1/projects/groovy-vector-406611/regions/europe-west4/clusters/five-4standard-cluster].\n"
          ]
        }
      ],
      "source": [
        "!gcloud dataproc clusters delete five-4standard-cluster \\\n",
        "    --region={os.getenv(\"CLUSTER_REGION\")}"
      ]
    },
    {
      "cell_type": "code",
      "execution_count": null,
      "metadata": {
        "colab": {
          "base_uri": "https://localhost:8080/"
        },
        "id": "v3OMWe-wdNWL",
        "outputId": "676708b1-985d-4665-f03f-43911e0dfb19"
      },
      "outputs": [
        {
          "name": "stdout",
          "output_type": "stream",
          "text": [
            "The cluster 'four-8standard-cluster' and all attached disks will be deleted.\n",
            "\n",
            "Do you want to continue (Y/n)?  Y\n",
            "\n",
            "Waiting on operation [projects/groovy-vector-406611/regions/europe-west4/operations/55d58c13-3adf-34b8-a2ef-ddca419332f2].\n",
            "Deleted [https://dataproc.googleapis.com/v1/projects/groovy-vector-406611/regions/europe-west4/clusters/four-8standard-cluster].\n"
          ]
        }
      ],
      "source": [
        "!gcloud dataproc clusters delete four-8standard-cluster \\\n",
        "    --region={os.getenv(\"CLUSTER_REGION\")}"
      ]
    },
    {
      "cell_type": "markdown",
      "source": [
        "Per controllare di aver eliminato tutti i cluster creati è possibile eseguire la seguente riga di codice, che mostra i cluster attivi nella regione specificata:"
      ],
      "metadata": {
        "id": "HtiF87NG4J9b"
      }
    },
    {
      "cell_type": "code",
      "execution_count": null,
      "metadata": {
        "id": "W1uhgNRSXH92"
      },
      "outputs": [],
      "source": [
        "!gcloud dataproc clusters list --region {region}"
      ]
    },
    {
      "cell_type": "markdown",
      "metadata": {
        "id": "VLaoGg8FKZD2"
      },
      "source": [
        "## 8. Copia dei risultati ed eliminazione dei bucket"
      ]
    },
    {
      "cell_type": "markdown",
      "metadata": {
        "id": "BddCJ8Kb_EGY"
      },
      "source": [
        "Prima dell'eliminazione dei bucket, copiare in locale i risultati delle esecuzioni del cloud. Si può procedere tramite l'interfaccia grafica di GCP, oppure tramite il notebook, eseguendo la seguente riga di codice:"
      ]
    },
    {
      "cell_type": "code",
      "execution_count": null,
      "metadata": {
        "id": "IOk4GVWhKYHn"
      },
      "outputs": [],
      "source": [
        "!gsutil -m cp -r \"gs://k-mercounting-sec-output\" ."
      ]
    },
    {
      "cell_type": "markdown",
      "metadata": {
        "id": "ZoX9qGB0ALZp"
      },
      "source": [
        "Quindi, eliminare i bucket:"
      ]
    },
    {
      "cell_type": "code",
      "execution_count": null,
      "metadata": {
        "id": "jVEMFRQ8APOq"
      },
      "outputs": [],
      "source": [
        "!gcloud alpha storage rm --recursive {os.getenv(\"DATA_BKT\")}"
      ]
    },
    {
      "cell_type": "code",
      "execution_count": null,
      "metadata": {
        "id": "zhKAQk5xA7Zi"
      },
      "outputs": [],
      "source": [
        "!gcloud alpha storage rm --recursive {os.getenv(\"OUTPUT_BKT\")}"
      ]
    },
    {
      "cell_type": "markdown",
      "metadata": {
        "id": "YEczh-1cJyYJ"
      },
      "source": [
        "## 9. Analisi dei risultati\n",
        "\n",
        "Per concludere, si analizzano i risultati delle esecuzioni cloud.\n",
        "\n",
        "Supponendo di aver eseguito le prove riportate precedentemente ed aver copiato i risultati come indicato nella sezione 8, sarà possibile visualizzare i file di output nella cartella \"k-mercounting-sec-output\" del notebook.\n",
        "\n",
        "Per comodità nella creazione dei grafici, copiare i file in quattro differenti cartelle:"
      ]
    },
    {
      "cell_type": "code",
      "source": [
        "# creazione delle cartelle per i grafici\n",
        "!mkdir plot\n",
        "!mkdir plot/algorithms\n",
        "!mkdir plot/strong\n",
        "!mkdir plot/vertical\n",
        "!mkdir plot/weak"
      ],
      "metadata": {
        "id": "oyT6zPq94pCI"
      },
      "execution_count": 16,
      "outputs": []
    },
    {
      "cell_type": "code",
      "source": [
        "# creazione sottocartelle e copia dei file per il confronto degli algoritmi\n",
        "!mkdir plot/algorithms/dist\n",
        "!mkdir plot/algorithms/lib\n",
        "!mkdir plot/algorithms/par\n",
        "\n",
        "!cp k-mercounting-sec-output/four4std-sc-dist-k3-p8/four4std-sc-dist-k3-p8_part-00000 plot/algorithms/dist\n",
        "!cp k-mercounting-sec-output/single-node-d/single-node-d_part-00000 plot/algorithms/dist\n",
        "!cp k-mercounting-sec-output/two4std-sc-dist/two4std-sc-dist_part-00000 plot/algorithms/dist\n",
        "\n",
        "!cp k-mercounting-sec-output/four4std-sc-libr-k3-p8/four4std-sc-libr-k3-p8_part-00000 plot/algorithms/lib\n",
        "!cp k-mercounting-sec-output/single-node-d-lib/single-node-d-lib_part-00000 plot/algorithms/lib\n",
        "!cp k-mercounting-sec-output/two-4standard-sc-k3-library/two-4standard-sc-k3-library_part-00000 plot/algorithms/lib\n",
        "\n",
        "!cp k-mercounting-sec-output/four4std-sc-par-k3-p8/four4std-sc-par-k3-p8_part-00000 plot/algorithms/par\n",
        "!cp k-mercounting-sec-output/single-node-d-lib/single-node-d-lib_part-00000 plot/algorithms/par\n",
        "!cp k-mercounting-sec-output/two-4standard-sc-k3-parallel/two-4standard-sc-k3-parallel_part-00000 plot/algorithms/par"
      ],
      "metadata": {
        "id": "gRiJPrKPZYZ3"
      },
      "execution_count": null,
      "outputs": []
    },
    {
      "cell_type": "code",
      "source": [
        "# creazione sottocartelle e copia dei file per strong scaling\n",
        "!mkdir plot/strong/dr4\n",
        "!mkdir plot/strong/dr8\n",
        "!mkdir plot/strong/mm\n",
        "\n",
        "!cp k-mercounting-sec-output/five-4standard-d-both1-1/five-4standard-d-both1-1_part-00000 plot/strong/dr4\n",
        "!cp k-mercounting-sec-output/four-4standard-d/four-4standard-d_part-00000 plot/strong/dr4\n",
        "!cp k-mercounting-sec-output/three-4standard-d/three-4standard-d_part-00000 plot/strong/dr4\n",
        "!cp k-mercounting-sec-output/two-4standard-d/two-4standard-d_part-00000 plot/strong/dr4\n",
        "\n",
        "\n",
        "!cp k-mercounting-sec-output/five-4standard-d-k8/five-4standard-d-k8_part-00000 plot/strong/dr8\n",
        "!cp k-mercounting-sec-output/four-4standard-d-k8/four-4standard-d-k8_part-00000 plot/strong/dr8\n",
        "!cp k-mercounting-sec-output/three-4standard-mmk4p32/three-4standard-mmk4p32_part-00000 plot/strong/dr8\n",
        "!cp k-mercounting-sec-output/two-4standard-mm-k8-p32/two-4standard-mm-k8-p32_part-00000 plot/strong/dr8\n",
        "\n",
        "\n",
        "!cp k-mercounting-sec-output/five-4standard-mm/five-4standard-mm_part-00000 plot/strong/mm\n",
        "!cp k-mercounting-sec-output/four-4standard-mm/four-4standard-mm_part-00000 plot/strong/mm\n",
        "!cp k-mercounting-sec-output/three-4standard-mm/three-4standard-mm_part-00000 plot/strong/mm\n",
        "!cp k-mercounting-sec-output/two-4standard-mm/two-4standard-mm_part-00000 plot/strong/mm"
      ],
      "metadata": {
        "id": "HtXU6xSsazPA"
      },
      "execution_count": 20,
      "outputs": []
    },
    {
      "cell_type": "code",
      "source": [
        "# creazione sottocartelle e copia dei file per il vertical scaling\n",
        "!mkdir plot/vertical/dr4\n",
        "!mkdir plot/vertical/dr8\n",
        "\n",
        "!cp k-mercounting-sec-output/two-4standard-d/two-4standard-d_part-0000 plot/vertical/dr4\n",
        "!cp k-mercounting-sec-output/two-8standard32-d/two-8standard32-d_part-00000 plot/vertical/dr4\n",
        "\n",
        "!cp k-mercounting-sec-output/two-4standard-mm-k8-p32/two-4standard-mm-k8-p32_part-00000 plot/vertical/dr8\n",
        "!cp k-mercounting-sec-output/two-8standard-d/two-8standard-d-k8_part-00000 plot/vertical/dr8"
      ],
      "metadata": {
        "id": "_lOWvn63dCwq"
      },
      "execution_count": 21,
      "outputs": []
    },
    {
      "cell_type": "code",
      "source": [
        "# creazione sottocartelle e copia dei file per il weak scaling\n",
        "!cp k-mercounting-sec-output/five-4standard-mm/five-4standard-mm_part-00000 plot/weak\n",
        "!cp k-mercounting-sec-output/four-4standard-sc/four-4standard-sc_part-00000 plot/weak\n",
        "!cp k-mercounting-sec-output/three-4standard-d/three-4standard-d_part-00000 plot/weak\n",
        "!cp k-mercounting-sec-output/two4std-sc-dist/two4std-sc-dist_part-00000 plot/weak"
      ],
      "metadata": {
        "id": "IK4ghfvQeXEg"
      },
      "execution_count": null,
      "outputs": []
    },
    {
      "cell_type": "markdown",
      "source": [
        "### i. Creazione del grafico per il **confronto degli algoritmi**\n",
        "\n",
        "I tre algoritmi (algoritmo distribuito, di libreria e parallelo), vengono messi a confronto con le prove eseguite sul genoma del Saccharomyces cerevisiae. In particolare, le prove sono state eseguite per una **conta *non canonica*** dei ***k-mer* di lunghezza 3**, sui seguenti tre cluster:\n",
        "\n",
        "*   cluster a singolo nodo;\n",
        "*   cluster `n1-standard-4` con 2 worker;\n",
        "*   cluster `n1-standard-4` con 4 worker.\n",
        "\n"
      ],
      "metadata": {
        "id": "1h5KyrgvfVkY"
      }
    },
    {
      "cell_type": "code",
      "source": [
        "import numpy as np\n",
        "import matplotlib as mpl\n",
        "import matplotlib.pyplot as plt\n",
        "from matplotlib import colormaps\n",
        "import os\n",
        "\n",
        "dir_dist = 'plot/algorithms/dist'\n",
        "dir_par = 'plot/algorithms/par'\n",
        "dir_lib = 'plot/algorithms/lib'\n",
        "\n",
        "algorithms = (\"Distributed\", \"Library\", \"Parallel\")\n",
        "alg_stats = {\"single node\":(), \"2 workers\":(), \"4 workers\":()}\n",
        "times = {'Distributed':[], 'Library':[], 'Parallel':[]}\n",
        "\n",
        "for file in os.listdir(dir_dist):\n",
        "  file_path = dir_dist + \"/\" + file\n",
        "  with open(file_path) as reads:\n",
        "    exeTime = float(reads.readline().split(',', 1)[0].strip('#').strip())\n",
        "    times['Distributed'].append(exeTime)\n",
        "\n",
        "for file in os.listdir(dir_lib):\n",
        "  file_path = dir_lib + \"/\" + file\n",
        "  with open(file_path) as reads:\n",
        "    exeTime = float(reads.readline().split(',', 1)[0].strip('#').strip())\n",
        "    times['Library'].append(exeTime)\n",
        "\n",
        "for file in os.listdir(dir_par):\n",
        "  file_path = dir_par + \"/\" + file\n",
        "  with open(file_path) as reads:\n",
        "    exeTime = float(reads.readline().split(',', 1)[0].strip('#').strip())\n",
        "    times['Parallel'].append(exeTime)\n",
        "\n",
        "alg_stats[\"4 workers\"] = (times[\"Distributed\"][0],times[\"Library\"][0],times[\"Parallel\"][0])\n",
        "alg_stats[\"single node\"] = (times[\"Distributed\"][1],times[\"Library\"][1],times[\"Parallel\"][1])\n",
        "alg_stats[\"2 workers\"] = (times[\"Distributed\"][2],times[\"Library\"][2],times[\"Parallel\"][2])\n",
        "# colors = {\"4 workers\":'#8cc1a7', \"2 workers\":'#5c82a6', \"single node\":'#e5b9b0'}\n",
        "colors = {\"5 workers\":'#66669e', \"4 workers\":'#8f8ec9',\"3 workers\":'#babae0', \"2 workers\":'#c9cb59', \"single node\":'#a19830'}\n",
        "\n",
        "\n",
        "x = np.arange(len(algorithms))  #label\n",
        "width = 0.25\n",
        "multiplier = 0\n",
        "\n",
        "\n",
        "fig, ax = plt.subplots(layout='constrained')\n",
        "plt.rcParams.update({'font.size': 9})\n",
        "\n",
        "for attribute, measurement in alg_stats.items():\n",
        "    offset = width * multiplier\n",
        "    rects = ax.bar(x + offset, measurement, width, label=attribute, color=colors[attribute])\n",
        "    ax.bar_label(rects, padding=4, fmt='%.2f')\n",
        "    multiplier += 1\n",
        "\n",
        "# Add some text for labels, title and custom x-axis tick labels, etc.\n",
        "ax.set_ylabel('Execution (s)')\n",
        "ax.set_title('Algorithm comparison')\n",
        "ax.set_xticks(x + width, algorithms)\n",
        "ax.legend(loc='upper center', ncols=3)\n",
        "ax.set_ylim(0, max(alg_stats[\"single node\"])+20)\n",
        "\n",
        "plt.show()\n",
        ""
      ],
      "metadata": {
        "colab": {
          "base_uri": "https://localhost:8080/",
          "height": 508
        },
        "id": "xMeLYGPFfb8h",
        "outputId": "5032ee79-55f9-484b-d751-ca40854a9597"
      },
      "execution_count": 75,
      "outputs": [
        {
          "output_type": "display_data",
          "data": {
            "text/plain": [
              "<Figure size 640x480 with 1 Axes>"
            ],
            "image/png": "[encoded data removed]"
          },
          "metadata": {}
        }
      ]
    },
    {
      "cell_type": "markdown",
      "source": [
        "Da questo confronto è evidente come le versioni distribuita e parallela dell'algoritmo siano notevolmente più efficienti della versione di libreria.\n",
        "\n",
        "Come prevedibile, la versione parallela non mostra nessun significativo miglioramento delle prestazioni dal passaggio a cluster di più nodi rispetto al caso di singolo nodo, non potendo sfruttare le potenzialità del cluster distribuito.\n",
        "\n",
        "Un leggero miglioramento nel passaggio da single-node a cluster con 2 worker è visibile nel caso distribuito e di libreria, sebbene lo speed-up sia minimo, e non si possa estendere al successivo passaggio al cluster con 4 worker.\n",
        "Questo può essere spiegato considerando le dimensioni del file genomico in esame: siccome il file del Saccharomyces cerevisiae ha dimensioni ridotte, cluster di eccessive dimensioni (4 worker, in questo caso) introducono un tempo di overhead non trascurabile, che rendono meno efficiente l'esecuzione rispetto alle prestazioni su cluster più piccolo.\n",
        "\n",
        "Similmente si potrebbe dire sul confronto delle prestazioni degli algoritmi distribuiti e paralleli: date le ridotte dimensioni del file genomico, la versione parallela performa meglio di quella distribuita dove diventano non trascurabili i tempi di gestione del cluster.\n",
        "\n",
        "Infine, si evidenzia che non è stato possibile portare a termine l'esecuzione degli algoritmi parallelo e di libreria su file genomici di maggiori dimensioni, in particolare del file genomico Drosophila melanogaster, a causa di errori di memoria. Per questo motivo i successivi confronti mostreranno solamente le esecuzioni dell'algoritmo distribuito."
      ],
      "metadata": {
        "id": "cScB45eaQq9o"
      }
    },
    {
      "cell_type": "markdown",
      "source": [
        "### ii. Creazione del grafico per il ***vertical scaling***\n",
        "\n",
        "Per effettuare una analisi sul vertical scaling (l'aggiunta di risorse con più capacità) si mettono a confronto le prove eseguite con l'algoritmo **distribuito** sul genoma *Drosophila melanogaster*. In particolare, si confronta lo scaling di dal cluster `n1-standard-4` con 2 worker al cluster `n1-standard-8` con 2 worker, in due casi specifici:\n",
        "\n",
        "*   conta dei k-mer di lunghezza 4 (k = 4);\n",
        "*   conta dei k-mer di lunghezza 8 (k = 8)."
      ],
      "metadata": {
        "id": "NpdmwEGmhAq8"
      }
    },
    {
      "cell_type": "code",
      "source": [
        "import numpy as np\n",
        "import matplotlib as mpl\n",
        "import matplotlib.pyplot as plt\n",
        "from matplotlib import colormaps\n",
        "import os\n",
        "\n",
        "dir_dr4 = 'plot/vertical/dr4'\n",
        "dir_dr8 = 'plot/vertical/dr8'\n",
        "\n",
        "kmers = (\"k = 4\", \"k = 8\")\n",
        "alg_stats = {\"2 workers n1-standard-4\":(), \"2 workers n1-standard-8\":()}\n",
        "times = {'k = 4':[], 'k = 8':[]}\n",
        "\n",
        "for file in os.listdir(dir_dr4):\n",
        "  file_path = dir_dr4 + \"/\" + file\n",
        "  with open(file_path) as reads:\n",
        "    exeTime = float(reads.readline().split(',', 1)[0].strip('#').strip())\n",
        "    times['k = 4'].append(exeTime)\n",
        "\n",
        "for file in os.listdir(dir_dr8):\n",
        "  file_path = dir_dr8 + \"/\" + file\n",
        "  with open(file_path) as reads:\n",
        "    exeTime = float(reads.readline().split(',', 1)[0].strip('#').strip())\n",
        "    times['k = 8'].append(exeTime)\n",
        "\n",
        "alg_stats[\"2 workers n1-standard-4\"] = (times[\"k = 4\"][1],times[\"k = 8\"][1])\n",
        "alg_stats[\"2 workers n1-standard-8\"] = (times[\"k = 4\"][0],times[\"k = 8\"][0])\n",
        "# colors = {\"5 workers\":'#66669e', \"4 workers\":'#8f8ec9',\"3 workers\":'#babae0', \"2 workers\":'#c9cb59', \"single node\":'#a19830'}\n",
        "colors = {\"2 workers n1-standard-4\":'#996675', \"2 workers n1-standard-8\":'#d2d59b'}\n",
        "\n",
        "\n",
        "x = np.arange(len(kmers))  #label\n",
        "width = 0.25\n",
        "multiplier = 0\n",
        "\n",
        "\n",
        "fig, ax = plt.subplots(layout='constrained')\n",
        "plt.rcParams.update({'font.size': 9})\n",
        "\n",
        "for attribute, measurement in alg_stats.items():\n",
        "    offset = width * multiplier\n",
        "    rects = ax.bar(x + offset, measurement, width, label=attribute, color=colors[attribute])\n",
        "    ax.bar_label(rects, padding=4, fmt='%.2f')\n",
        "    multiplier += 1\n",
        "\n",
        "# Add some text for labels, title and custom x-axis tick labels, etc.\n",
        "ax.set_ylabel('Execution (s)')\n",
        "ax.set_title('Vertical scaling')\n",
        "ax.set_xticks(x + width, kmers)\n",
        "ax.legend(loc='upper center', ncols=3)\n",
        "ax.set_ylim(0, max(times[\"k = 8\"])+70)\n",
        "\n",
        "plt.show()\n",
        ""
      ],
      "metadata": {
        "colab": {
          "base_uri": "https://localhost:8080/",
          "height": 508
        },
        "id": "tXukQsCXhYRI",
        "outputId": "6f195045-7124-4c84-e6fe-c6687345fc8a"
      },
      "execution_count": 113,
      "outputs": [
        {
          "output_type": "display_data",
          "data": {
            "text/plain": [
              "<Figure size 640x480 with 1 Axes>"
            ],
            "image/png": "[encoded data removed]"
          },
          "metadata": {}
        }
      ]
    },
    {
      "cell_type": "markdown",
      "source": [
        "Sa questo grafico è possibile vedere come le prestazioni dell'algoritmo distribuito sono comparabili nei casi della ricerca dei kmer di lunghezza differente (4 e 8). Inoltre, l'algoritmo beneficia dell'aumento delle capacità di calcolo dei cluster, che passano da 4 vCPU a 8 vCPu per nodo.\n"
      ],
      "metadata": {
        "id": "8Ef8UaMIUKva"
      }
    },
    {
      "cell_type": "markdown",
      "source": [
        "### iii. Creazione del grafico per il ***weak scaling***\n",
        "\n",
        "Per effettuare una analisi sul weak scaling si mettono a confronto i tempi di cluster differenti su altrettanti dataset, al fine di osservare il comportamento delle esecuzioni distribuite con l'aumento progressivo delle capacità del cluster e della dimensione del file input.\n",
        "\n",
        "In particolare, le prove svolte sono state effettuate con l'algoritmo **distribuito** per una conta dei kmer di lunghezza 4, su cluster di tipo `n1-standard-4`. I differenti file genomici sono stati testati su cluster con il seguente numero di worker:\n",
        "\n",
        "\n",
        "*   Saccharomyces cerevisiae (12.1 *M base*) su cluster con **2 worker**;\n",
        "*   Drosophila melanogaster (143.7 *M base*) su cluster con **3 worker**;\n",
        "*   Serinus canaria (1.1 *G base*) su cluster con **4 worker**;\n",
        "*   Mus musculus (2.7 *G base*) su cluster con **5 worker**.\n",
        "\n"
      ],
      "metadata": {
        "id": "2gmldr1LhN6i"
      }
    },
    {
      "cell_type": "code",
      "source": [
        "import numpy as np\n",
        "import matplotlib as mpl\n",
        "import matplotlib.pyplot as plt\n",
        "from matplotlib import colormaps\n",
        "import os\n",
        "\n",
        "dir_dist = 'plot/weak'\n",
        "\n",
        "genome = (\"Saccharomyces cerevisiae\", \"Drosophila melanogaster\", \"Serinus canaria\", \"Mus musculus\")\n",
        "alg_stats = []\n",
        "clusters = [\"2 workers\", \"3 workers\", \"4 workers\", \"5 workers\"]\n",
        "\n",
        "with open(\"plot/weak/two4std-sc-dist_part-00000\") as reads:\n",
        "   alg_stats.append(float(reads.readline().split(',', 1)[0].strip('#').strip()))\n",
        "with open(\"plot/weak/three-4standard-d_part-00000\") as reads:\n",
        "  alg_stats.append(float(reads.readline().split(',', 1)[0].strip('#').strip()))\n",
        "with open(\"plot/weak/four-4standard-sc_part-00000\") as reads:\n",
        "  alg_stats.append(float(reads.readline().split(',', 1)[0].strip('#').strip()))\n",
        "with open(\"plot/weak/five-4standard-mm_part-00000\") as reads:\n",
        "  alg_stats.append(float(reads.readline().split(',', 1)[0].strip('#').strip()))\n",
        "\n",
        "bar_colors = ['#c9cb59', '#babae0', '#8f8ec9', '#66669e']\n",
        "\n",
        "fig, ax = plt.subplots(figsize = (10, 6))\n",
        "rects = ax.bar(genome, alg_stats, label=clusters, color=bar_colors)\n",
        "ax.bar_label(rects, padding=4, fmt='%.0f')\n",
        "\n",
        "# Add some text for labels, title and custom x-axis tick labels, etc.\n",
        "ax.set_ylabel('Execution (s)')\n",
        "ax.set_title('Weak scaling')\n",
        "ax.legend(loc='upper center', ncols=3)\n",
        "ax.set_ylim(0, max(alg_stats)+0.1*max(alg_stats))\n",
        "\n",
        "plt.show()\n",
        ""
      ],
      "metadata": {
        "colab": {
          "base_uri": "https://localhost:8080/",
          "height": 542
        },
        "id": "BJmKyMwdhZAG",
        "outputId": "6d746bfc-26e9-40b3-ba14-b363ed9f1f0c"
      },
      "execution_count": 112,
      "outputs": [
        {
          "output_type": "display_data",
          "data": {
            "text/plain": [
              "<Figure size 1000x600 with 1 Axes>"
            ],
            "image/png": "[encoded data removed]"
          },
          "metadata": {}
        }
      ]
    },
    {
      "cell_type": "markdown",
      "source": [
        "Da questo grafico può sembrare che l'algoritmo distribuito non beneficia del weak scaling, in quanto i tempi di esecuzione crescono notevolmente, in particolare nel caso di Serinus canaria e Mus musculus.\n",
        "\n",
        "Tuttavia, questo è probabilmente dovuto alla sbagliata scelta delle coppie *genoma-cluster* testati. Infatti, un più corretto e significativo studio del weak scaling avrebbe confrontato esecuzioni in cui la dimensione del problema rimaneva costante per processore, cosa non valida per gli esempi in esame.\n",
        "\n",
        "La scelta dei genomi è stata fatta per selezionare organismi frequentemente studiati, ma in questo modo non è stato possibile selezionare il cluster più adatto per ogni genoma a causa delle limitazioni nel numero di CPU utilizzabili.\n",
        "\n",
        "Concludendo, sebbene questo confronto non sia significativo, in coerenza con gli altri risultati, si suppone che scegliendo cluster di maggiori dimensioni e dalle maggiori capacità sarebbe possibile osservare un notevole miglioramento delle prestazioni."
      ],
      "metadata": {
        "id": "M4yrpE7IVUjU"
      }
    },
    {
      "cell_type": "markdown",
      "source": [
        "### iV. Creazione del grafico per il ***strong scaling***\n",
        "\n",
        "L'analisi dello strong scaling è stato effettuato confrontando i tempi di esecuzione dell'algoritmo **distribuito** su un unico file genomico, al variare della grandezza del cluster.\n",
        "\n",
        "In particolare, questo è stato svolto per tre differenti casi:\n",
        "\n",
        "\n",
        "*   conta dei kmer di lunghezza **4** di *Drosophila melanogaster*;\n",
        "*   conta dei kmer di lunghezza **8** di *Drosophila melanogaster*;\n",
        "*   conta dei kmer di lunghezza **4** di *Mus musculus*.\n",
        "\n",
        "Per ognuno dei tre casi riportati, la stessa conta è stata svolta su quatto cluster differenti:\n",
        "\n",
        "\n",
        "*   custer `n1-standard-4` con 2 worker;\n",
        "*   custer `n1-standard-4` con 3 worker;\n",
        "*   custer `n1-standard-4` con 4 worker;\n",
        "*   custer `n1-standard-4` con 5 worker.\n",
        "\n",
        "\n",
        "\n"
      ],
      "metadata": {
        "id": "2kiuxBcohTcH"
      }
    },
    {
      "cell_type": "code",
      "source": [
        "import numpy as np\n",
        "import matplotlib as mpl\n",
        "import matplotlib.pyplot as plt\n",
        "from matplotlib import colormaps\n",
        "import os\n",
        "\n",
        "dir_dr4 = 'plot/strong/dr4'\n",
        "dir_dr8 = 'plot/strong/dr8'\n",
        "dir_mm = 'plot/strong/mm'\n",
        "\n",
        "genome = (\"Drosophila melanogaster (k = 4)\", \"Drosophila melanogaster (k = 8)\")\n",
        "genome_2 = (\"Mus musculus\",)\n",
        "alg_stats = {\"2 workers\":(), \"3 workers\":(), \"4 workers\":(), \"5 workers\":()}\n",
        "times = {'Drosophila melanogaster (k = 4)':[], 'Drosophila melanogaster (k = 8)':[], 'Mus musculus':[]}\n",
        "\n",
        "for file in os.listdir(dir_dr4):\n",
        "  file_path = dir_dr4 + \"/\" + file\n",
        "  with open(file_path) as reads:\n",
        "    exeTime = float(reads.readline().split(',', 1)[0].strip('#').strip())\n",
        "    times['Drosophila melanogaster (k = 4)'].append(exeTime)\n",
        "\n",
        "for file in os.listdir(dir_dr8):\n",
        "  file_path = dir_dr8 + \"/\" + file\n",
        "  with open(file_path) as reads:\n",
        "    exeTime = float(reads.readline().split(',', 1)[0].strip('#').strip())\n",
        "    times['Drosophila melanogaster (k = 8)'].append(exeTime)\n",
        "\n",
        "for file in os.listdir(dir_mm):\n",
        "  file_path = dir_mm + \"/\" + file\n",
        "  with open(file_path) as reads:\n",
        "    exeTime = float(reads.readline().split(',', 1)[0].strip('#').strip())\n",
        "    times['Mus musculus'].append(exeTime)\n",
        "\n",
        "alg_stats[\"2 workers\"] = (times[genome[0]][2],times[genome[1]][1])\n",
        "alg_stats[\"3 workers\"] = (times[genome[0]][0],times[genome[1]][3])\n",
        "alg_stats[\"4 workers\"] = (times[genome[0]][1],times[genome[1]][2])\n",
        "alg_stats[\"5 workers\"] = (times[genome[0]][3],times[genome[1]][0])\n",
        "\n",
        "alg_stats_2 = {\"2 workers\":(times[genome_2[0]][2],),\n",
        "               \"3 workers\":(times[genome_2[0]][0],),\n",
        "               \"4 workers\":(times[genome_2[0]][3],),\n",
        "               \"5 workers\":(times[genome_2[0]][1],),}\n",
        "\n",
        "colors = {\"5 workers\":'#66669e', \"4 workers\":'#8f8ec9',\"3 workers\":'#babae0', \"2 workers\":'#c9cb59', \"single node\":'#a19830'}\n",
        "\n",
        "\n",
        "x = np.arange(len(genome))  #label\n",
        "x1 = np.arange(len(genome_2))  #label\n",
        "width = 0.22\n",
        "multiplier = 0\n",
        "\n",
        "\n",
        "# fig, ax = plt.subplots(layout='constrained')\n",
        "fig, (ax1, ax2) = plt.subplots(1, 2, layout='constrained', figsize=(10,5))\n",
        "plt.rcParams.update({'font.size': 9})\n",
        "\n",
        "for attribute, measurement in alg_stats.items():\n",
        "    offset = width * multiplier\n",
        "    rects = ax1.bar(x + offset, measurement, width, label=attribute, color=colors[attribute])\n",
        "    ax1.bar_label(rects, padding=4, fmt='%.0f')\n",
        "    multiplier += 1\n",
        "\n",
        "ax1.set_ylabel('Execution (s)')\n",
        "fig.suptitle('Strong scaling', y=1.1)\n",
        "ax1.set_xticks(x + width*1.5, genome)\n",
        "fig.legend(loc='upper center', ncols=4, bbox_to_anchor=(0.5,1.07), bbox_transform=fig.transFigure)\n",
        "ax1.set_ylim(0, max(  times[genome[1]])+50)\n",
        "\n",
        "\n",
        "ax2.set_ylabel('Execution (s)')\n",
        "multiplier = 0\n",
        "for attribute, measurement in alg_stats_2.items():\n",
        "    offset = width* multiplier\n",
        "    rects2 = ax2.bar(x1 + offset, measurement, width, label = attribute, color=colors[attribute])\n",
        "    ax2.bar_label(rects2, padding=4, fmt='%.0f')\n",
        "    multiplier += 1\n",
        "\n",
        "# ax2.bar_label(rects, padding=4, fmt='%.0f')\n",
        "ax2.set_ylim(0, max( times[genome_2[0]])+500)\n",
        "ax2.set_xticks(x1+width*1.5, genome_2)\n",
        "\n",
        "plt.show()\n",
        "\n",
        "#TODO controlla valori perchè sono sicuramente disordinati"
      ],
      "metadata": {
        "colab": {
          "base_uri": "https://localhost:8080/",
          "height": 582
        },
        "id": "jhdN4vhPhZ4z",
        "outputId": "e7a99ab8-ac19-4b5e-aca5-8b2f04bd116a"
      },
      "execution_count": 16,
      "outputs": [
        {
          "output_type": "display_data",
          "data": {
            "text/plain": [
              "<Figure size 1000x500 with 2 Axes>"
            ],
            "image/png": "[encoded data removed]"
          },
          "metadata": {}
        }
      ]
    },
    {
      "cell_type": "markdown",
      "source": [
        "Da questo confronto è possibile vedere come l'algoritmo distribuito beneficia dello strong scaling. Le prestazioni delle esecuzioni migliorano, infatti, con l'aumentare della dimensione del cluster.\n",
        "\n",
        "Il migliore speed-up è osservabile nel caso dell'esecuzione su kmer di lunghezza 4 di Drosophila melanogaster. Nel caso di kmer di lunghezza 8, sebbene le prestazioni non siano dissimili dal caso precedente, è visibile un minore miglioramento nel passaggio da 3, 4 e 5 worker. Questo può essere spiegato osservando l'aumento della complessità per l'estrazione e la memorizzazione di frammenti genomici di lunghezza superiore. Un migliore speed-up si potrebbe osservare selezionando cluster di macchine otimizzate per la memoria.\n",
        "\n",
        "Infine, coerentemente con quanto evidenziato nel grafico del weak scaling, sebbene sia osservabile uno speed-up anche nel caso di esecuzione sul genoma Mus musculus, un miglioramento di prestazioni così minimale può essere spiegato con le grandi dimensioni del file genomico. Anche in questo caso, cluster più potenti mostrerebbero probabilmente un migliore speed-up."
      ],
      "metadata": {
        "id": "CghpUFI4Y9jG"
      }
    },
    {
      "cell_type": "markdown",
      "source": [
        "## 10. Conclusioni\n",
        "\n",
        "Dalle esecuzioni svolte e dai confronti effettuati nei grafici è possibile affermare che, complessivamente, l'algoritmo di estrazione dei kmer giova dell'approccio map-reduce e dell'esecuzione distribuita.\n",
        "Miglioramenti più ridotti si hanno in caso di genomi di grandi dimensioni (come Mus musculus), per i quali sarebbe necessario l'utilizzo di cluster più complessi.\n",
        "\n",
        "Per genomi di piccole dimensioni, come il Saccharomyces cerevisiae, l'algoritmo parallelo è più indicato, mentre per genomi più grandi risulta inutilizzabile (esattamente come la versione di libreria)."
      ],
      "metadata": {
        "id": "w8sYdHDcQje9"
      }
    }
  ],
  "metadata": {
    "colab": {
      "provenance": [],
      "toc_visible": true
    },
    "kernelspec": {
      "display_name": "Python 3",
      "name": "python3"
    },
    "language_info": {
      "name": "python"
    }
  },
  "nbformat": 4,
  "nbformat_minor": 0
}